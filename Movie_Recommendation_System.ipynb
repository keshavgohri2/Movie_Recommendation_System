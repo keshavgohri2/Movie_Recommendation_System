{
  "nbformat": 4,
  "nbformat_minor": 0,
  "metadata": {
    "colab": {
      "provenance": []
    },
    "kernelspec": {
      "name": "python3",
      "display_name": "Python 3"
    },
    "language_info": {
      "name": "python"
    }
  },
  "cells": [
    {
      "cell_type": "markdown",
      "source": [
        "## Movie recommendation system\n",
        "Data and Libraries:\n",
        "\n",
        "You'll need two datasets:\n",
        "User-movie ratings: This contains user IDs, movie IDs, and ratings (e.g., 1-5 stars).\n",
        "Movie information: This includes details like title, genre, director, etc.\n",
        "Libraries like Pandas for data manipulation and Scikit-learn for machine learning algorithms are essential.\n",
        "Approaches:\n",
        "\n",
        "There are two main approaches for recommendations:\n",
        "\n",
        "Collaborative Filtering: This analyzes how similar users are based on their ratings and recommends movies enjoyed by users with similar tastes.\n",
        "Content-based Filtering: This focuses on movie attributes. If a user likes comedies, the system recommends similar comedic movies.\n",
        "Implementation Steps:\n",
        "\n",
        "Data Preprocessing: Clean and prepare the data by handling missing values and merging datasets.\n",
        "Model Building:\n",
        "Collaborative Filtering: Create a user-movie rating matrix and use techniques like Singular Value Decomposition (SVD) to find user and movie relationships.\n",
        "Content-based Filtering: Represent movies with features (genres, actors) and use similarity measures (cosine similarity) to recommend similar ones.\n",
        "Recommendation Generation: Based on the chosen approach, predict ratings for unrated movies or identify similar movies for recommendations."
      ],
      "metadata": {
        "id": "mpuNvZoH_jUQ"
      }
    },
    {
      "cell_type": "markdown",
      "source": [
        "##import libraries\n"
      ],
      "metadata": {
        "id": "girU0oc5Amk6"
      }
    },
    {
      "cell_type": "code",
      "source": [
        "import pandas as pd\n",
        "import numpy as np"
      ],
      "metadata": {
        "id": "KJKAJoYb_n9Q"
      },
      "execution_count": 1,
      "outputs": []
    },
    {
      "cell_type": "markdown",
      "source": [
        "##Import Dataset"
      ],
      "metadata": {
        "id": "5CE8kSKRCOVo"
      }
    },
    {
      "cell_type": "code",
      "source": [
        "df = pd.read_csv(r'https://raw.githubusercontent.com/YBI-Foundation/Dataset/main/Movies%20Recommendation.csv')"
      ],
      "metadata": {
        "id": "CZ_4Htz1CSNh"
      },
      "execution_count": 2,
      "outputs": []
    },
    {
      "cell_type": "code",
      "source": [
        "df.head()"
      ],
      "metadata": {
        "colab": {
          "base_uri": "https://localhost:8080/",
          "height": 672
        },
        "id": "esLOIGxLL7le",
        "outputId": "23f25357-208b-4236-88fa-d2604da3638b"
      },
      "execution_count": 3,
      "outputs": [
        {
          "output_type": "execute_result",
          "data": {
            "text/plain": [
              "   Movie_ID      Movie_Title                       Movie_Genre Movie_Language  \\\n",
              "0         1       Four Rooms                      Crime Comedy             en   \n",
              "1         2        Star Wars  Adventure Action Science Fiction             en   \n",
              "2         3     Finding Nemo                  Animation Family             en   \n",
              "3         4     Forrest Gump              Comedy Drama Romance             en   \n",
              "4         5  American Beauty                             Drama             en   \n",
              "\n",
              "   Movie_Budget  Movie_Popularity Movie_Release_Date  Movie_Revenue  \\\n",
              "0       4000000         22.876230         09-12-1995        4300000   \n",
              "1      11000000        126.393695         25-05-1977      775398007   \n",
              "2      94000000         85.688789         30-05-2003      940335536   \n",
              "3      55000000        138.133331         06-07-1994      677945399   \n",
              "4      15000000         80.878605         15-09-1999      356296601   \n",
              "\n",
              "   Movie_Runtime  Movie_Vote  ...  \\\n",
              "0           98.0         6.5  ...   \n",
              "1          121.0         8.1  ...   \n",
              "2          100.0         7.6  ...   \n",
              "3          142.0         8.2  ...   \n",
              "4          122.0         7.9  ...   \n",
              "\n",
              "                                      Movie_Homepage  \\\n",
              "0                                                NaN   \n",
              "1  http://www.starwars.com/films/star-wars-episod...   \n",
              "2              http://movies.disney.com/finding-nemo   \n",
              "3                                                NaN   \n",
              "4                      http://www.dreamworks.com/ab/   \n",
              "\n",
              "                                      Movie_Keywords  \\\n",
              "0          hotel new year's eve witch bet hotel room   \n",
              "1        android galaxy hermit death star lightsaber   \n",
              "2  father son relationship harbor underwater fish...   \n",
              "3  vietnam veteran hippie mentally disabled runni...   \n",
              "4  male nudity female nudity adultery midlife cri...   \n",
              "\n",
              "                                      Movie_Overview  \\\n",
              "0  It's Ted the Bellhop's first night on the job....   \n",
              "1  Princess Leia is captured and held hostage by ...   \n",
              "2  Nemo, an adventurous young clownfish, is unexp...   \n",
              "3  A man with a low IQ has accomplished great thi...   \n",
              "4  Lester Burnham, a depressed suburban father in...   \n",
              "\n",
              "                              Movie_Production_House  \\\n",
              "0  [{\"name\": \"Miramax Films\", \"id\": 14}, {\"name\":...   \n",
              "1  [{\"name\": \"Lucasfilm\", \"id\": 1}, {\"name\": \"Twe...   \n",
              "2     [{\"name\": \"Pixar Animation Studios\", \"id\": 3}]   \n",
              "3          [{\"name\": \"Paramount Pictures\", \"id\": 4}]   \n",
              "4  [{\"name\": \"DreamWorks SKG\", \"id\": 27}, {\"name\"...   \n",
              "\n",
              "                            Movie_Production_Country  \\\n",
              "0  [{\"iso_3166_1\": \"US\", \"name\": \"United States o...   \n",
              "1  [{\"iso_3166_1\": \"US\", \"name\": \"United States o...   \n",
              "2  [{\"iso_3166_1\": \"US\", \"name\": \"United States o...   \n",
              "3  [{\"iso_3166_1\": \"US\", \"name\": \"United States o...   \n",
              "4  [{\"iso_3166_1\": \"US\", \"name\": \"United States o...   \n",
              "\n",
              "                      Movie_Spoken_Language  \\\n",
              "0  [{\"iso_639_1\": \"en\", \"name\": \"English\"}]   \n",
              "1  [{\"iso_639_1\": \"en\", \"name\": \"English\"}]   \n",
              "2  [{\"iso_639_1\": \"en\", \"name\": \"English\"}]   \n",
              "3  [{\"iso_639_1\": \"en\", \"name\": \"English\"}]   \n",
              "4  [{\"iso_639_1\": \"en\", \"name\": \"English\"}]   \n",
              "\n",
              "                                       Movie_Tagline  \\\n",
              "0  Twelve outrageous guests. Four scandalous requ...   \n",
              "1       A long time ago in a galaxy far, far away...   \n",
              "2  There are 3.7 trillion fish in the ocean, they...   \n",
              "3  The world will never be the same, once you've ...   \n",
              "4                                       Look closer.   \n",
              "\n",
              "                                          Movie_Cast  \\\n",
              "0  Tim Roth Antonio Banderas Jennifer Beals Madon...   \n",
              "1  Mark Hamill Harrison Ford Carrie Fisher Peter ...   \n",
              "2  Albert Brooks Ellen DeGeneres Alexander Gould ...   \n",
              "3  Tom Hanks Robin Wright Gary Sinise Mykelti Wil...   \n",
              "4  Kevin Spacey Annette Bening Thora Birch Wes Be...   \n",
              "\n",
              "                                          Movie_Crew   Movie_Director  \n",
              "0  [{'name': 'Allison Anders', 'gender': 1, 'depa...   Allison Anders  \n",
              "1  [{'name': 'George Lucas', 'gender': 2, 'depart...     George Lucas  \n",
              "2  [{'name': 'Andrew Stanton', 'gender': 2, 'depa...   Andrew Stanton  \n",
              "3  [{'name': 'Alan Silvestri', 'gender': 2, 'depa...  Robert Zemeckis  \n",
              "4  [{'name': 'Thomas Newman', 'gender': 2, 'depar...       Sam Mendes  \n",
              "\n",
              "[5 rows x 21 columns]"
            ],
            "text/html": [
              "\n",
              "  <div id=\"df-8b51d912-b861-4164-9ece-294deb77df21\" class=\"colab-df-container\">\n",
              "    <div>\n",
              "<style scoped>\n",
              "    .dataframe tbody tr th:only-of-type {\n",
              "        vertical-align: middle;\n",
              "    }\n",
              "\n",
              "    .dataframe tbody tr th {\n",
              "        vertical-align: top;\n",
              "    }\n",
              "\n",
              "    .dataframe thead th {\n",
              "        text-align: right;\n",
              "    }\n",
              "</style>\n",
              "<table border=\"1\" class=\"dataframe\">\n",
              "  <thead>\n",
              "    <tr style=\"text-align: right;\">\n",
              "      <th></th>\n",
              "      <th>Movie_ID</th>\n",
              "      <th>Movie_Title</th>\n",
              "      <th>Movie_Genre</th>\n",
              "      <th>Movie_Language</th>\n",
              "      <th>Movie_Budget</th>\n",
              "      <th>Movie_Popularity</th>\n",
              "      <th>Movie_Release_Date</th>\n",
              "      <th>Movie_Revenue</th>\n",
              "      <th>Movie_Runtime</th>\n",
              "      <th>Movie_Vote</th>\n",
              "      <th>...</th>\n",
              "      <th>Movie_Homepage</th>\n",
              "      <th>Movie_Keywords</th>\n",
              "      <th>Movie_Overview</th>\n",
              "      <th>Movie_Production_House</th>\n",
              "      <th>Movie_Production_Country</th>\n",
              "      <th>Movie_Spoken_Language</th>\n",
              "      <th>Movie_Tagline</th>\n",
              "      <th>Movie_Cast</th>\n",
              "      <th>Movie_Crew</th>\n",
              "      <th>Movie_Director</th>\n",
              "    </tr>\n",
              "  </thead>\n",
              "  <tbody>\n",
              "    <tr>\n",
              "      <th>0</th>\n",
              "      <td>1</td>\n",
              "      <td>Four Rooms</td>\n",
              "      <td>Crime Comedy</td>\n",
              "      <td>en</td>\n",
              "      <td>4000000</td>\n",
              "      <td>22.876230</td>\n",
              "      <td>09-12-1995</td>\n",
              "      <td>4300000</td>\n",
              "      <td>98.0</td>\n",
              "      <td>6.5</td>\n",
              "      <td>...</td>\n",
              "      <td>NaN</td>\n",
              "      <td>hotel new year's eve witch bet hotel room</td>\n",
              "      <td>It's Ted the Bellhop's first night on the job....</td>\n",
              "      <td>[{\"name\": \"Miramax Films\", \"id\": 14}, {\"name\":...</td>\n",
              "      <td>[{\"iso_3166_1\": \"US\", \"name\": \"United States o...</td>\n",
              "      <td>[{\"iso_639_1\": \"en\", \"name\": \"English\"}]</td>\n",
              "      <td>Twelve outrageous guests. Four scandalous requ...</td>\n",
              "      <td>Tim Roth Antonio Banderas Jennifer Beals Madon...</td>\n",
              "      <td>[{'name': 'Allison Anders', 'gender': 1, 'depa...</td>\n",
              "      <td>Allison Anders</td>\n",
              "    </tr>\n",
              "    <tr>\n",
              "      <th>1</th>\n",
              "      <td>2</td>\n",
              "      <td>Star Wars</td>\n",
              "      <td>Adventure Action Science Fiction</td>\n",
              "      <td>en</td>\n",
              "      <td>11000000</td>\n",
              "      <td>126.393695</td>\n",
              "      <td>25-05-1977</td>\n",
              "      <td>775398007</td>\n",
              "      <td>121.0</td>\n",
              "      <td>8.1</td>\n",
              "      <td>...</td>\n",
              "      <td>http://www.starwars.com/films/star-wars-episod...</td>\n",
              "      <td>android galaxy hermit death star lightsaber</td>\n",
              "      <td>Princess Leia is captured and held hostage by ...</td>\n",
              "      <td>[{\"name\": \"Lucasfilm\", \"id\": 1}, {\"name\": \"Twe...</td>\n",
              "      <td>[{\"iso_3166_1\": \"US\", \"name\": \"United States o...</td>\n",
              "      <td>[{\"iso_639_1\": \"en\", \"name\": \"English\"}]</td>\n",
              "      <td>A long time ago in a galaxy far, far away...</td>\n",
              "      <td>Mark Hamill Harrison Ford Carrie Fisher Peter ...</td>\n",
              "      <td>[{'name': 'George Lucas', 'gender': 2, 'depart...</td>\n",
              "      <td>George Lucas</td>\n",
              "    </tr>\n",
              "    <tr>\n",
              "      <th>2</th>\n",
              "      <td>3</td>\n",
              "      <td>Finding Nemo</td>\n",
              "      <td>Animation Family</td>\n",
              "      <td>en</td>\n",
              "      <td>94000000</td>\n",
              "      <td>85.688789</td>\n",
              "      <td>30-05-2003</td>\n",
              "      <td>940335536</td>\n",
              "      <td>100.0</td>\n",
              "      <td>7.6</td>\n",
              "      <td>...</td>\n",
              "      <td>http://movies.disney.com/finding-nemo</td>\n",
              "      <td>father son relationship harbor underwater fish...</td>\n",
              "      <td>Nemo, an adventurous young clownfish, is unexp...</td>\n",
              "      <td>[{\"name\": \"Pixar Animation Studios\", \"id\": 3}]</td>\n",
              "      <td>[{\"iso_3166_1\": \"US\", \"name\": \"United States o...</td>\n",
              "      <td>[{\"iso_639_1\": \"en\", \"name\": \"English\"}]</td>\n",
              "      <td>There are 3.7 trillion fish in the ocean, they...</td>\n",
              "      <td>Albert Brooks Ellen DeGeneres Alexander Gould ...</td>\n",
              "      <td>[{'name': 'Andrew Stanton', 'gender': 2, 'depa...</td>\n",
              "      <td>Andrew Stanton</td>\n",
              "    </tr>\n",
              "    <tr>\n",
              "      <th>3</th>\n",
              "      <td>4</td>\n",
              "      <td>Forrest Gump</td>\n",
              "      <td>Comedy Drama Romance</td>\n",
              "      <td>en</td>\n",
              "      <td>55000000</td>\n",
              "      <td>138.133331</td>\n",
              "      <td>06-07-1994</td>\n",
              "      <td>677945399</td>\n",
              "      <td>142.0</td>\n",
              "      <td>8.2</td>\n",
              "      <td>...</td>\n",
              "      <td>NaN</td>\n",
              "      <td>vietnam veteran hippie mentally disabled runni...</td>\n",
              "      <td>A man with a low IQ has accomplished great thi...</td>\n",
              "      <td>[{\"name\": \"Paramount Pictures\", \"id\": 4}]</td>\n",
              "      <td>[{\"iso_3166_1\": \"US\", \"name\": \"United States o...</td>\n",
              "      <td>[{\"iso_639_1\": \"en\", \"name\": \"English\"}]</td>\n",
              "      <td>The world will never be the same, once you've ...</td>\n",
              "      <td>Tom Hanks Robin Wright Gary Sinise Mykelti Wil...</td>\n",
              "      <td>[{'name': 'Alan Silvestri', 'gender': 2, 'depa...</td>\n",
              "      <td>Robert Zemeckis</td>\n",
              "    </tr>\n",
              "    <tr>\n",
              "      <th>4</th>\n",
              "      <td>5</td>\n",
              "      <td>American Beauty</td>\n",
              "      <td>Drama</td>\n",
              "      <td>en</td>\n",
              "      <td>15000000</td>\n",
              "      <td>80.878605</td>\n",
              "      <td>15-09-1999</td>\n",
              "      <td>356296601</td>\n",
              "      <td>122.0</td>\n",
              "      <td>7.9</td>\n",
              "      <td>...</td>\n",
              "      <td>http://www.dreamworks.com/ab/</td>\n",
              "      <td>male nudity female nudity adultery midlife cri...</td>\n",
              "      <td>Lester Burnham, a depressed suburban father in...</td>\n",
              "      <td>[{\"name\": \"DreamWorks SKG\", \"id\": 27}, {\"name\"...</td>\n",
              "      <td>[{\"iso_3166_1\": \"US\", \"name\": \"United States o...</td>\n",
              "      <td>[{\"iso_639_1\": \"en\", \"name\": \"English\"}]</td>\n",
              "      <td>Look closer.</td>\n",
              "      <td>Kevin Spacey Annette Bening Thora Birch Wes Be...</td>\n",
              "      <td>[{'name': 'Thomas Newman', 'gender': 2, 'depar...</td>\n",
              "      <td>Sam Mendes</td>\n",
              "    </tr>\n",
              "  </tbody>\n",
              "</table>\n",
              "<p>5 rows × 21 columns</p>\n",
              "</div>\n",
              "    <div class=\"colab-df-buttons\">\n",
              "\n",
              "  <div class=\"colab-df-container\">\n",
              "    <button class=\"colab-df-convert\" onclick=\"convertToInteractive('df-8b51d912-b861-4164-9ece-294deb77df21')\"\n",
              "            title=\"Convert this dataframe to an interactive table.\"\n",
              "            style=\"display:none;\">\n",
              "\n",
              "  <svg xmlns=\"http://www.w3.org/2000/svg\" height=\"24px\" viewBox=\"0 -960 960 960\">\n",
              "    <path d=\"M120-120v-720h720v720H120Zm60-500h600v-160H180v160Zm220 220h160v-160H400v160Zm0 220h160v-160H400v160ZM180-400h160v-160H180v160Zm440 0h160v-160H620v160ZM180-180h160v-160H180v160Zm440 0h160v-160H620v160Z\"/>\n",
              "  </svg>\n",
              "    </button>\n",
              "\n",
              "  <style>\n",
              "    .colab-df-container {\n",
              "      display:flex;\n",
              "      gap: 12px;\n",
              "    }\n",
              "\n",
              "    .colab-df-convert {\n",
              "      background-color: #E8F0FE;\n",
              "      border: none;\n",
              "      border-radius: 50%;\n",
              "      cursor: pointer;\n",
              "      display: none;\n",
              "      fill: #1967D2;\n",
              "      height: 32px;\n",
              "      padding: 0 0 0 0;\n",
              "      width: 32px;\n",
              "    }\n",
              "\n",
              "    .colab-df-convert:hover {\n",
              "      background-color: #E2EBFA;\n",
              "      box-shadow: 0px 1px 2px rgba(60, 64, 67, 0.3), 0px 1px 3px 1px rgba(60, 64, 67, 0.15);\n",
              "      fill: #174EA6;\n",
              "    }\n",
              "\n",
              "    .colab-df-buttons div {\n",
              "      margin-bottom: 4px;\n",
              "    }\n",
              "\n",
              "    [theme=dark] .colab-df-convert {\n",
              "      background-color: #3B4455;\n",
              "      fill: #D2E3FC;\n",
              "    }\n",
              "\n",
              "    [theme=dark] .colab-df-convert:hover {\n",
              "      background-color: #434B5C;\n",
              "      box-shadow: 0px 1px 3px 1px rgba(0, 0, 0, 0.15);\n",
              "      filter: drop-shadow(0px 1px 2px rgba(0, 0, 0, 0.3));\n",
              "      fill: #FFFFFF;\n",
              "    }\n",
              "  </style>\n",
              "\n",
              "    <script>\n",
              "      const buttonEl =\n",
              "        document.querySelector('#df-8b51d912-b861-4164-9ece-294deb77df21 button.colab-df-convert');\n",
              "      buttonEl.style.display =\n",
              "        google.colab.kernel.accessAllowed ? 'block' : 'none';\n",
              "\n",
              "      async function convertToInteractive(key) {\n",
              "        const element = document.querySelector('#df-8b51d912-b861-4164-9ece-294deb77df21');\n",
              "        const dataTable =\n",
              "          await google.colab.kernel.invokeFunction('convertToInteractive',\n",
              "                                                    [key], {});\n",
              "        if (!dataTable) return;\n",
              "\n",
              "        const docLinkHtml = 'Like what you see? Visit the ' +\n",
              "          '<a target=\"_blank\" href=https://colab.research.google.com/notebooks/data_table.ipynb>data table notebook</a>'\n",
              "          + ' to learn more about interactive tables.';\n",
              "        element.innerHTML = '';\n",
              "        dataTable['output_type'] = 'display_data';\n",
              "        await google.colab.output.renderOutput(dataTable, element);\n",
              "        const docLink = document.createElement('div');\n",
              "        docLink.innerHTML = docLinkHtml;\n",
              "        element.appendChild(docLink);\n",
              "      }\n",
              "    </script>\n",
              "  </div>\n",
              "\n",
              "\n",
              "<div id=\"df-3b85cbcf-7e81-4399-ba2e-64f5ecfb4bf4\">\n",
              "  <button class=\"colab-df-quickchart\" onclick=\"quickchart('df-3b85cbcf-7e81-4399-ba2e-64f5ecfb4bf4')\"\n",
              "            title=\"Suggest charts\"\n",
              "            style=\"display:none;\">\n",
              "\n",
              "<svg xmlns=\"http://www.w3.org/2000/svg\" height=\"24px\"viewBox=\"0 0 24 24\"\n",
              "     width=\"24px\">\n",
              "    <g>\n",
              "        <path d=\"M19 3H5c-1.1 0-2 .9-2 2v14c0 1.1.9 2 2 2h14c1.1 0 2-.9 2-2V5c0-1.1-.9-2-2-2zM9 17H7v-7h2v7zm4 0h-2V7h2v10zm4 0h-2v-4h2v4z\"/>\n",
              "    </g>\n",
              "</svg>\n",
              "  </button>\n",
              "\n",
              "<style>\n",
              "  .colab-df-quickchart {\n",
              "      --bg-color: #E8F0FE;\n",
              "      --fill-color: #1967D2;\n",
              "      --hover-bg-color: #E2EBFA;\n",
              "      --hover-fill-color: #174EA6;\n",
              "      --disabled-fill-color: #AAA;\n",
              "      --disabled-bg-color: #DDD;\n",
              "  }\n",
              "\n",
              "  [theme=dark] .colab-df-quickchart {\n",
              "      --bg-color: #3B4455;\n",
              "      --fill-color: #D2E3FC;\n",
              "      --hover-bg-color: #434B5C;\n",
              "      --hover-fill-color: #FFFFFF;\n",
              "      --disabled-bg-color: #3B4455;\n",
              "      --disabled-fill-color: #666;\n",
              "  }\n",
              "\n",
              "  .colab-df-quickchart {\n",
              "    background-color: var(--bg-color);\n",
              "    border: none;\n",
              "    border-radius: 50%;\n",
              "    cursor: pointer;\n",
              "    display: none;\n",
              "    fill: var(--fill-color);\n",
              "    height: 32px;\n",
              "    padding: 0;\n",
              "    width: 32px;\n",
              "  }\n",
              "\n",
              "  .colab-df-quickchart:hover {\n",
              "    background-color: var(--hover-bg-color);\n",
              "    box-shadow: 0 1px 2px rgba(60, 64, 67, 0.3), 0 1px 3px 1px rgba(60, 64, 67, 0.15);\n",
              "    fill: var(--button-hover-fill-color);\n",
              "  }\n",
              "\n",
              "  .colab-df-quickchart-complete:disabled,\n",
              "  .colab-df-quickchart-complete:disabled:hover {\n",
              "    background-color: var(--disabled-bg-color);\n",
              "    fill: var(--disabled-fill-color);\n",
              "    box-shadow: none;\n",
              "  }\n",
              "\n",
              "  .colab-df-spinner {\n",
              "    border: 2px solid var(--fill-color);\n",
              "    border-color: transparent;\n",
              "    border-bottom-color: var(--fill-color);\n",
              "    animation:\n",
              "      spin 1s steps(1) infinite;\n",
              "  }\n",
              "\n",
              "  @keyframes spin {\n",
              "    0% {\n",
              "      border-color: transparent;\n",
              "      border-bottom-color: var(--fill-color);\n",
              "      border-left-color: var(--fill-color);\n",
              "    }\n",
              "    20% {\n",
              "      border-color: transparent;\n",
              "      border-left-color: var(--fill-color);\n",
              "      border-top-color: var(--fill-color);\n",
              "    }\n",
              "    30% {\n",
              "      border-color: transparent;\n",
              "      border-left-color: var(--fill-color);\n",
              "      border-top-color: var(--fill-color);\n",
              "      border-right-color: var(--fill-color);\n",
              "    }\n",
              "    40% {\n",
              "      border-color: transparent;\n",
              "      border-right-color: var(--fill-color);\n",
              "      border-top-color: var(--fill-color);\n",
              "    }\n",
              "    60% {\n",
              "      border-color: transparent;\n",
              "      border-right-color: var(--fill-color);\n",
              "    }\n",
              "    80% {\n",
              "      border-color: transparent;\n",
              "      border-right-color: var(--fill-color);\n",
              "      border-bottom-color: var(--fill-color);\n",
              "    }\n",
              "    90% {\n",
              "      border-color: transparent;\n",
              "      border-bottom-color: var(--fill-color);\n",
              "    }\n",
              "  }\n",
              "</style>\n",
              "\n",
              "  <script>\n",
              "    async function quickchart(key) {\n",
              "      const quickchartButtonEl =\n",
              "        document.querySelector('#' + key + ' button');\n",
              "      quickchartButtonEl.disabled = true;  // To prevent multiple clicks.\n",
              "      quickchartButtonEl.classList.add('colab-df-spinner');\n",
              "      try {\n",
              "        const charts = await google.colab.kernel.invokeFunction(\n",
              "            'suggestCharts', [key], {});\n",
              "      } catch (error) {\n",
              "        console.error('Error during call to suggestCharts:', error);\n",
              "      }\n",
              "      quickchartButtonEl.classList.remove('colab-df-spinner');\n",
              "      quickchartButtonEl.classList.add('colab-df-quickchart-complete');\n",
              "    }\n",
              "    (() => {\n",
              "      let quickchartButtonEl =\n",
              "        document.querySelector('#df-3b85cbcf-7e81-4399-ba2e-64f5ecfb4bf4 button');\n",
              "      quickchartButtonEl.style.display =\n",
              "        google.colab.kernel.accessAllowed ? 'block' : 'none';\n",
              "    })();\n",
              "  </script>\n",
              "</div>\n",
              "\n",
              "    </div>\n",
              "  </div>\n"
            ],
            "application/vnd.google.colaboratory.intrinsic+json": {
              "type": "dataframe",
              "variable_name": "df"
            }
          },
          "metadata": {},
          "execution_count": 3
        }
      ]
    },
    {
      "cell_type": "code",
      "source": [
        "df.info()"
      ],
      "metadata": {
        "colab": {
          "base_uri": "https://localhost:8080/"
        },
        "id": "PX2dPCg1Mq47",
        "outputId": "493eb004-e5b4-4a4e-fdb7-8ebcadd1a58d"
      },
      "execution_count": 4,
      "outputs": [
        {
          "output_type": "stream",
          "name": "stdout",
          "text": [
            "<class 'pandas.core.frame.DataFrame'>\n",
            "RangeIndex: 4760 entries, 0 to 4759\n",
            "Data columns (total 21 columns):\n",
            " #   Column                    Non-Null Count  Dtype  \n",
            "---  ------                    --------------  -----  \n",
            " 0   Movie_ID                  4760 non-null   int64  \n",
            " 1   Movie_Title               4760 non-null   object \n",
            " 2   Movie_Genre               4760 non-null   object \n",
            " 3   Movie_Language            4760 non-null   object \n",
            " 4   Movie_Budget              4760 non-null   int64  \n",
            " 5   Movie_Popularity          4760 non-null   float64\n",
            " 6   Movie_Release_Date        4760 non-null   object \n",
            " 7   Movie_Revenue             4760 non-null   int64  \n",
            " 8   Movie_Runtime             4758 non-null   float64\n",
            " 9   Movie_Vote                4760 non-null   float64\n",
            " 10  Movie_Vote_Count          4760 non-null   int64  \n",
            " 11  Movie_Homepage            1699 non-null   object \n",
            " 12  Movie_Keywords            4373 non-null   object \n",
            " 13  Movie_Overview            4757 non-null   object \n",
            " 14  Movie_Production_House    4760 non-null   object \n",
            " 15  Movie_Production_Country  4760 non-null   object \n",
            " 16  Movie_Spoken_Language     4760 non-null   object \n",
            " 17  Movie_Tagline             3942 non-null   object \n",
            " 18  Movie_Cast                4733 non-null   object \n",
            " 19  Movie_Crew                4760 non-null   object \n",
            " 20  Movie_Director            4738 non-null   object \n",
            "dtypes: float64(3), int64(4), object(14)\n",
            "memory usage: 781.1+ KB\n"
          ]
        }
      ]
    },
    {
      "cell_type": "code",
      "source": [
        "df.shape"
      ],
      "metadata": {
        "colab": {
          "base_uri": "https://localhost:8080/"
        },
        "id": "wU9mmD1CNIL6",
        "outputId": "7b6ad67a-4959-46ca-a4db-641174f75e22"
      },
      "execution_count": 5,
      "outputs": [
        {
          "output_type": "execute_result",
          "data": {
            "text/plain": [
              "(4760, 21)"
            ]
          },
          "metadata": {},
          "execution_count": 5
        }
      ]
    },
    {
      "cell_type": "code",
      "source": [
        "df.columns"
      ],
      "metadata": {
        "colab": {
          "base_uri": "https://localhost:8080/"
        },
        "id": "FXeKv8V8NIIj",
        "outputId": "23513c26-b36a-4258-e581-5bc538526f79"
      },
      "execution_count": 6,
      "outputs": [
        {
          "output_type": "execute_result",
          "data": {
            "text/plain": [
              "Index(['Movie_ID', 'Movie_Title', 'Movie_Genre', 'Movie_Language',\n",
              "       'Movie_Budget', 'Movie_Popularity', 'Movie_Release_Date',\n",
              "       'Movie_Revenue', 'Movie_Runtime', 'Movie_Vote', 'Movie_Vote_Count',\n",
              "       'Movie_Homepage', 'Movie_Keywords', 'Movie_Overview',\n",
              "       'Movie_Production_House', 'Movie_Production_Country',\n",
              "       'Movie_Spoken_Language', 'Movie_Tagline', 'Movie_Cast', 'Movie_Crew',\n",
              "       'Movie_Director'],\n",
              "      dtype='object')"
            ]
          },
          "metadata": {},
          "execution_count": 6
        }
      ]
    },
    {
      "cell_type": "markdown",
      "source": [
        "##get feature selection"
      ],
      "metadata": {
        "id": "7auyZZsZpDWZ"
      }
    },
    {
      "cell_type": "code",
      "source": [
        "df_features = df[['Movie_Genre', 'Movie_Keywords', 'Movie_Tagline', 'Movie_Cast', 'Movie_Director']].fillna('')"
      ],
      "metadata": {
        "id": "u0AUVzomNIGI"
      },
      "execution_count": 7,
      "outputs": []
    },
    {
      "cell_type": "markdown",
      "source": [
        "select five existing features to recommend movies. it may vary from one project to another. like one can add vote counts, budget, language etc."
      ],
      "metadata": {
        "id": "_FVV956IpKHP"
      }
    },
    {
      "cell_type": "code",
      "source": [
        "df_features.shape"
      ],
      "metadata": {
        "id": "MOy2DALZNIDr",
        "colab": {
          "base_uri": "https://localhost:8080/"
        },
        "outputId": "934c2ec1-726d-47f3-8eae-8d06db63124a"
      },
      "execution_count": 8,
      "outputs": [
        {
          "output_type": "execute_result",
          "data": {
            "text/plain": [
              "(4760, 5)"
            ]
          },
          "metadata": {},
          "execution_count": 8
        }
      ]
    },
    {
      "cell_type": "code",
      "source": [
        "df_features"
      ],
      "metadata": {
        "id": "T2w4CqFHNH2X",
        "colab": {
          "base_uri": "https://localhost:8080/",
          "height": 493
        },
        "outputId": "fbeb3573-daab-4e1d-8782-f4ea952b6dce"
      },
      "execution_count": 9,
      "outputs": [
        {
          "output_type": "execute_result",
          "data": {
            "text/plain": [
              "                           Movie_Genre  \\\n",
              "0                         Crime Comedy   \n",
              "1     Adventure Action Science Fiction   \n",
              "2                     Animation Family   \n",
              "3                 Comedy Drama Romance   \n",
              "4                                Drama   \n",
              "...                                ...   \n",
              "4755                            Horror   \n",
              "4756               Comedy Family Drama   \n",
              "4757                    Thriller Drama   \n",
              "4758                            Family   \n",
              "4759                       Documentary   \n",
              "\n",
              "                                         Movie_Keywords  \\\n",
              "0             hotel new year's eve witch bet hotel room   \n",
              "1           android galaxy hermit death star lightsaber   \n",
              "2     father son relationship harbor underwater fish...   \n",
              "3     vietnam veteran hippie mentally disabled runni...   \n",
              "4     male nudity female nudity adultery midlife cri...   \n",
              "...                                                 ...   \n",
              "4755                                                      \n",
              "4756                                                      \n",
              "4757                     christian film sex trafficking   \n",
              "4758                                                      \n",
              "4759  music actors legendary perfomer classic hollyw...   \n",
              "\n",
              "                                          Movie_Tagline  \\\n",
              "0     Twelve outrageous guests. Four scandalous requ...   \n",
              "1          A long time ago in a galaxy far, far away...   \n",
              "2     There are 3.7 trillion fish in the ocean, they...   \n",
              "3     The world will never be the same, once you've ...   \n",
              "4                                          Look closer.   \n",
              "...                                                 ...   \n",
              "4755                The hot spot where Satan's waitin'.   \n",
              "4756           It’s better to stand out than to fit in.   \n",
              "4757           She never knew it could happen to her...   \n",
              "4758                                                      \n",
              "4759                                                      \n",
              "\n",
              "                                             Movie_Cast     Movie_Director  \n",
              "0     Tim Roth Antonio Banderas Jennifer Beals Madon...     Allison Anders  \n",
              "1     Mark Hamill Harrison Ford Carrie Fisher Peter ...       George Lucas  \n",
              "2     Albert Brooks Ellen DeGeneres Alexander Gould ...     Andrew Stanton  \n",
              "3     Tom Hanks Robin Wright Gary Sinise Mykelti Wil...    Robert Zemeckis  \n",
              "4     Kevin Spacey Annette Bening Thora Birch Wes Be...         Sam Mendes  \n",
              "...                                                 ...                ...  \n",
              "4755  Lisa Hart Carroll Michael Des Barres Paul Drak...         Pece Dingo  \n",
              "4756  Roni Akurati Brighton Sharbino Jason Lee Anjul...       Frank Lotito  \n",
              "4757  Nicole Smolen Kim Baldwin Ariana Stephens Brys...       Jaco Booyens  \n",
              "4758                                                                        \n",
              "4759                                    Tony Oppedisano  Simon Napier-Bell  \n",
              "\n",
              "[4760 rows x 5 columns]"
            ],
            "text/html": [
              "\n",
              "  <div id=\"df-128bf274-e778-490a-9095-4e1478cf8429\" class=\"colab-df-container\">\n",
              "    <div>\n",
              "<style scoped>\n",
              "    .dataframe tbody tr th:only-of-type {\n",
              "        vertical-align: middle;\n",
              "    }\n",
              "\n",
              "    .dataframe tbody tr th {\n",
              "        vertical-align: top;\n",
              "    }\n",
              "\n",
              "    .dataframe thead th {\n",
              "        text-align: right;\n",
              "    }\n",
              "</style>\n",
              "<table border=\"1\" class=\"dataframe\">\n",
              "  <thead>\n",
              "    <tr style=\"text-align: right;\">\n",
              "      <th></th>\n",
              "      <th>Movie_Genre</th>\n",
              "      <th>Movie_Keywords</th>\n",
              "      <th>Movie_Tagline</th>\n",
              "      <th>Movie_Cast</th>\n",
              "      <th>Movie_Director</th>\n",
              "    </tr>\n",
              "  </thead>\n",
              "  <tbody>\n",
              "    <tr>\n",
              "      <th>0</th>\n",
              "      <td>Crime Comedy</td>\n",
              "      <td>hotel new year's eve witch bet hotel room</td>\n",
              "      <td>Twelve outrageous guests. Four scandalous requ...</td>\n",
              "      <td>Tim Roth Antonio Banderas Jennifer Beals Madon...</td>\n",
              "      <td>Allison Anders</td>\n",
              "    </tr>\n",
              "    <tr>\n",
              "      <th>1</th>\n",
              "      <td>Adventure Action Science Fiction</td>\n",
              "      <td>android galaxy hermit death star lightsaber</td>\n",
              "      <td>A long time ago in a galaxy far, far away...</td>\n",
              "      <td>Mark Hamill Harrison Ford Carrie Fisher Peter ...</td>\n",
              "      <td>George Lucas</td>\n",
              "    </tr>\n",
              "    <tr>\n",
              "      <th>2</th>\n",
              "      <td>Animation Family</td>\n",
              "      <td>father son relationship harbor underwater fish...</td>\n",
              "      <td>There are 3.7 trillion fish in the ocean, they...</td>\n",
              "      <td>Albert Brooks Ellen DeGeneres Alexander Gould ...</td>\n",
              "      <td>Andrew Stanton</td>\n",
              "    </tr>\n",
              "    <tr>\n",
              "      <th>3</th>\n",
              "      <td>Comedy Drama Romance</td>\n",
              "      <td>vietnam veteran hippie mentally disabled runni...</td>\n",
              "      <td>The world will never be the same, once you've ...</td>\n",
              "      <td>Tom Hanks Robin Wright Gary Sinise Mykelti Wil...</td>\n",
              "      <td>Robert Zemeckis</td>\n",
              "    </tr>\n",
              "    <tr>\n",
              "      <th>4</th>\n",
              "      <td>Drama</td>\n",
              "      <td>male nudity female nudity adultery midlife cri...</td>\n",
              "      <td>Look closer.</td>\n",
              "      <td>Kevin Spacey Annette Bening Thora Birch Wes Be...</td>\n",
              "      <td>Sam Mendes</td>\n",
              "    </tr>\n",
              "    <tr>\n",
              "      <th>...</th>\n",
              "      <td>...</td>\n",
              "      <td>...</td>\n",
              "      <td>...</td>\n",
              "      <td>...</td>\n",
              "      <td>...</td>\n",
              "    </tr>\n",
              "    <tr>\n",
              "      <th>4755</th>\n",
              "      <td>Horror</td>\n",
              "      <td></td>\n",
              "      <td>The hot spot where Satan's waitin'.</td>\n",
              "      <td>Lisa Hart Carroll Michael Des Barres Paul Drak...</td>\n",
              "      <td>Pece Dingo</td>\n",
              "    </tr>\n",
              "    <tr>\n",
              "      <th>4756</th>\n",
              "      <td>Comedy Family Drama</td>\n",
              "      <td></td>\n",
              "      <td>It’s better to stand out than to fit in.</td>\n",
              "      <td>Roni Akurati Brighton Sharbino Jason Lee Anjul...</td>\n",
              "      <td>Frank Lotito</td>\n",
              "    </tr>\n",
              "    <tr>\n",
              "      <th>4757</th>\n",
              "      <td>Thriller Drama</td>\n",
              "      <td>christian film sex trafficking</td>\n",
              "      <td>She never knew it could happen to her...</td>\n",
              "      <td>Nicole Smolen Kim Baldwin Ariana Stephens Brys...</td>\n",
              "      <td>Jaco Booyens</td>\n",
              "    </tr>\n",
              "    <tr>\n",
              "      <th>4758</th>\n",
              "      <td>Family</td>\n",
              "      <td></td>\n",
              "      <td></td>\n",
              "      <td></td>\n",
              "      <td></td>\n",
              "    </tr>\n",
              "    <tr>\n",
              "      <th>4759</th>\n",
              "      <td>Documentary</td>\n",
              "      <td>music actors legendary perfomer classic hollyw...</td>\n",
              "      <td></td>\n",
              "      <td>Tony Oppedisano</td>\n",
              "      <td>Simon Napier-Bell</td>\n",
              "    </tr>\n",
              "  </tbody>\n",
              "</table>\n",
              "<p>4760 rows × 5 columns</p>\n",
              "</div>\n",
              "    <div class=\"colab-df-buttons\">\n",
              "\n",
              "  <div class=\"colab-df-container\">\n",
              "    <button class=\"colab-df-convert\" onclick=\"convertToInteractive('df-128bf274-e778-490a-9095-4e1478cf8429')\"\n",
              "            title=\"Convert this dataframe to an interactive table.\"\n",
              "            style=\"display:none;\">\n",
              "\n",
              "  <svg xmlns=\"http://www.w3.org/2000/svg\" height=\"24px\" viewBox=\"0 -960 960 960\">\n",
              "    <path d=\"M120-120v-720h720v720H120Zm60-500h600v-160H180v160Zm220 220h160v-160H400v160Zm0 220h160v-160H400v160ZM180-400h160v-160H180v160Zm440 0h160v-160H620v160ZM180-180h160v-160H180v160Zm440 0h160v-160H620v160Z\"/>\n",
              "  </svg>\n",
              "    </button>\n",
              "\n",
              "  <style>\n",
              "    .colab-df-container {\n",
              "      display:flex;\n",
              "      gap: 12px;\n",
              "    }\n",
              "\n",
              "    .colab-df-convert {\n",
              "      background-color: #E8F0FE;\n",
              "      border: none;\n",
              "      border-radius: 50%;\n",
              "      cursor: pointer;\n",
              "      display: none;\n",
              "      fill: #1967D2;\n",
              "      height: 32px;\n",
              "      padding: 0 0 0 0;\n",
              "      width: 32px;\n",
              "    }\n",
              "\n",
              "    .colab-df-convert:hover {\n",
              "      background-color: #E2EBFA;\n",
              "      box-shadow: 0px 1px 2px rgba(60, 64, 67, 0.3), 0px 1px 3px 1px rgba(60, 64, 67, 0.15);\n",
              "      fill: #174EA6;\n",
              "    }\n",
              "\n",
              "    .colab-df-buttons div {\n",
              "      margin-bottom: 4px;\n",
              "    }\n",
              "\n",
              "    [theme=dark] .colab-df-convert {\n",
              "      background-color: #3B4455;\n",
              "      fill: #D2E3FC;\n",
              "    }\n",
              "\n",
              "    [theme=dark] .colab-df-convert:hover {\n",
              "      background-color: #434B5C;\n",
              "      box-shadow: 0px 1px 3px 1px rgba(0, 0, 0, 0.15);\n",
              "      filter: drop-shadow(0px 1px 2px rgba(0, 0, 0, 0.3));\n",
              "      fill: #FFFFFF;\n",
              "    }\n",
              "  </style>\n",
              "\n",
              "    <script>\n",
              "      const buttonEl =\n",
              "        document.querySelector('#df-128bf274-e778-490a-9095-4e1478cf8429 button.colab-df-convert');\n",
              "      buttonEl.style.display =\n",
              "        google.colab.kernel.accessAllowed ? 'block' : 'none';\n",
              "\n",
              "      async function convertToInteractive(key) {\n",
              "        const element = document.querySelector('#df-128bf274-e778-490a-9095-4e1478cf8429');\n",
              "        const dataTable =\n",
              "          await google.colab.kernel.invokeFunction('convertToInteractive',\n",
              "                                                    [key], {});\n",
              "        if (!dataTable) return;\n",
              "\n",
              "        const docLinkHtml = 'Like what you see? Visit the ' +\n",
              "          '<a target=\"_blank\" href=https://colab.research.google.com/notebooks/data_table.ipynb>data table notebook</a>'\n",
              "          + ' to learn more about interactive tables.';\n",
              "        element.innerHTML = '';\n",
              "        dataTable['output_type'] = 'display_data';\n",
              "        await google.colab.output.renderOutput(dataTable, element);\n",
              "        const docLink = document.createElement('div');\n",
              "        docLink.innerHTML = docLinkHtml;\n",
              "        element.appendChild(docLink);\n",
              "      }\n",
              "    </script>\n",
              "  </div>\n",
              "\n",
              "\n",
              "<div id=\"df-6087d0f5-8e4a-46c8-a1d0-9535725da79b\">\n",
              "  <button class=\"colab-df-quickchart\" onclick=\"quickchart('df-6087d0f5-8e4a-46c8-a1d0-9535725da79b')\"\n",
              "            title=\"Suggest charts\"\n",
              "            style=\"display:none;\">\n",
              "\n",
              "<svg xmlns=\"http://www.w3.org/2000/svg\" height=\"24px\"viewBox=\"0 0 24 24\"\n",
              "     width=\"24px\">\n",
              "    <g>\n",
              "        <path d=\"M19 3H5c-1.1 0-2 .9-2 2v14c0 1.1.9 2 2 2h14c1.1 0 2-.9 2-2V5c0-1.1-.9-2-2-2zM9 17H7v-7h2v7zm4 0h-2V7h2v10zm4 0h-2v-4h2v4z\"/>\n",
              "    </g>\n",
              "</svg>\n",
              "  </button>\n",
              "\n",
              "<style>\n",
              "  .colab-df-quickchart {\n",
              "      --bg-color: #E8F0FE;\n",
              "      --fill-color: #1967D2;\n",
              "      --hover-bg-color: #E2EBFA;\n",
              "      --hover-fill-color: #174EA6;\n",
              "      --disabled-fill-color: #AAA;\n",
              "      --disabled-bg-color: #DDD;\n",
              "  }\n",
              "\n",
              "  [theme=dark] .colab-df-quickchart {\n",
              "      --bg-color: #3B4455;\n",
              "      --fill-color: #D2E3FC;\n",
              "      --hover-bg-color: #434B5C;\n",
              "      --hover-fill-color: #FFFFFF;\n",
              "      --disabled-bg-color: #3B4455;\n",
              "      --disabled-fill-color: #666;\n",
              "  }\n",
              "\n",
              "  .colab-df-quickchart {\n",
              "    background-color: var(--bg-color);\n",
              "    border: none;\n",
              "    border-radius: 50%;\n",
              "    cursor: pointer;\n",
              "    display: none;\n",
              "    fill: var(--fill-color);\n",
              "    height: 32px;\n",
              "    padding: 0;\n",
              "    width: 32px;\n",
              "  }\n",
              "\n",
              "  .colab-df-quickchart:hover {\n",
              "    background-color: var(--hover-bg-color);\n",
              "    box-shadow: 0 1px 2px rgba(60, 64, 67, 0.3), 0 1px 3px 1px rgba(60, 64, 67, 0.15);\n",
              "    fill: var(--button-hover-fill-color);\n",
              "  }\n",
              "\n",
              "  .colab-df-quickchart-complete:disabled,\n",
              "  .colab-df-quickchart-complete:disabled:hover {\n",
              "    background-color: var(--disabled-bg-color);\n",
              "    fill: var(--disabled-fill-color);\n",
              "    box-shadow: none;\n",
              "  }\n",
              "\n",
              "  .colab-df-spinner {\n",
              "    border: 2px solid var(--fill-color);\n",
              "    border-color: transparent;\n",
              "    border-bottom-color: var(--fill-color);\n",
              "    animation:\n",
              "      spin 1s steps(1) infinite;\n",
              "  }\n",
              "\n",
              "  @keyframes spin {\n",
              "    0% {\n",
              "      border-color: transparent;\n",
              "      border-bottom-color: var(--fill-color);\n",
              "      border-left-color: var(--fill-color);\n",
              "    }\n",
              "    20% {\n",
              "      border-color: transparent;\n",
              "      border-left-color: var(--fill-color);\n",
              "      border-top-color: var(--fill-color);\n",
              "    }\n",
              "    30% {\n",
              "      border-color: transparent;\n",
              "      border-left-color: var(--fill-color);\n",
              "      border-top-color: var(--fill-color);\n",
              "      border-right-color: var(--fill-color);\n",
              "    }\n",
              "    40% {\n",
              "      border-color: transparent;\n",
              "      border-right-color: var(--fill-color);\n",
              "      border-top-color: var(--fill-color);\n",
              "    }\n",
              "    60% {\n",
              "      border-color: transparent;\n",
              "      border-right-color: var(--fill-color);\n",
              "    }\n",
              "    80% {\n",
              "      border-color: transparent;\n",
              "      border-right-color: var(--fill-color);\n",
              "      border-bottom-color: var(--fill-color);\n",
              "    }\n",
              "    90% {\n",
              "      border-color: transparent;\n",
              "      border-bottom-color: var(--fill-color);\n",
              "    }\n",
              "  }\n",
              "</style>\n",
              "\n",
              "  <script>\n",
              "    async function quickchart(key) {\n",
              "      const quickchartButtonEl =\n",
              "        document.querySelector('#' + key + ' button');\n",
              "      quickchartButtonEl.disabled = true;  // To prevent multiple clicks.\n",
              "      quickchartButtonEl.classList.add('colab-df-spinner');\n",
              "      try {\n",
              "        const charts = await google.colab.kernel.invokeFunction(\n",
              "            'suggestCharts', [key], {});\n",
              "      } catch (error) {\n",
              "        console.error('Error during call to suggestCharts:', error);\n",
              "      }\n",
              "      quickchartButtonEl.classList.remove('colab-df-spinner');\n",
              "      quickchartButtonEl.classList.add('colab-df-quickchart-complete');\n",
              "    }\n",
              "    (() => {\n",
              "      let quickchartButtonEl =\n",
              "        document.querySelector('#df-6087d0f5-8e4a-46c8-a1d0-9535725da79b button');\n",
              "      quickchartButtonEl.style.display =\n",
              "        google.colab.kernel.accessAllowed ? 'block' : 'none';\n",
              "    })();\n",
              "  </script>\n",
              "</div>\n",
              "\n",
              "  <div id=\"id_538e30ad-11fd-4259-a29c-847c494d14cc\">\n",
              "    <style>\n",
              "      .colab-df-generate {\n",
              "        background-color: #E8F0FE;\n",
              "        border: none;\n",
              "        border-radius: 50%;\n",
              "        cursor: pointer;\n",
              "        display: none;\n",
              "        fill: #1967D2;\n",
              "        height: 32px;\n",
              "        padding: 0 0 0 0;\n",
              "        width: 32px;\n",
              "      }\n",
              "\n",
              "      .colab-df-generate:hover {\n",
              "        background-color: #E2EBFA;\n",
              "        box-shadow: 0px 1px 2px rgba(60, 64, 67, 0.3), 0px 1px 3px 1px rgba(60, 64, 67, 0.15);\n",
              "        fill: #174EA6;\n",
              "      }\n",
              "\n",
              "      [theme=dark] .colab-df-generate {\n",
              "        background-color: #3B4455;\n",
              "        fill: #D2E3FC;\n",
              "      }\n",
              "\n",
              "      [theme=dark] .colab-df-generate:hover {\n",
              "        background-color: #434B5C;\n",
              "        box-shadow: 0px 1px 3px 1px rgba(0, 0, 0, 0.15);\n",
              "        filter: drop-shadow(0px 1px 2px rgba(0, 0, 0, 0.3));\n",
              "        fill: #FFFFFF;\n",
              "      }\n",
              "    </style>\n",
              "    <button class=\"colab-df-generate\" onclick=\"generateWithVariable('df_features')\"\n",
              "            title=\"Generate code using this dataframe.\"\n",
              "            style=\"display:none;\">\n",
              "\n",
              "  <svg xmlns=\"http://www.w3.org/2000/svg\" height=\"24px\"viewBox=\"0 0 24 24\"\n",
              "       width=\"24px\">\n",
              "    <path d=\"M7,19H8.4L18.45,9,17,7.55,7,17.6ZM5,21V16.75L18.45,3.32a2,2,0,0,1,2.83,0l1.4,1.43a1.91,1.91,0,0,1,.58,1.4,1.91,1.91,0,0,1-.58,1.4L9.25,21ZM18.45,9,17,7.55Zm-12,3A5.31,5.31,0,0,0,4.9,8.1,5.31,5.31,0,0,0,1,6.5,5.31,5.31,0,0,0,4.9,4.9,5.31,5.31,0,0,0,6.5,1,5.31,5.31,0,0,0,8.1,4.9,5.31,5.31,0,0,0,12,6.5,5.46,5.46,0,0,0,6.5,12Z\"/>\n",
              "  </svg>\n",
              "    </button>\n",
              "    <script>\n",
              "      (() => {\n",
              "      const buttonEl =\n",
              "        document.querySelector('#id_538e30ad-11fd-4259-a29c-847c494d14cc button.colab-df-generate');\n",
              "      buttonEl.style.display =\n",
              "        google.colab.kernel.accessAllowed ? 'block' : 'none';\n",
              "\n",
              "      buttonEl.onclick = () => {\n",
              "        google.colab.notebook.generateWithVariable('df_features');\n",
              "      }\n",
              "      })();\n",
              "    </script>\n",
              "  </div>\n",
              "\n",
              "    </div>\n",
              "  </div>\n"
            ],
            "application/vnd.google.colaboratory.intrinsic+json": {
              "type": "dataframe",
              "variable_name": "df_features",
              "summary": "{\n  \"name\": \"df_features\",\n  \"rows\": 4760,\n  \"fields\": [\n    {\n      \"column\": \"Movie_Genre\",\n      \"properties\": {\n        \"dtype\": \"category\",\n        \"num_unique_values\": 1164,\n        \"samples\": [\n          \"Family Animation Adventure\",\n          \"Adventure Science Fiction Action\",\n          \"Action Crime Drama Romance Thriller\"\n        ],\n        \"semantic_type\": \"\",\n        \"description\": \"\"\n      }\n    },\n    {\n      \"column\": \"Movie_Keywords\",\n      \"properties\": {\n        \"dtype\": \"string\",\n        \"num_unique_values\": 4203,\n        \"samples\": [\n          \"canada nazis sequel spin off ancient evil\",\n          \"sex professor wedding woman director columbia university\",\n          \"prophecy sea beach gold small town\"\n        ],\n        \"semantic_type\": \"\",\n        \"description\": \"\"\n      }\n    },\n    {\n      \"column\": \"Movie_Tagline\",\n      \"properties\": {\n        \"dtype\": \"string\",\n        \"num_unique_values\": 3928,\n        \"samples\": [\n          \"The messenger must be silenced.\",\n          \"It's not the house that's haunted.\",\n          \"The final hunt begins.\"\n        ],\n        \"semantic_type\": \"\",\n        \"description\": \"\"\n      }\n    },\n    {\n      \"column\": \"Movie_Cast\",\n      \"properties\": {\n        \"dtype\": \"string\",\n        \"num_unique_values\": 4715,\n        \"samples\": [\n          \"Robin Tunney Fairuza Balk Neve Campbell Rachel True Skeet Ulrich\",\n          \"Peter Sellers Christopher Plummer Herbert Lom Catherine Schell Peter Arne\",\n          \"John Wayne Laraine Day Cedric Hardwicke Judith Anderson Anthony Quinn\"\n        ],\n        \"semantic_type\": \"\",\n        \"description\": \"\"\n      }\n    },\n    {\n      \"column\": \"Movie_Director\",\n      \"properties\": {\n        \"dtype\": \"category\",\n        \"num_unique_values\": 2332,\n        \"samples\": [\n          \"Rob McKittrick\",\n          \"Terron R. Parsons\",\n          \"Cyrus Nowrasteh\"\n        ],\n        \"semantic_type\": \"\",\n        \"description\": \"\"\n      }\n    }\n  ]\n}"
            }
          },
          "metadata": {},
          "execution_count": 9
        }
      ]
    },
    {
      "cell_type": "code",
      "source": [
        "x = df_features['Movie_Genre'] + ' ' + df_features['Movie_Keywords'] + ' ' + ['Movie_Tagline'] + ' ' + ['Movie_Cast'] + ' ' + ['Movie_Director']"
      ],
      "metadata": {
        "id": "BxwrTNqxqEiU"
      },
      "execution_count": 10,
      "outputs": []
    },
    {
      "cell_type": "code",
      "source": [
        "x"
      ],
      "metadata": {
        "id": "Y4kMIYtXqEe3",
        "colab": {
          "base_uri": "https://localhost:8080/"
        },
        "outputId": "68e22f75-4bb9-4162-ba0c-0f10cf243f77"
      },
      "execution_count": 11,
      "outputs": [
        {
          "output_type": "execute_result",
          "data": {
            "text/plain": [
              "0       Crime Comedy hotel new year's eve witch bet ho...\n",
              "1       Adventure Action Science Fiction android galax...\n",
              "2       Animation Family father son relationship harbo...\n",
              "3       Comedy Drama Romance vietnam veteran hippie me...\n",
              "4       Drama male nudity female nudity adultery midli...\n",
              "                              ...                        \n",
              "4755      Horror  Movie_Tagline Movie_Cast Movie_Director\n",
              "4756    Comedy Family Drama  Movie_Tagline Movie_Cast ...\n",
              "4757    Thriller Drama christian film sex trafficking ...\n",
              "4758      Family  Movie_Tagline Movie_Cast Movie_Director\n",
              "4759    Documentary music actors legendary perfomer cl...\n",
              "Length: 4760, dtype: object"
            ]
          },
          "metadata": {},
          "execution_count": 11
        }
      ]
    },
    {
      "cell_type": "code",
      "source": [
        "x.shape"
      ],
      "metadata": {
        "id": "-X_AbalaqEcm",
        "colab": {
          "base_uri": "https://localhost:8080/"
        },
        "outputId": "acdd676e-ada2-4dff-f9e1-bbdab8bc8d3b"
      },
      "execution_count": 12,
      "outputs": [
        {
          "output_type": "execute_result",
          "data": {
            "text/plain": [
              "(4760,)"
            ]
          },
          "metadata": {},
          "execution_count": 12
        }
      ]
    },
    {
      "cell_type": "markdown",
      "source": [
        "##get feature text conversion to tokens"
      ],
      "metadata": {
        "id": "1bF1-OKgZ2dl"
      }
    },
    {
      "cell_type": "code",
      "source": [
        "from sklearn.feature_extraction.text import TfidfVectorizer"
      ],
      "metadata": {
        "id": "V-VFcVGKqEaT"
      },
      "execution_count": 16,
      "outputs": []
    },
    {
      "cell_type": "code",
      "source": [
        "tfidf = TfidfVectorizer()"
      ],
      "metadata": {
        "id": "dqKVKdDUae9p"
      },
      "execution_count": 17,
      "outputs": []
    },
    {
      "cell_type": "code",
      "source": [
        "x = tfidf.fit_transform(x)"
      ],
      "metadata": {
        "id": "KCUB3oWLae6K"
      },
      "execution_count": 18,
      "outputs": []
    },
    {
      "cell_type": "code",
      "source": [
        "x.shape"
      ],
      "metadata": {
        "colab": {
          "base_uri": "https://localhost:8080/"
        },
        "id": "wkwmCaWMae4i",
        "outputId": "b2d78a40-173c-4a51-f8ce-a35a80ab72da"
      },
      "execution_count": 19,
      "outputs": [
        {
          "output_type": "execute_result",
          "data": {
            "text/plain": [
              "(4760, 4331)"
            ]
          },
          "metadata": {},
          "execution_count": 19
        }
      ]
    },
    {
      "cell_type": "code",
      "source": [
        "print(x)"
      ],
      "metadata": {
        "colab": {
          "base_uri": "https://localhost:8080/"
        },
        "id": "d601-N2oae2J",
        "outputId": "026f1b4b-4e72-455b-9253-e02d5c440575"
      },
      "execution_count": 20,
      "outputs": [
        {
          "output_type": "stream",
          "name": "stdout",
          "text": [
            "  (0, 2513)\t0.050424948359281456\n",
            "  (0, 2512)\t0.050424948359281456\n",
            "  (0, 2514)\t0.050424948359281456\n",
            "  (0, 3258)\t0.3408808604983898\n",
            "  (0, 375)\t0.3666392161973876\n",
            "  (0, 4262)\t0.286616585171254\n",
            "  (0, 1299)\t0.36132641763623446\n",
            "  (0, 4310)\t0.36132641763623446\n",
            "  (0, 2598)\t0.21365577017662568\n",
            "  (0, 1822)\t0.5665813161029388\n",
            "  (0, 812)\t0.10164714328777598\n",
            "  (0, 940)\t0.1465945195318138\n",
            "  (1, 2202)\t0.44729208397300196\n",
            "  (1, 3632)\t0.3102148706514058\n",
            "  (1, 1016)\t0.2643491089178467\n",
            "  (1, 1741)\t0.46896113835683306\n",
            "  (1, 1540)\t0.43191764521476494\n",
            "  (1, 130)\t0.34864655778665116\n",
            "  (1, 1416)\t0.17066588899083243\n",
            "  (1, 3360)\t0.17046497723596174\n",
            "  (1, 36)\t0.12922871354832524\n",
            "  (1, 56)\t0.14943475198329806\n",
            "  (1, 2513)\t0.05344246385326602\n",
            "  (1, 2512)\t0.05344246385326602\n",
            "  (1, 2514)\t0.05344246385326602\n",
            "  :\t:\n",
            "  (4757, 3946)\t0.6242163039790001\n",
            "  (4757, 726)\t0.5291908486298456\n",
            "  (4757, 3418)\t0.38502847175735966\n",
            "  (4757, 1426)\t0.3214312047303332\n",
            "  (4757, 3889)\t0.19355782063615554\n",
            "  (4757, 1155)\t0.1436085082290887\n",
            "  (4757, 2513)\t0.08298207551396682\n",
            "  (4757, 2512)\t0.08298207551396682\n",
            "  (4757, 2514)\t0.08298207551396682\n",
            "  (4758, 1369)\t0.8702380678060209\n",
            "  (4758, 2513)\t0.28442087671925176\n",
            "  (4758, 2512)\t0.28442087671925176\n",
            "  (4758, 2514)\t0.28442087671925176\n",
            "  (4759, 3480)\t0.3750359142196804\n",
            "  (4759, 1500)\t0.3750359142196804\n",
            "  (4759, 2812)\t0.3750359142196804\n",
            "  (4759, 2176)\t0.3750359142196804\n",
            "  (4759, 40)\t0.3750359142196804\n",
            "  (4759, 1782)\t0.3021770010477005\n",
            "  (4759, 749)\t0.3577068160142498\n",
            "  (4759, 1127)\t0.20224069443666165\n",
            "  (4759, 2535)\t0.17633516852123435\n",
            "  (4759, 2513)\t0.042738814903914756\n",
            "  (4759, 2512)\t0.042738814903914756\n",
            "  (4759, 2514)\t0.042738814903914756\n"
          ]
        }
      ]
    },
    {
      "cell_type": "markdown",
      "source": [
        "##Get Similarity Score using Cosline Similarity\n",
        "cosine_similarity computes the L2-normalized dot product of vectors, Euclidean(l2) normalization projects the vectors onto the unit sphere. and their dot product is then the cosine of the angel between the points denoted by the vectors."
      ],
      "metadata": {
        "id": "DSv8Se3da7Pa"
      }
    },
    {
      "cell_type": "code",
      "source": [
        "from sklearn.metrics.pairwise import cosine_similarity"
      ],
      "metadata": {
        "id": "wiuXY4TqazS9"
      },
      "execution_count": 21,
      "outputs": []
    },
    {
      "cell_type": "code",
      "source": [
        "Similarity_Score = cosine_similarity(x)"
      ],
      "metadata": {
        "id": "977WIj_mazPX"
      },
      "execution_count": 22,
      "outputs": []
    },
    {
      "cell_type": "code",
      "source": [
        "Similarity_Score"
      ],
      "metadata": {
        "colab": {
          "base_uri": "https://localhost:8080/"
        },
        "id": "hYSdOIS_azNj",
        "outputId": "c01f2bf6-afff-48bc-c7c3-f65683362096"
      },
      "execution_count": 23,
      "outputs": [
        {
          "output_type": "execute_result",
          "data": {
            "text/plain": [
              "array([[1.        , 0.0080845 , 0.00669395, ..., 0.0125531 , 0.04302572,\n",
              "        0.00646531],\n",
              "       [0.0080845 , 1.        , 0.00709453, ..., 0.0133043 , 0.04560046,\n",
              "        0.0068522 ],\n",
              "       [0.00669395, 0.00709453, 1.        , ..., 0.01101594, 0.15558024,\n",
              "        0.00567361],\n",
              "       ...,\n",
              "       [0.0125531 , 0.0133043 , 0.01101594, ..., 1.        , 0.0708055 ,\n",
              "        0.01063967],\n",
              "       [0.04302572, 0.04560046, 0.15558024, ..., 0.0708055 , 1.        ,\n",
              "        0.03646743],\n",
              "       [0.00646531, 0.0068522 , 0.00567361, ..., 0.01063967, 0.03646743,\n",
              "        1.        ]])"
            ]
          },
          "metadata": {},
          "execution_count": 23
        }
      ]
    },
    {
      "cell_type": "code",
      "source": [
        "Similarity_Score.shape"
      ],
      "metadata": {
        "colab": {
          "base_uri": "https://localhost:8080/"
        },
        "id": "R7hlquvab2R0",
        "outputId": "142b0243-ca8f-476a-cb5c-775925022b60"
      },
      "execution_count": 24,
      "outputs": [
        {
          "output_type": "execute_result",
          "data": {
            "text/plain": [
              "(4760, 4760)"
            ]
          },
          "metadata": {},
          "execution_count": 24
        }
      ]
    },
    {
      "cell_type": "markdown",
      "source": [
        "##Get movie name as input from user and Validate for Closest Spelling"
      ],
      "metadata": {
        "id": "O5UMWwsqb-zo"
      }
    },
    {
      "cell_type": "code",
      "source": [
        "Favourite_Movie_Name = input('Enter Your favourite movie name: ')"
      ],
      "metadata": {
        "colab": {
          "base_uri": "https://localhost:8080/"
        },
        "id": "rHq-UxnUb2IH",
        "outputId": "d3172446-5bb9-44f3-931e-2bfa0f4b7e5e"
      },
      "execution_count": 26,
      "outputs": [
        {
          "name": "stdout",
          "output_type": "stream",
          "text": [
            "Enter Your favourite movie name: avatar\n"
          ]
        }
      ]
    },
    {
      "cell_type": "code",
      "source": [
        "All_Movies_Title_List = df['Movie_Title'].tolist()"
      ],
      "metadata": {
        "id": "QnBdLwkNb2Bq"
      },
      "execution_count": 27,
      "outputs": []
    },
    {
      "cell_type": "code",
      "source": [
        "import difflib"
      ],
      "metadata": {
        "id": "BjOSpjkzb1-d"
      },
      "execution_count": 28,
      "outputs": []
    },
    {
      "cell_type": "code",
      "source": [
        "Movie_Recommendation = difflib.get_close_matches(Favourite_Movie_Name, All_Movies_Title_List)\n",
        "print(Movie_Recommendation)"
      ],
      "metadata": {
        "colab": {
          "base_uri": "https://localhost:8080/"
        },
        "id": "cBNNKzTZcodL",
        "outputId": "fdfa3d3a-deba-45d7-9926-82462fd6b560"
      },
      "execution_count": 30,
      "outputs": [
        {
          "output_type": "stream",
          "name": "stdout",
          "text": [
            "['Avatar']\n"
          ]
        }
      ]
    },
    {
      "cell_type": "code",
      "source": [
        "Close_Match = Movie_Recommendation[0]\n",
        "print(Close_Match)"
      ],
      "metadata": {
        "colab": {
          "base_uri": "https://localhost:8080/"
        },
        "id": "k_81Beu0coZj",
        "outputId": "275af187-f8ce-4ad4-8b6f-cf003b794c78"
      },
      "execution_count": 33,
      "outputs": [
        {
          "output_type": "stream",
          "name": "stdout",
          "text": [
            "Avatar\n"
          ]
        }
      ]
    },
    {
      "cell_type": "code",
      "source": [
        "Index_Of_Close_Match_Movie = df[df.Movie_Title == Close_Match]['Movie_ID'].values[0]\n",
        "print(Index_Of_Close_Match_Movie)"
      ],
      "metadata": {
        "colab": {
          "base_uri": "https://localhost:8080/"
        },
        "id": "5dnWyVU5coXq",
        "outputId": "089bb873-8cf6-47b4-a716-165ddcb8609f"
      },
      "execution_count": 35,
      "outputs": [
        {
          "output_type": "stream",
          "name": "stdout",
          "text": [
            "2692\n"
          ]
        }
      ]
    },
    {
      "cell_type": "code",
      "source": [
        "#  getting a list of similar movies\n",
        "\n",
        "Recommendation_Score = list(enumerate(Similarity_Score[Index_Of_Close_Match_Movie]))\n",
        "print(Recommendation_Score)"
      ],
      "metadata": {
        "colab": {
          "base_uri": "https://localhost:8080/"
        },
        "id": "WmoyiGEUcoVT",
        "outputId": "5e9cb714-6410-4768-db8b-d3c31ac3b20d"
      },
      "execution_count": 36,
      "outputs": [
        {
          "output_type": "stream",
          "name": "stdout",
          "text": [
            "[(0, 0.028521082521831626), (1, 0.00791877420361625), (2, 0.006556731621586721), (3, 0.015615561548223206), (4, 0.015863214112339246), (5, 0.04422655195973399), (6, 0.025483233272968035), (7, 0.01525895093964112), (8, 0.015889147563465704), (9, 0.00667237206174881), (10, 0.031764838447100235), (11, 0.013550020081642033), (12, 0.016649546523981866), (13, 0.008122706285141935), (14, 0.007001531456037885), (15, 0.01665692722586625), (16, 0.03187155488074086), (17, 0.007951094978243626), (18, 0.05466934276105674), (19, 0.0075404656375053876), (20, 0.016491286241176597), (21, 0.0650777831543054), (22, 0.008042802840793197), (23, 0.015492637844080111), (24, 0.016141351216367863), (25, 0.013769335936268667), (26, 0.016128019147521315), (27, 0.02146294088880941), (28, 0.00719680859492316), (29, 0.01675770285519958), (30, 0.024825857108861128), (31, 0.028539927278979735), (32, 0.015231437866082522), (33, 0.01908713314859801), (34, 0.03201851815858476), (35, 0.008134671740752277), (36, 0.007324012658727205), (37, 0.007634936679040943), (38, 0.03523888380368802), (39, 0.023709647350122185), (40, 0.027171924737497376), (41, 0.0157645873539414), (42, 0.03364843723701149), (43, 0.03902332919345886), (44, 0.031087754151800175), (45, 0.2964256854740482), (46, 0.019764611383552833), (47, 0.03562030915168948), (48, 0.05913018712160435), (49, 0.008246201247201471), (50, 0.029198538975457447), (51, 0.05451630684851239), (52, 0.04071066647706673), (53, 0.00792769951869265), (54, 0.007350490374729089), (55, 0.007459260972003112), (56, 0.007620795878049421), (57, 0.008029401938228044), (58, 0.008293807302607434), (59, 0.00791880452601435), (60, 0.013484752899552446), (61, 0.014156059424175216), (62, 0.01740887035130832), (63, 0.016485774700939218), (64, 0.007131971459642002), (65, 0.09572614367624885), (66, 0.015491846894242847), (67, 0.10736774161268149), (68, 0.07548645306177977), (69, 0.06396490202684153), (70, 0.042698487803879366), (71, 0.01479242234550952), (72, 0.03481515026307074), (73, 0.007254485161970942), (74, 0.020896043493287254), (75, 0.007195749305917142), (76, 0.021089541285108423), (77, 0.020066614542671803), (78, 0.01750001659624748), (79, 0.015407193398206315), (80, 0.01911655714564992), (81, 0.027872477392944475), (82, 0.012370013705937741), (83, 0.046650392934539854), (84, 0.11584040119971482), (85, 0.03582334109627721), (86, 0.032510246473330756), (87, 0.05730558622249683), (88, 0.03245649208053858), (89, 0.06040349146171173), (90, 0.01814873513282005), (91, 0.007104257652210034), (92, 0.01482687654283818), (93, 0.022464165637147968), (94, 0.02085514488825437), (95, 0.024344908088117987), (96, 0.03634732193960016), (97, 0.013401027328919872), (98, 0.019031177268978957), (99, 0.039389888699112696), (100, 0.013289802243049202), (101, 0.008120714189060317), (102, 0.022933330118367245), (103, 0.01556377531619176), (104, 0.01637990924752205), (105, 0.05375402468235603), (106, 0.032448615699595826), (107, 0.03189113394784103), (108, 0.03078048893160963), (109, 0.0556915844905429), (110, 0.00845118998486021), (111, 0.038394845444793935), (112, 0.059194059639292904), (113, 0.012874249334119556), (114, 0.01532759924764486), (115, 0.015846863506387858), (116, 0.023911433892750696), (117, 0.007053188794618597), (118, 0.026248244809375012), (119, 0.012834011440896369), (120, 0.03497986446831734), (121, 0.01913503582362466), (122, 0.029727970383646565), (123, 0.06273074704857058), (124, 0.06753923632553252), (125, 0.024042506213560626), (126, 0.03889264197781342), (127, 0.017014435989071455), (128, 0.021459107487092618), (129, 0.014732539132369426), (130, 0.00668078362394291), (131, 0.008431352507897196), (132, 0.01840766341426575), (133, 0.009529146641003315), (134, 0.00724564086476678), (135, 0.020312606080329438), (136, 0.012338574629845854), (137, 0.04892846667203058), (138, 0.05181481512733768), (139, 0.03265862731900843), (140, 0.01602678553160103), (141, 0.008423376330051665), (142, 0.04339687570623524), (143, 0.03175556580694466), (144, 0.04123885611989371), (145, 0.05424089070854837), (146, 0.009206788400474019), (147, 0.043324740973644624), (148, 0.05033499717431998), (149, 0.04996592743375667), (150, 0.007250667522495898), (151, 0.007301876766875669), (152, 0.02040987020681412), (153, 0.014318301516779715), (154, 0.015001386546444357), (155, 0.00747680156360303), (156, 0.01560727712850465), (157, 0.0197468779281552), (158, 0.015102245108910523), (159, 0.016458107046765525), (160, 0.020162349847623287), (161, 0.015652936295552068), (162, 0.03390016317708468), (163, 0.008786853000130298), (164, 0.01649485706544601), (165, 0.015647570751586418), (166, 0.04902275034186179), (167, 0.016929549722772917), (168, 0.0070295412999537114), (169, 0.016718447377051363), (170, 0.039280811604855345), (171, 0.007601882607609105), (172, 0.14746496609857784), (173, 0.03701150445606553), (174, 0.014935024777031236), (175, 0.016791984754301003), (176, 0.015324744523554529), (177, 0.008051656820780385), (178, 0.017085629641355474), (179, 0.11071087663118132), (180, 0.0285961444216854), (181, 0.048389946268649946), (182, 0.014976245642503569), (183, 0.016304591274989292), (184, 0.015089957737761672), (185, 0.007421912783633414), (186, 0.007898020819258923), (187, 0.02160407386515157), (188, 0.008292055911796426), (189, 0.01867153023873879), (190, 0.057656963049053794), (191, 0.02141485004064653), (192, 0.016816026837274345), (193, 0.017632943066412173), (194, 0.011437860453929766), (195, 0.015525167387224453), (196, 0.014551114220335353), (197, 0.01597231388734215), (198, 0.0197874741418057), (199, 0.05541944800959823), (200, 0.02809678102866482), (201, 0.04572478744548966), (202, 0.01727380970056178), (203, 0.01893333136833901), (204, 0.017063019248542498), (205, 0.010796399719406886), (206, 0.03678028596278715), (207, 0.05085915693533834), (208, 0.030141191033983585), (209, 0.0449098673205115), (210, 0.06445393116684954), (211, 0.014385067386395313), (212, 0.016730177859329714), (213, 0.11739098630133762), (214, 0.008901909002602158), (215, 0.01582997906975157), (216, 0.03883957978402208), (217, 0.03351291750411309), (218, 0.016450208418844554), (219, 0.007855254763855674), (220, 0.022243693747166372), (221, 0.0184579055087026), (222, 0.033155117992305166), (223, 0.0069620460720402535), (224, 0.033708413273765836), (225, 0.008202517836049836), (226, 0.020352102085831453), (227, 0.014606205415217908), (228, 0.016948149011983934), (229, 0.013821319389945862), (230, 0.007831141609769492), (231, 0.00753794680198005), (232, 0.00793540393734775), (233, 0.028114163348511557), (234, 0.02099211586364065), (235, 0.01656746775958543), (236, 0.06384398571780724), (237, 0.008310181702242), (238, 0.03412430725547231), (239, 0.02123430848265181), (240, 0.02282146935074314), (241, 0.019855608952435717), (242, 0.01592647210836982), (243, 0.030420303413053934), (244, 0.037731720737699564), (245, 0.007832878779878434), (246, 0.019286489203458972), (247, 0.01785446080400925), (248, 0.007139033374961749), (249, 0.020073880623304355), (250, 0.023649960981048705), (251, 0.03482226811608391), (252, 0.013890417144658317), (253, 0.016349320278376694), (254, 0.03757997313604021), (255, 0.03168458384544935), (256, 0.043020370283915435), (257, 0.007858857262381358), (258, 0.008334111524540878), (259, 0.007491569007426521), (260, 0.01920336809941796), (261, 0.020800669402600117), (262, 0.01787996431798405), (263, 0.007396722909870473), (264, 0.0075679642775593), (265, 0.007624201986786441), (266, 0.03414843035553729), (267, 0.016498047136818936), (268, 0.015038085734233287), (269, 0.014718826691220922), (270, 0.039145278884108736), (271, 0.024868464534909308), (272, 0.008875820816975992), (273, 0.019895721342258747), (274, 0.0470114175466126), (275, 0.008567770307522204), (276, 0.046137708808541913), (277, 0.16973460682112929), (278, 0.019618506483895626), (279, 0.016485931730672206), (280, 0.032272634091138924), (281, 0.03960671139543237), (282, 0.0376333489788518), (283, 0.017549310013184122), (284, 0.02610757960494163), (285, 0.03470538508597666), (286, 0.014972430066605973), (287, 0.04333920487007016), (288, 0.02547451508791195), (289, 0.0164143708976819), (290, 0.023025233811711433), (291, 0.05062180191866426), (292, 0.015337734434559044), (293, 0.014626068988876924), (294, 0.025920561790252854), (295, 0.02448865966777534), (296, 0.027323416255748127), (297, 0.007966734655424355), (298, 0.007841076347752846), (299, 0.00796697647369929), (300, 0.006936590853802698), (301, 0.007858733813637189), (302, 0.008053194704981722), (303, 0.0218099480021073), (304, 0.048737716900520624), (305, 0.02337018055640007), (306, 0.02355158983601947), (307, 0.015035442706201059), (308, 0.014437271366090245), (309, 0.015394265575857775), (310, 0.02588340588665018), (311, 0.028912588581960077), (312, 0.007296009505295504), (313, 0.024150862162557435), (314, 0.0184815197591377), (315, 0.025732491026811598), (316, 0.019314754370225486), (317, 0.01355225529545872), (318, 0.01689622765376291), (319, 0.006478900655743056), (320, 0.02441807658926709), (321, 0.023105808355185616), (322, 0.023083545487373684), (323, 0.01940194938904442), (324, 0.01609039978663309), (325, 0.013337479855195771), (326, 0.019801910965731105), (327, 0.02206088858347806), (328, 0.09579507118978312), (329, 0.025912995172856966), (330, 0.016652281501135943), (331, 0.0072901958747137174), (332, 0.023381254154212782), (333, 0.03561001384115252), (334, 0.04646874195258291), (335, 0.008118504698119384), (336, 0.007202890813457544), (337, 0.006272395035129684), (338, 0.006981010575335355), (339, 0.009301564027700165), (340, 0.008070096849281616), (341, 0.02380232855181913), (342, 0.0469194629131303), (343, 0.014904695224186765), (344, 0.007331225284295686), (345, 0.03242819604009748), (346, 0.01450003569441484), (347, 0.022637240922045283), (348, 0.01533786336899833), (349, 0.014658099559787443), (350, 0.03166702693537742), (351, 0.016740383091461728), (352, 0.009408226085221977), (353, 0.015294968653852091), (354, 0.02412336452948519), (355, 0.01801835583310891), (356, 0.03232704281178266), (357, 0.01414572143541579), (358, 0.017686798456245885), (359, 0.013300590272281504), (360, 0.14579485466118375), (361, 0.007783327301404193), (362, 0.00846005382914946), (363, 0.007960669632621025), (364, 0.014298795224843681), (365, 0.009922988594368787), (366, 0.009462777406651364), (367, 0.0324631618760133), (368, 0.033050776516946434), (369, 0.030453691076827626), (370, 0.049866213265491316), (371, 0.03283796469178983), (372, 0.015179557368225557), (373, 0.015118193410399772), (374, 0.016421594677221787), (375, 0.024107715615483208), (376, 0.00721828795481486), (377, 0.014533020805003532), (378, 0.01624230398010001), (379, 0.008770565380308883), (380, 0.026209332726738206), (381, 0.11001430883990732), (382, 0.0066321250205735975), (383, 0.007472109976885594), (384, 0.008796484446103462), (385, 0.03069946312067082), (386, 0.007175864506252745), (387, 0.08305760961347114), (388, 0.01817407744804648), (389, 0.023927356290758445), (390, 0.007487162860382985), (391, 0.01019655150941501), (392, 0.007577869236490473), (393, 0.0078510687684544), (394, 0.007846856193487815), (395, 0.016560145110950223), (396, 0.04777969899494129), (397, 0.020455040453979344), (398, 0.008421414578478012), (399, 0.019226774229641544), (400, 0.014761379999166926), (401, 0.008085780167076898), (402, 0.017153623041335463), (403, 0.013572682740421466), (404, 0.007415548598682824), (405, 0.007522640013826475), (406, 0.03169440313427793), (407, 0.016764552944590196), (408, 0.030642516537962877), (409, 0.006509164044486215), (410, 0.013618251208735587), (411, 0.007217234458449508), (412, 0.014230883481566738), (413, 0.008420892062532126), (414, 0.0070580867732462724), (415, 0.00969273820440215), (416, 0.012958869106750825), (417, 0.03150630689313756), (418, 0.05158347292622907), (419, 0.015862187595481112), (420, 0.024383380270722413), (421, 0.005391628672938123), (422, 0.031810951696303755), (423, 0.007810403790592249), (424, 0.029001787613761914), (425, 0.027699090473286846), (426, 0.025503479513270574), (427, 0.008237930928607383), (428, 0.015592697219406383), (429, 0.07419938756656408), (430, 0.016678889988391614), (431, 0.018292961512801742), (432, 0.02054096559770748), (433, 0.027635284989409887), (434, 0.022121308959541598), (435, 0.043182871363525), (436, 0.03854205937686346), (437, 0.014192924613923755), (438, 0.020743208388216507), (439, 0.007542577386105942), (440, 0.00866037749340003), (441, 0.014876215684130847), (442, 0.026498567920939034), (443, 0.03771244634874558), (444, 0.017876791871883027), (445, 0.016475053363486165), (446, 0.015907028348729507), (447, 0.06441338013946815), (448, 0.01678721528139096), (449, 0.017019644604538118), (450, 0.07324459706750018), (451, 0.019266454508856185), (452, 0.013461455244781113), (453, 0.015755059940712877), (454, 0.008440086391137743), (455, 0.14844853679166806), (456, 0.018897990718513592), (457, 0.019512861007814547), (458, 0.08636986278082008), (459, 0.008447747536202092), (460, 0.022906440517186266), (461, 0.03144467845370211), (462, 0.013912161003826995), (463, 0.047756691276001365), (464, 0.01913545576340646), (465, 0.014456482173194467), (466, 0.017836787919897158), (467, 0.0217836696110165), (468, 0.0208866068164993), (469, 0.021706413517860887), (470, 0.03661853069963218), (471, 0.015907168574711392), (472, 0.015195165371078661), (473, 0.014642401633173579), (474, 0.02717332416368643), (475, 0.01788112209070515), (476, 0.01581374488200239), (477, 0.008316013252749405), (478, 0.018328504056549424), (479, 0.044803449629453124), (480, 0.01735161253005934), (481, 0.06898309123984742), (482, 0.027621067063025563), (483, 0.04664151890347643), (484, 0.01761958523798489), (485, 0.047645539725621446), (486, 0.008128498801805557), (487, 0.0206077473201985), (488, 0.013588057990220304), (489, 0.017894267224991232), (490, 0.020349773121070718), (491, 0.00807378356561896), (492, 0.00725936319831259), (493, 0.03225168123555694), (494, 0.03574719915770737), (495, 0.01856647586480999), (496, 0.013319536087113334), (497, 0.03333642876548891), (498, 0.010424530743967953), (499, 0.01943177049103437), (500, 0.060263243875750494), (501, 0.05349741684772265), (502, 0.05266739987112086), (503, 0.025857985125158314), (504, 0.016543777618917906), (505, 0.011666927289625765), (506, 0.008272880802508834), (507, 0.012953102364298839), (508, 0.02022262987957318), (509, 0.02867427024245439), (510, 0.017769313592106952), (511, 0.02134249980010467), (512, 0.030750088297015563), (513, 0.029427992195798353), (514, 0.02799524193669211), (515, 0.03037289781180802), (516, 0.010046230719757781), (517, 0.00938075351266073), (518, 0.017680102056699457), (519, 0.03013746713751583), (520, 0.008396151557345608), (521, 0.007385202991459009), (522, 0.018416186718762134), (523, 0.028819521474119474), (524, 0.0149122053942242), (525, 0.008653851397682214), (526, 0.027059390262281414), (527, 0.015526750825157266), (528, 0.007065157056906189), (529, 0.009134400456455055), (530, 0.05483082862109698), (531, 0.01024420236245158), (532, 0.05394927791590022), (533, 0.056965387594900566), (534, 0.05643581612581911), (535, 0.006588466422221962), (536, 0.008474390419992747), (537, 0.023268367081836133), (538, 0.006104134721631937), (539, 0.02636136264630304), (540, 0.024486163654966354), (541, 0.01755847863652041), (542, 0.05045779252180051), (543, 0.05018012063883143), (544, 0.041784005532161224), (545, 0.006504810455215181), (546, 0.007359210762190293), (547, 0.041473029858637725), (548, 0.010069150828114885), (549, 0.007706834796311112), (550, 0.021226218134463664), (551, 0.016372956116185063), (552, 0.008683358319445687), (553, 0.008635478881184669), (554, 0.008068182037491966), (555, 0.008091657305263122), (556, 0.008964255792098336), (557, 0.007840426228608414), (558, 0.04238762169841767), (559, 0.0230013846954345), (560, 0.05144260340508765), (561, 0.010584327993728507), (562, 0.025297793383304266), (563, 0.03861852643232863), (564, 0.014178489525645682), (565, 0.0064753857302582915), (566, 0.03203000834981522), (567, 0.007632787349109816), (568, 0.007842557679280528), (569, 0.01001893123885134), (570, 0.027835858287460054), (571, 0.024877601762788287), (572, 0.008740606975933757), (573, 0.007301158117494072), (574, 0.007689578937695462), (575, 0.0058318450000586775), (576, 0.015390874978642406), (577, 0.009414937936088516), (578, 0.015054786628970366), (579, 0.019141561672061116), (580, 0.03429996539584296), (581, 0.03826712714726082), (582, 0.009920882783871439), (583, 0.008256090053560212), (584, 0.06710827428189073), (585, 0.00783685123469248), (586, 0.0070696265784936894), (587, 0.020407207397436698), (588, 0.015383371465048186), (589, 0.020498148071817053), (590, 0.17048486217941775), (591, 0.008232232612081496), (592, 0.00805236171246419), (593, 0.013547015318949978), (594, 0.012633017436386394), (595, 0.02126867479392469), (596, 0.015507187443097089), (597, 0.016605376908401682), (598, 0.012434941779373283), (599, 0.007860731297169982), (600, 0.0072912037690762484), (601, 0.008405852133598974), (602, 0.008470525789341463), (603, 0.007893242618033904), (604, 0.04449554757957699), (605, 0.019867734343467006), (606, 0.034665527657701936), (607, 0.016102818427648047), (608, 0.02935966519905489), (609, 0.015515519547598862), (610, 0.008103695687678653), (611, 0.01463356617965067), (612, 0.025046889380371723), (613, 0.02909831898356983), (614, 0.018460223645074197), (615, 0.00743689689416974), (616, 0.016556807458968488), (617, 0.02643351556700104), (618, 0.00616318284960481), (619, 0.021245461020124055), (620, 0.014453379996862335), (621, 0.05848361750684558), (622, 0.059395805813018385), (623, 0.020741754329442835), (624, 0.024376323133783455), (625, 0.021546074468853153), (626, 0.016783142300183518), (627, 0.015958522090820777), (628, 0.2290754345566168), (629, 0.047665733646098475), (630, 0.012079864708033648), (631, 0.015881755639232078), (632, 0.027964757549651855), (633, 0.027073760470383908), (634, 0.03049621728504733), (635, 0.02486092512590289), (636, 0.027957423918361174), (637, 0.03889091197072686), (638, 0.01827059120162282), (639, 0.017388203572176218), (640, 0.020532232186879936), (641, 0.0142781540533999), (642, 0.028618597921208137), (643, 0.06746510925717718), (644, 0.035783439983470736), (645, 0.015641910429848787), (646, 0.015404910126809198), (647, 0.013780999403526277), (648, 0.0060656198752940494), (649, 0.006898969240129447), (650, 0.008690052845405676), (651, 0.016315223097198246), (652, 0.05220345907109647), (653, 0.04731469497938745), (654, 0.0484486288739073), (655, 0.01910805818828484), (656, 0.008178081415282817), (657, 0.01556784040543724), (658, 0.010331208808660394), (659, 0.01629062207453618), (660, 0.03484476108339636), (661, 0.018330983970785523), (662, 0.00759478666925347), (663, 0.007929064075511994), (664, 0.027645507912860988), (665, 0.007447066016229699), (666, 0.025515215911962087), (667, 0.042168596700057834), (668, 0.03445734976926611), (669, 0.05226364215190399), (670, 0.06020817292643991), (671, 0.00804300635437805), (672, 0.016126399398081907), (673, 0.06733461378979103), (674, 0.007935585085256951), (675, 0.06607528185561207), (676, 0.05976315197436746), (677, 0.008033964935807658), (678, 0.10770331210871537), (679, 0.010892924390409956), (680, 0.014080073173564687), (681, 0.012485802568426331), (682, 0.07889003194847005), (683, 0.04451056530843162), (684, 0.037600523779169635), (685, 0.02372232676976684), (686, 0.00788212855053783), (687, 0.09731811560796372), (688, 0.03394727009540977), (689, 0.04895430818642842), (690, 0.042693329924446737), (691, 0.013619135971633743), (692, 0.03621907102260559), (693, 0.016907485785284136), (694, 0.15208237683621711), (695, 0.046566768459051396), (696, 0.0371204120286599), (697, 0.01390840196110821), (698, 0.017266669317177914), (699, 0.008705921301834042), (700, 0.009467317792280805), (701, 0.06250517677043348), (702, 0.008739119939049486), (703, 0.013274926081821244), (704, 0.008380004568436003), (705, 0.015156999584924431), (706, 0.011741146917490898), (707, 0.013621349804614442), (708, 0.012143737015793507), (709, 0.008843574148114632), (710, 0.06851491787596738), (711, 0.015531078046921663), (712, 0.011407694652952938), (713, 0.007945993278645855), (714, 0.006526959007523507), (715, 0.018036592029927134), (716, 0.03636782856939658), (717, 0.015815644485228514), (718, 0.00944345799389755), (719, 0.036117031333960235), (720, 0.007960701392004074), (721, 0.020641157241898335), (722, 0.013296370090723986), (723, 0.019957287708558827), (724, 0.007542670702465882), (725, 0.007539125229626794), (726, 0.005347393329153257), (727, 0.032645326088418095), (728, 0.037671248648191775), (729, 0.036525930797951314), (730, 0.007552226950657436), (731, 0.018407895208306886), (732, 0.03564538755942759), (733, 0.029683622447615982), (734, 0.014525639437234318), (735, 0.03394014978509856), (736, 0.012763406880344053), (737, 0.01802127250427431), (738, 0.026814635477684225), (739, 0.01801194516805409), (740, 0.017197493728957104), (741, 0.007732215164612156), (742, 0.024503693385754262), (743, 0.036526452301797435), (744, 0.02844487848670012), (745, 0.029844083582718034), (746, 0.00781507207753854), (747, 0.009126048709777339), (748, 0.008624384049693738), (749, 0.016292992314954624), (750, 0.033410555186949284), (751, 0.013114353951636187), (752, 0.0074481483872907445), (753, 0.05874134709475637), (754, 0.011964036179306697), (755, 0.012982757796276227), (756, 0.02010791986060799), (757, 0.03946477954615414), (758, 0.008897876321431608), (759, 0.016364689836190882), (760, 0.07449390228309377), (761, 0.037284873658453684), (762, 0.023094121511487112), (763, 0.007264646614359299), (764, 0.03933802475301499), (765, 0.020639339857307128), (766, 0.015911441521232056), (767, 0.018661238785254344), (768, 0.008426632787696283), (769, 0.03084673641533646), (770, 0.007701801955977394), (771, 0.009322151337107652), (772, 0.007962107535166626), (773, 0.008581853861727797), (774, 0.01873162816348044), (775, 0.023931428728404147), (776, 0.008653127500627389), (777, 0.019591148929735593), (778, 0.00855992103246861), (779, 0.027481522326309616), (780, 0.008562290701545537), (781, 0.010245534522837801), (782, 0.018516293101011983), (783, 0.021901918132505988), (784, 0.0077880211049645345), (785, 0.007737949277641638), (786, 0.008080973397685114), (787, 0.016102781210739697), (788, 0.018168227794352423), (789, 0.0077169383245042755), (790, 0.04171398710197312), (791, 0.03742993637092222), (792, 0.039878661707053446), (793, 0.026462994747379388), (794, 0.014817199836492469), (795, 0.07732213014040608), (796, 0.01534602877026396), (797, 0.009562219021608375), (798, 0.014738039809325065), (799, 0.053774418441817344), (800, 0.029605704293364458), (801, 0.04211018046740142), (802, 0.02782263803967834), (803, 0.022944122150032116), (804, 0.03125847639656573), (805, 0.01482104570977847), (806, 0.049510625370582304), (807, 0.009167352795603864), (808, 0.03433755961934891), (809, 0.021010694422845613), (810, 0.02730699306083771), (811, 0.027122491822621653), (812, 0.007732190981645171), (813, 0.02112666288774779), (814, 0.008344785138489802), (815, 0.013869915083162623), (816, 0.03898222111741347), (817, 0.017243383040603015), (818, 0.013323883107274023), (819, 0.0078800453752243), (820, 0.007747931214836554), (821, 0.008513220423902413), (822, 0.008071334966454203), (823, 0.017015069447578784), (824, 0.011871135265033233), (825, 0.05761970206199482), (826, 0.017855151491974426), (827, 0.04612967888583536), (828, 0.032106217829636095), (829, 0.03583713669212202), (830, 0.13624672886112837), (831, 0.03472621111984132), (832, 0.04028093833783236), (833, 0.032271520285829164), (834, 0.009802286159069015), (835, 0.007819357716828589), (836, 0.09083432181048481), (837, 0.011368280532322122), (838, 0.016050591090075842), (839, 0.019350554426888215), (840, 0.008000155987713697), (841, 0.010840121081997884), (842, 0.054182837024124526), (843, 0.0142463986973984), (844, 0.025204634066418617), (845, 0.03903046076382832), (846, 0.007235598396520293), (847, 0.020239892022369352), (848, 0.016959567453194557), (849, 0.027446741466382565), (850, 0.01676261652167098), (851, 0.033776038164029694), (852, 0.012977671761997952), (853, 0.05950318179623398), (854, 0.01313344402991002), (855, 0.025115889938567424), (856, 0.014212858383813875), (857, 0.018874380413678577), (858, 0.01497468647302912), (859, 0.00882448109319741), (860, 0.05527247203881028), (861, 0.086239340842358), (862, 0.022230073530733193), (863, 0.024737281531061906), (864, 0.03465169319172333), (865, 0.01492722455597781), (866, 0.05313514290616036), (867, 0.015201137282501756), (868, 0.030842581177973307), (869, 0.03819198156887337), (870, 0.05529181608321482), (871, 0.015720187769239256), (872, 0.016133362251894344), (873, 0.1024863129459174), (874, 0.041964026777522236), (875, 0.06633900812016132), (876, 0.05064764146997776), (877, 0.019398286498394715), (878, 0.057607061862942135), (879, 0.05913672992823349), (880, 0.03363173000302461), (881, 0.008586359909716316), (882, 0.008853413906439261), (883, 0.01676972820194881), (884, 0.014321876223130817), (885, 0.018347421432535167), (886, 0.014162094135711293), (887, 0.01644497704173618), (888, 0.15091588673028505), (889, 0.021051474267027054), (890, 0.01475612732174044), (891, 0.04047375287782804), (892, 0.009065919353362924), (893, 0.01964847476968999), (894, 0.03694040969758541), (895, 0.013495347426463553), (896, 0.058508423798217975), (897, 0.016749530928762878), (898, 0.016782082376500477), (899, 0.014596217774374799), (900, 0.02966097142748452), (901, 0.016392974391852475), (902, 0.023342051466516266), (903, 0.018483432707766503), (904, 0.08692870037226465), (905, 0.11885367997970239), (906, 0.006392206602680724), (907, 0.01516715664403213), (908, 0.031540533709846476), (909, 0.007303726919649773), (910, 0.03881390507636636), (911, 0.037705841446516716), (912, 0.007406230785612418), (913, 0.007953450013124232), (914, 0.011052854544573783), (915, 0.04730151711687432), (916, 0.044033175142950964), (917, 0.013960030749063702), (918, 0.05228237359790662), (919, 0.02650179799691388), (920, 0.006487847978062055), (921, 0.016593895761479547), (922, 0.01735748986021609), (923, 0.035755261055773646), (924, 0.013954833400735004), (925, 0.02500017302353829), (926, 0.007463801559605665), (927, 0.03187376252549211), (928, 0.07795469734100605), (929, 0.014516538951633035), (930, 0.04440331228150871), (931, 0.042714219227310085), (932, 0.025773278319337845), (933, 0.031734156774814), (934, 0.01569665945694788), (935, 0.10473653984584705), (936, 0.02781771210103908), (937, 0.052429325575416866), (938, 0.008595990344819024), (939, 0.0651846834245596), (940, 0.013472258635178036), (941, 0.0280172350833885), (942, 0.0532758388556378), (943, 0.006435252669126016), (944, 0.013770367798639313), (945, 0.008499426914997178), (946, 0.011058532247230423), (947, 0.10501126463588671), (948, 0.05185473004530031), (949, 0.017689173969752787), (950, 0.009847331768708062), (951, 0.012988035736830205), (952, 0.04740706102705964), (953, 0.02827667942059278), (954, 0.006725317407876507), (955, 0.012330747390890951), (956, 0.007398406282846225), (957, 0.020344265304053054), (958, 0.008280247343914863), (959, 0.020030750468696797), (960, 0.010374407614413954), (961, 0.00648934005953437), (962, 0.017975907762498775), (963, 0.025243217281475), (964, 0.006772583991666163), (965, 0.008206110756225937), (966, 0.011842002234710061), (967, 0.058364616942427575), (968, 0.03930155190471145), (969, 0.017819321258654538), (970, 0.017274237574693093), (971, 0.00855530561687759), (972, 0.006504460387985302), (973, 0.01631403389538737), (974, 0.02363978868679904), (975, 0.018611981590678024), (976, 0.0441608554979573), (977, 0.00841398130980189), (978, 0.006707266151945148), (979, 0.0190973652778679), (980, 0.03090910321068413), (981, 0.03298228048648097), (982, 0.012899630815871713), (983, 0.007837563600959909), (984, 0.01868636150043162), (985, 0.02198314718185039), (986, 0.07099072756162819), (987, 0.01741633454824863), (988, 0.0547897893437262), (989, 0.04664810152562816), (990, 0.009464797210985428), (991, 0.06254146730882791), (992, 0.026737657328126236), (993, 0.01630761019039523), (994, 0.038833613872079745), (995, 0.008777783992787589), (996, 0.09731811560796372), (997, 0.020774107065854426), (998, 0.016108418512329584), (999, 0.015850479816766204), (1000, 0.040708201256430605), (1001, 0.028195885067421156), (1002, 0.014310716475175206), (1003, 0.02168553838777118), (1004, 0.01432068444497988), (1005, 0.03271357287053976), (1006, 0.015151441324285456), (1007, 0.019412468187421508), (1008, 0.00636200651854546), (1009, 0.019754801791030927), (1010, 0.007488256883279848), (1011, 0.009539032801669775), (1012, 0.021767744802550452), (1013, 0.009013018077237868), (1014, 0.008974912199790241), (1015, 0.06288305370822499), (1016, 0.008061778015728934), (1017, 0.05427448047882831), (1018, 0.041364271384658), (1019, 0.024872132240458717), (1020, 0.013444388014107557), (1021, 0.014463540786524438), (1022, 0.008571828869234917), (1023, 0.026449762093730317), (1024, 0.04944426652476364), (1025, 0.006835947306330893), (1026, 0.016308505556937938), (1027, 0.015935514327498762), (1028, 0.00822125440275455), (1029, 0.00727145656261835), (1030, 0.030347570329650603), (1031, 0.00912300351851273), (1032, 0.016860768520926033), (1033, 0.01634008584298322), (1034, 0.013002671346487728), (1035, 0.05422303527248398), (1036, 0.01787269853988819), (1037, 0.013330737610259187), (1038, 0.007935206542905346), (1039, 0.008628569772759087), (1040, 0.014677839637321102), (1041, 0.029724857643504087), (1042, 0.01251785267617269), (1043, 0.018758897562244563), (1044, 0.026209549928291883), (1045, 0.007666834552291028), (1046, 0.007756324042134761), (1047, 0.055647979270062105), (1048, 0.017308432461932127), (1049, 0.02057142335336635), (1050, 0.029736575094422565), (1051, 0.00941927484454951), (1052, 0.017526104026066587), (1053, 0.04286776943349481), (1054, 0.05039830328798542), (1055, 0.006979592521794576), (1056, 0.00886771792570675), (1057, 0.010145209789370838), (1058, 0.09255711348978735), (1059, 0.019722992912931014), (1060, 0.014189964041106149), (1061, 0.04731812481421234), (1062, 0.00783360975101164), (1063, 0.0442782621781335), (1064, 0.060342414548684845), (1065, 0.03221222517713421), (1066, 0.008342263412944816), (1067, 0.006764880780571655), (1068, 0.03589057663782476), (1069, 0.00895726615447985), (1070, 0.33083035568031893), (1071, 0.049592218423885046), (1072, 0.015239591240081955), (1073, 0.006922857207955916), (1074, 0.04441669492327028), (1075, 0.017511248134682016), (1076, 0.029653439912677715), (1077, 0.012824245430977635), (1078, 0.029272492061406537), (1079, 0.012348963599505323), (1080, 0.016448178228121745), (1081, 0.00838788666792995), (1082, 0.02045016862018437), (1083, 0.027525015204493086), (1084, 0.015861582388902937), (1085, 0.008179757334420088), (1086, 0.007173781578027963), (1087, 0.015742481265183423), (1088, 0.025659149125052034), (1089, 0.008246970406437036), (1090, 0.0075912333066798605), (1091, 0.008099760866962714), (1092, 0.04119951170084213), (1093, 0.007668105387419327), (1094, 0.008709885017577947), (1095, 0.0075449539990531025), (1096, 0.018272478652293093), (1097, 0.008814784717587551), (1098, 0.016261037405973695), (1099, 0.023369751705984744), (1100, 0.023343982142148948), (1101, 0.00864316231982138), (1102, 0.018764092138360253), (1103, 0.008965930230267382), (1104, 0.04892907793484202), (1105, 0.007967961780878614), (1106, 0.008898547443102018), (1107, 0.04548115146446739), (1108, 0.007063833181131816), (1109, 0.019923261629875438), (1110, 0.019315298406361262), (1111, 0.007789152692856042), (1112, 0.017564546558292315), (1113, 0.008206753380378018), (1114, 0.014251961126003545), (1115, 0.06655248027992197), (1116, 0.030965954761578277), (1117, 0.015535291856383162), (1118, 0.09852536578903096), (1119, 0.05245290037088782), (1120, 0.02012799544365807), (1121, 0.01784740414005449), (1122, 0.016514029669546564), (1123, 0.02539363320870195), (1124, 0.018041413030073068), (1125, 0.011521271338688783), (1126, 0.0084910196547345), (1127, 0.024977280603889197), (1128, 0.02760989449667641), (1129, 0.02213978930568885), (1130, 0.0078018006461054055), (1131, 0.015292907387746567), (1132, 0.05717028593074103), (1133, 0.00992016862158917), (1134, 0.02298120807515713), (1135, 0.006640049802364551), (1136, 0.012559913796250825), (1137, 0.04516547802679506), (1138, 0.040447538345733496), (1139, 0.007064273686859655), (1140, 0.031063558568393844), (1141, 0.0620531214059505), (1142, 0.009879230376245123), (1143, 0.009310952311107578), (1144, 0.015187123652529479), (1145, 0.037750376916471144), (1146, 0.0217529252998114), (1147, 0.007385499028524511), (1148, 0.1573930468054335), (1149, 0.006862466413318471), (1150, 0.023389588923285874), (1151, 0.008786870156694413), (1152, 0.009137664325527152), (1153, 0.017741892941301254), (1154, 0.02497416360266286), (1155, 0.0084092781209023), (1156, 0.008159881093440074), (1157, 0.007864546088382674), (1158, 0.02441458960036097), (1159, 0.00886075319851676), (1160, 0.03841280857497688), (1161, 0.015454818660381375), (1162, 0.047540084673344404), (1163, 0.015893532327462854), (1164, 0.013823060861208875), (1165, 0.008789804227805453), (1166, 0.008765113442439021), (1167, 0.02807486311247998), (1168, 0.022085089234330897), (1169, 0.018604961385964285), (1170, 0.016685711459081553), (1171, 0.008017667840454485), (1172, 0.008089730859762674), (1173, 0.0395289557482746), (1174, 0.02793700637495806), (1175, 0.016890511891994614), (1176, 0.014949199204558174), (1177, 0.02825367909088784), (1178, 0.01187269808719284), (1179, 0.032013460380119214), (1180, 0.009037751914353432), (1181, 0.020488843434147315), (1182, 0.013549430313697822), (1183, 0.05656807632671358), (1184, 0.053293154466201115), (1185, 0.040443972214385004), (1186, 0.01440555392411957), (1187, 0.018412797027882948), (1188, 0.037209567385503795), (1189, 0.009205209201417564), (1190, 0.008652514631421233), (1191, 0.03388905046178299), (1192, 0.03770062140926834), (1193, 0.008132235171179064), (1194, 0.021734728052333868), (1195, 0.008005390443595922), (1196, 0.008453115796776746), (1197, 0.022861050373476223), (1198, 0.007441328664272651), (1199, 0.013544649875843879), (1200, 0.007837597967870895), (1201, 0.008927654310025407), (1202, 0.022280870963182153), (1203, 0.014693432762587059), (1204, 0.018458893580909515), (1205, 0.008507009851180495), (1206, 0.015442787660588285), (1207, 0.021018537724656488), (1208, 0.03147008722121716), (1209, 0.015282108513577284), (1210, 0.024917851079370574), (1211, 0.021960890144800554), (1212, 0.007733863248362878), (1213, 0.03147083885537185), (1214, 0.027693392794402565), (1215, 0.028045921521959186), (1216, 0.015244110836561062), (1217, 0.012807197188143632), (1218, 0.007452556039151272), (1219, 0.017764882498458673), (1220, 0.027438931884610107), (1221, 0.008762019203424875), (1222, 0.008217433220261479), (1223, 0.030948776035268074), (1224, 0.06656740548040452), (1225, 0.03197068427370836), (1226, 0.038965922722015385), (1227, 0.009166329262497889), (1228, 0.009873783199644085), (1229, 0.03713381770650152), (1230, 0.041108973072544075), (1231, 0.03366846794754852), (1232, 0.05231158465719854), (1233, 0.009025991452317361), (1234, 0.04045189906525419), (1235, 0.00827655569081435), (1236, 0.048578668455567624), (1237, 0.06013164303105692), (1238, 0.008359802206918362), (1239, 0.00834436357004897), (1240, 0.009872467502086962), (1241, 0.013187455288596987), (1242, 0.0076737324235864515), (1243, 0.01814178663352599), (1244, 0.0071874964552331565), (1245, 0.014406714432169747), (1246, 0.00975659811316801), (1247, 0.017482412469335983), (1248, 0.05838802247247239), (1249, 0.00640350901160591), (1250, 0.00908420796957336), (1251, 0.018217539223338488), (1252, 0.05217268012650885), (1253, 0.00923976741815354), (1254, 0.01994733194235867), (1255, 0.03462462084010829), (1256, 0.007973117686468134), (1257, 0.03967133624336896), (1258, 0.012591310529774856), (1259, 0.04456355031678766), (1260, 0.03222349194929732), (1261, 0.015331094271208896), (1262, 0.020789632646330544), (1263, 0.008383914433161948), (1264, 0.0608697647606448), (1265, 0.008179280185071096), (1266, 0.021850132980965), (1267, 0.011583265486327106), (1268, 0.008415722157405795), (1269, 0.008762187586046298), (1270, 0.023598702739597646), (1271, 0.01057723650869763), (1272, 0.021471912987071674), (1273, 0.013359486224849875), (1274, 0.007380136836599438), (1275, 0.05705864356918884), (1276, 0.033281621743425666), (1277, 0.01067062021450765), (1278, 0.00891340598879439), (1279, 0.02779645018979701), (1280, 0.027501799708625534), (1281, 0.02094615267923974), (1282, 0.028814194194432), (1283, 0.007353779056238536), (1284, 0.01842652259496784), (1285, 0.009003679900187238), (1286, 0.019916341493125603), (1287, 0.008327408390465127), (1288, 0.008276835890925208), (1289, 0.005065623527537354), (1290, 0.03613434147941494), (1291, 0.007855112384917502), (1292, 0.048379668535469815), (1293, 0.006516462031572164), (1294, 0.015622971937513939), (1295, 0.010426720323475362), (1296, 0.00786560948412051), (1297, 0.007351467077298474), (1298, 0.014307957321355346), (1299, 0.006692563911886696), (1300, 0.039883586405615616), (1301, 0.016390953704819067), (1302, 0.023777844340481212), (1303, 0.04415605584600698), (1304, 0.014325510000008477), (1305, 0.014269005065217055), (1306, 0.016373791614114303), (1307, 0.0066904072610103225), (1308, 0.013968748766574644), (1309, 0.018146625011200117), (1310, 0.006812909427764459), (1311, 0.1245798952706672), (1312, 0.014922163588750256), (1313, 0.014376729326723904), (1314, 0.04855991569755347), (1315, 0.0069102634807009945), (1316, 0.008048071582198332), (1317, 0.04175189473511136), (1318, 0.016902427584798995), (1319, 0.014824899301955016), (1320, 0.18814783247952055), (1321, 0.010491216511991652), (1322, 0.010030762464702322), (1323, 0.005955823695077529), (1324, 0.016345764457660828), (1325, 0.07506030173221179), (1326, 0.0099510026171), (1327, 0.008626145269565403), (1328, 0.009218169354587955), (1329, 0.009765804418251565), (1330, 0.03747710368384302), (1331, 0.0060091154369367565), (1332, 0.02806473494824979), (1333, 0.007905338144966315), (1334, 0.04050476512963945), (1335, 0.064872294138147), (1336, 0.007806971097033872), (1337, 0.051926229713283756), (1338, 0.03957548141084474), (1339, 0.04274060481226359), (1340, 0.013351345522232234), (1341, 0.006930217526937581), (1342, 0.006878549332994579), (1343, 0.06004050391875757), (1344, 0.03616374948293412), (1345, 0.011292173188783852), (1346, 0.006998539443289221), (1347, 0.02291342008957352), (1348, 0.037215808853457905), (1349, 0.016515465181697386), (1350, 0.01639107621793385), (1351, 0.029465323139808708), (1352, 0.014411966794085577), (1353, 0.008848275983420827), (1354, 0.006378180454837375), (1355, 0.013845912213212241), (1356, 0.02641886301985671), (1357, 0.02214930576586682), (1358, 0.007737440492210334), (1359, 0.01971314074864918), (1360, 0.0569276114555218), (1361, 0.007382741167873692), (1362, 0.110614003245118), (1363, 0.12613608045230792), (1364, 0.016527211756637458), (1365, 0.01615580342389291), (1366, 0.02370358817734062), (1367, 0.015595299811336897), (1368, 0.006643970203524037), (1369, 0.05246835283045069), (1370, 0.015762835518236724), (1371, 0.14359583209953336), (1372, 0.014110073136427707), (1373, 0.0071218130625450215), (1374, 0.0081752973452702), (1375, 0.0288918040046325), (1376, 0.007857098411108102), (1377, 0.03612772424349188), (1378, 0.017050037647042837), (1379, 0.010023001481344409), (1380, 0.0248462200761289), (1381, 0.025361430475565137), (1382, 0.016552082791082327), (1383, 0.033253176142173074), (1384, 0.024594669017223878), (1385, 0.05100345993162668), (1386, 0.008694987734801707), (1387, 0.04320284708648997), (1388, 0.0306512487223947), (1389, 0.008492954812038362), (1390, 0.010310608594756486), (1391, 0.028034962301945198), (1392, 0.015749459551866705), (1393, 0.033784313935481314), (1394, 0.013919974634794014), (1395, 0.015829574251346158), (1396, 0.024675246555730976), (1397, 0.013969615159074862), (1398, 0.023515395169852297), (1399, 0.007015750307877362), (1400, 0.030716799071985393), (1401, 0.009467881867874096), (1402, 0.01680151172951524), (1403, 0.015049127849125243), (1404, 0.017679383710772104), (1405, 0.008424703187038692), (1406, 0.042093112888223996), (1407, 0.025129632106888948), (1408, 0.014884103998699796), (1409, 0.017896650992265496), (1410, 0.02200057807921049), (1411, 0.015683465076419757), (1412, 0.057255828520731446), (1413, 0.03225403790145893), (1414, 0.02332702628963966), (1415, 0.015342271283114018), (1416, 0.019462673118944354), (1417, 0.0546322092547437), (1418, 0.005269116835373319), (1419, 0.04866613233989129), (1420, 0.023369129911231287), (1421, 0.02813376307081649), (1422, 0.013540822473107955), (1423, 0.015793402317236808), (1424, 0.00991146188027066), (1425, 0.007792729564551435), (1426, 0.024996214286532977), (1427, 0.010245353585800483), (1428, 0.02481962719427095), (1429, 0.03735490253713976), (1430, 0.021000334688075457), (1431, 0.02611383524889963), (1432, 0.046867004218802216), (1433, 0.029113129697097565), (1434, 0.016089254026696812), (1435, 0.027174845017760876), (1436, 0.047458960560174936), (1437, 0.032544635547642434), (1438, 0.04252987446153542), (1439, 0.01661570980105071), (1440, 0.04114563081605117), (1441, 0.008785473952625446), (1442, 0.05417964751565551), (1443, 0.029323122926661258), (1444, 0.006495645147656343), (1445, 0.009013688606989305), (1446, 0.01655538265664187), (1447, 0.009173155535314873), (1448, 0.023584961085361032), (1449, 0.027480333440710332), (1450, 0.02234381566531326), (1451, 0.020752654424877233), (1452, 0.028719498987692573), (1453, 0.0071226800065725005), (1454, 0.034844397026428754), (1455, 0.04185546063854535), (1456, 0.01896941010778079), (1457, 0.00669652315431868), (1458, 0.021384460190291138), (1459, 0.010030490968356447), (1460, 0.008989131426820882), (1461, 0.02783576516238709), (1462, 0.02977684907878854), (1463, 0.015315112198097723), (1464, 0.01457122776845609), (1465, 0.013675484399936218), (1466, 0.011104138441954885), (1467, 0.008128591453799124), (1468, 0.007703783725354477), (1469, 0.023677996531294675), (1470, 0.007898109686902596), (1471, 0.043746955029717594), (1472, 0.034468473742343346), (1473, 0.008215843137744056), (1474, 0.01584431936666384), (1475, 0.015919408044395855), (1476, 0.01678300883048818), (1477, 0.015115154709889748), (1478, 0.052383344556296674), (1479, 0.019717016189113076), (1480, 0.025626193332688667), (1481, 0.05633861727289966), (1482, 0.006595246568624501), (1483, 0.06047408774860376), (1484, 0.03678510238381155), (1485, 0.005520844065625254), (1486, 0.010510102667683506), (1487, 0.0071285091158397144), (1488, 0.0311544755596002), (1489, 0.03661297579846884), (1490, 0.008255046347622273), (1491, 0.007762082604178976), (1492, 0.00648215047682521), (1493, 0.019901123225884453), (1494, 0.021582996472799768), (1495, 0.006287134554516549), (1496, 0.008417958115118137), (1497, 0.016919082858949032), (1498, 0.04047250113382155), (1499, 0.01918938969257335), (1500, 0.015652416762674794), (1501, 0.008275296598504917), (1502, 0.02700037208090093), (1503, 0.019358850285405436), (1504, 0.03606262339167978), (1505, 0.008639589559236296), (1506, 0.05543714850616338), (1507, 0.041535431491086995), (1508, 0.007559401853753518), (1509, 0.05562444649928224), (1510, 0.03430868036573636), (1511, 0.008400676439896079), (1512, 0.008037884273914279), (1513, 0.03618454879450665), (1514, 0.01258948223954805), (1515, 0.008655469766050094), (1516, 0.016351191553195418), (1517, 0.009315237245421265), (1518, 0.02250090672613537), (1519, 0.027584084794063872), (1520, 0.010750630203338397), (1521, 0.007484218525814318), (1522, 0.008106089327547283), (1523, 0.006185208118034559), (1524, 0.008590862828606115), (1525, 0.008679317257264122), (1526, 0.010296369398500278), (1527, 0.04205557801706374), (1528, 0.015264231479813817), (1529, 0.007260792778037203), (1530, 0.021043274281810853), (1531, 0.02904919672330735), (1532, 0.00846871955708631), (1533, 0.021235190143560526), (1534, 0.010363643369825358), (1535, 0.005025308060976015), (1536, 0.032201593900260735), (1537, 0.030747239297159945), (1538, 0.011897126733992035), (1539, 0.015142111877942), (1540, 0.04197265537950641), (1541, 0.008981218850403028), (1542, 0.05826384581754396), (1543, 0.01770046365356344), (1544, 0.033477836136939255), (1545, 0.007107066924943561), (1546, 0.026163432375785122), (1547, 0.01823987731704556), (1548, 0.011903072946339285), (1549, 0.0069232076632036055), (1550, 0.015428272156054829), (1551, 0.022440768892658655), (1552, 0.0069485684567848136), (1553, 0.017325891771756356), (1554, 0.022950172291013978), (1555, 0.028843719926478262), (1556, 0.008745314615014642), (1557, 0.0071637071798225545), (1558, 0.013404825301623138), (1559, 0.018986033466431674), (1560, 0.01219842745112643), (1561, 0.007040027955175767), (1562, 0.022862016102128634), (1563, 0.008464499129939613), (1564, 0.008870377980529691), (1565, 0.016239347267772708), (1566, 0.026689459019310798), (1567, 0.04276147137923649), (1568, 0.028430946107478358), (1569, 0.006941714298865899), (1570, 0.015387708174922372), (1571, 0.018382347388286868), (1572, 0.059124761993769495), (1573, 0.02548331355671642), (1574, 0.013751272318971108), (1575, 0.0255972008130706), (1576, 0.02174523198432846), (1577, 0.00805938506538783), (1578, 0.008119473582579034), (1579, 0.00756121776221623), (1580, 0.018389074734532083), (1581, 0.007534782396475045), (1582, 0.038736691726616215), (1583, 0.010619436757958463), (1584, 0.00802762074414154), (1585, 0.02914547533761022), (1586, 0.008484143671298154), (1587, 0.01978395432697857), (1588, 0.02794333781900138), (1589, 0.0079784735912772), (1590, 0.02250249642643167), (1591, 0.05214139263593634), (1592, 0.00809834051155543), (1593, 0.025215816099834816), (1594, 0.022607823050438403), (1595, 0.04996454637066944), (1596, 0.009143416702565653), (1597, 0.016873960494233634), (1598, 0.015722605081262248), (1599, 0.008064567001245347), (1600, 0.008954657439779525), (1601, 0.011573519366701271), (1602, 0.00895033371865684), (1603, 0.007773473467475628), (1604, 0.00905410054893727), (1605, 0.013094871523378031), (1606, 0.00860738348558035), (1607, 0.007447673577380395), (1608, 0.030178357888416375), (1609, 0.01008485068582539), (1610, 0.006374209291061418), (1611, 0.007807203237954365), (1612, 0.01362774924872448), (1613, 0.010764670704597606), (1614, 0.023892853279237233), (1615, 0.010767785875699631), (1616, 0.016572124869422753), (1617, 0.018026544088236472), (1618, 0.008000530943918645), (1619, 0.02093806496886941), (1620, 0.0340577676588198), (1621, 0.05258881370241786), (1622, 0.02166344328922324), (1623, 0.023347890812659897), (1624, 0.012743627938962204), (1625, 0.018215348207250518), (1626, 0.00905881622190979), (1627, 0.023922845964721683), (1628, 0.014949352648926488), (1629, 0.049760335911065545), (1630, 0.019876807263340686), (1631, 0.0265706850673189), (1632, 0.02653878470015672), (1633, 0.02089777398643567), (1634, 0.016747559014476377), (1635, 0.020411556160794837), (1636, 0.00871764062822203), (1637, 0.02042785490947722), (1638, 0.007008591223264058), (1639, 0.007503204975766569), (1640, 0.00816952761695359), (1641, 0.014156874031066788), (1642, 0.01403774204285176), (1643, 0.03147106011206962), (1644, 0.007674893187083036), (1645, 0.013200645160869186), (1646, 0.007212371020559027), (1647, 0.008453392298311317), (1648, 0.015255009530377972), (1649, 0.006937312376704825), (1650, 0.018845221419756333), (1651, 0.007202592354433398), (1652, 0.006736965558010971), (1653, 0.029136630136522217), (1654, 0.007185529642307608), (1655, 0.024970301059970487), (1656, 0.016363684823699667), (1657, 0.006947258587800929), (1658, 0.01630100908153385), (1659, 0.023234426740644642), (1660, 0.0179371882201309), (1661, 0.025721654538562743), (1662, 0.02344024650232771), (1663, 0.015487038600735224), (1664, 0.0064286297450206215), (1665, 0.04684532974389525), (1666, 0.018844088747804126), (1667, 0.049128096416588864), (1668, 0.00886133432698338), (1669, 0.010195781908602588), (1670, 0.014365470393766806), (1671, 0.047954941055828045), (1672, 0.01440113618308114), (1673, 0.008907991234199915), (1674, 0.028787949616130182), (1675, 0.03865039965168429), (1676, 0.0065970267932186815), (1677, 0.012923508315337527), (1678, 0.047044075407737085), (1679, 0.009568938899887764), (1680, 0.05093999940699684), (1681, 0.05893505609752603), (1682, 0.017418021126943864), (1683, 0.019212176949736995), (1684, 0.0068694698162218085), (1685, 0.01582297369147171), (1686, 0.009077363580786545), (1687, 0.053793248738981225), (1688, 0.016516949604790842), (1689, 0.008612277320724579), (1690, 0.014688071970405739), (1691, 0.01607787429342998), (1692, 0.008554379156157522), (1693, 0.013136525766130329), (1694, 0.040112582549979695), (1695, 0.0051656917210445765), (1696, 0.017841488334227554), (1697, 0.00756875439391474), (1698, 0.0066369969447622815), (1699, 0.017029118016317967), (1700, 0.010456001826164529), (1701, 0.021042698453523287), (1702, 0.0096899456307226), (1703, 0.013663593852364823), (1704, 0.009172200822701721), (1705, 0.0299080806116118), (1706, 0.015715564292777755), (1707, 0.021707402316509285), (1708, 0.013898787545388583), (1709, 0.007386728805934019), (1710, 0.017545455538363366), (1711, 0.01975792511787241), (1712, 0.018976363621327902), (1713, 0.027703742760860215), (1714, 0.007973568544994694), (1715, 0.008978291477266531), (1716, 0.06648488576512429), (1717, 0.018943646908288897), (1718, 0.009256287593604296), (1719, 0.01650098572000418), (1720, 0.00850964128638194), (1721, 0.028720046267722992), (1722, 0.016559101249813857), (1723, 0.025029282216589187), (1724, 0.0257275379390458), (1725, 0.00813940561660869), (1726, 0.008144757166682847), (1727, 0.0412708214474214), (1728, 0.006862611570769259), (1729, 0.007167571324512693), (1730, 0.013577334415996026), (1731, 0.007908172145225545), (1732, 0.021810925144516845), (1733, 0.017303261637557497), (1734, 0.008350467031649543), (1735, 0.037112413600842574), (1736, 0.043341140318226064), (1737, 0.007816933099693462), (1738, 0.029441667735909074), (1739, 0.05418988938892132), (1740, 0.056743683415865595), (1741, 0.009118295243666372), (1742, 0.013565816125419027), (1743, 0.014203446301175152), (1744, 0.013770185465640308), (1745, 0.008162660074494881), (1746, 0.00756636673842079), (1747, 0.011634952517914013), (1748, 0.0160441526579088), (1749, 0.024406678642106983), (1750, 0.007908508934357189), (1751, 0.008455599649556722), (1752, 0.006406709354466558), (1753, 0.018344352028994926), (1754, 0.039571871615084526), (1755, 0.008674742834078182), (1756, 0.007805928940692578), (1757, 0.009042456370965398), (1758, 0.0177505982414252), (1759, 0.014654331260644452), (1760, 0.02895635823403972), (1761, 0.02089106371200415), (1762, 0.01496629436737946), (1763, 0.014834236137782354), (1764, 0.017028541226968077), (1765, 0.01628265760788066), (1766, 0.009091984254234945), (1767, 0.00880849425831455), (1768, 0.01802735161837821), (1769, 0.008385322125106162), (1770, 0.009135122930351305), (1771, 0.007238545253669378), (1772, 0.022733065882030758), (1773, 0.023466170079640913), (1774, 0.03997024429317397), (1775, 0.008031138969458528), (1776, 0.04709352075599086), (1777, 0.008765172316883686), (1778, 0.00802301327335714), (1779, 0.03193434701384716), (1780, 0.017336635094069717), (1781, 0.031542189723175754), (1782, 0.019405122848312594), (1783, 0.008109257803034432), (1784, 0.02069009219929566), (1785, 0.010078653495110682), (1786, 0.009452152717512353), (1787, 0.007211098367058848), (1788, 0.0299924312164123), (1789, 0.046851844880183645), (1790, 0.01239375761282956), (1791, 0.024816602355904646), (1792, 0.015954259830579767), (1793, 0.020109444427831046), (1794, 0.0075375833389643085), (1795, 0.006883515826100006), (1796, 0.04061038853091802), (1797, 0.02368868499245995), (1798, 0.01596687820149943), (1799, 0.03943750156162448), (1800, 0.007992068790284378), (1801, 0.012433966012071754), (1802, 0.00777257397528151), (1803, 0.00970120861208286), (1804, 0.007453892293338147), (1805, 0.023108025969353914), (1806, 0.04020131521047315), (1807, 0.017254131912894932), (1808, 0.015145360539825299), (1809, 0.021164653040061692), (1810, 0.0071035702612345375), (1811, 0.029470265823223037), (1812, 0.02927830006047465), (1813, 0.021839520231545066), (1814, 0.014286313970396399), (1815, 0.058853301524896096), (1816, 0.0313087731117262), (1817, 0.026738184626666623), (1818, 0.009017153958371422), (1819, 0.03098802968620278), (1820, 0.009191707377907709), (1821, 0.1419810844672113), (1822, 0.014977149339057257), (1823, 0.00788759539225295), (1824, 0.008268147962770318), (1825, 0.00782423311769848), (1826, 0.01488901334008234), (1827, 0.017317107318571726), (1828, 0.016959186578638902), (1829, 0.034266671192305725), (1830, 0.013462940861431034), (1831, 0.013169490288666546), (1832, 0.04807074739698455), (1833, 0.011040691332766969), (1834, 0.008312869178983266), (1835, 0.007703497140091291), (1836, 0.008204384946141563), (1837, 0.007010126744323214), (1838, 0.022055030163789013), (1839, 0.008504036367543044), (1840, 0.023243499647041994), (1841, 0.007298608784649661), (1842, 0.008586323121303321), (1843, 0.015908107387119872), (1844, 0.009027526103925937), (1845, 0.027561483552621523), (1846, 0.024669462681164888), (1847, 0.028192140202083313), (1848, 0.021023166587484515), (1849, 0.0076661491357877375), (1850, 0.007398005416779516), (1851, 0.0176593810738667), (1852, 0.020855719882824482), (1853, 0.048804332160485644), (1854, 0.03374391204798852), (1855, 0.008354240643202655), (1856, 0.008462241250647293), (1857, 0.028023898528809113), (1858, 0.04941379526355173), (1859, 0.025355076837229817), (1860, 0.017376739708363592), (1861, 0.03894198376791492), (1862, 0.01661036980483444), (1863, 0.008031561328954176), (1864, 0.03349348123883917), (1865, 0.03503924783717567), (1866, 0.03588896025086971), (1867, 0.0075514528380171645), (1868, 0.007959496971315119), (1869, 0.01519993115630749), (1870, 0.008486319187660421), (1871, 0.016220581239804344), (1872, 0.016597171110501983), (1873, 0.026539204441264536), (1874, 0.04528832962844076), (1875, 0.015751862519827124), (1876, 0.03671976671151785), (1877, 0.01513327876854019), (1878, 0.017339256704101764), (1879, 0.008764999061280806), (1880, 0.00881425571648951), (1881, 0.021086139866189735), (1882, 0.012881306410554797), (1883, 0.00920991617404955), (1884, 0.02179528709757622), (1885, 0.017671346895452068), (1886, 0.012458035581794955), (1887, 0.02001711052593345), (1888, 0.0066044425141657676), (1889, 0.008795371603269512), (1890, 0.0185568678891479), (1891, 0.014735932240390439), (1892, 0.029623867743400426), (1893, 0.017055603364386992), (1894, 0.008033335148388068), (1895, 0.006687486013173592), (1896, 0.015459553021022698), (1897, 0.02855370221479986), (1898, 0.010139907709245954), (1899, 0.008335822717864254), (1900, 0.0264029859323033), (1901, 0.026659216365791986), (1902, 0.031204264656411972), (1903, 0.007988018557885371), (1904, 0.022559509692215315), (1905, 0.019264382353118597), (1906, 0.00867458463544606), (1907, 0.01705623697613546), (1908, 0.007420957813078144), (1909, 0.016032534503463237), (1910, 0.023384264757832014), (1911, 0.008118078081454202), (1912, 0.007008788697252466), (1913, 0.008409075923305687), (1914, 0.022210445145144656), (1915, 0.007465981699747647), (1916, 0.019195833089718464), (1917, 0.009975884031125115), (1918, 0.03629855545234503), (1919, 0.023598527123798445), (1920, 0.013390055869915755), (1921, 0.01380941758261518), (1922, 0.03158914010634787), (1923, 0.04619620706982755), (1924, 0.03153335454733981), (1925, 0.026508015545265932), (1926, 0.009016646240956881), (1927, 0.023806356870523907), (1928, 0.008023948981924885), (1929, 0.021869460690597014), (1930, 0.024445398756307954), (1931, 0.031335890428029485), (1932, 0.006986394276191382), (1933, 0.026148796900943908), (1934, 0.022339075183778062), (1935, 0.0076143454775889465), (1936, 0.014713542426802636), (1937, 0.03922266614667435), (1938, 0.0051161692627146975), (1939, 0.03657795214525963), (1940, 0.0318673082141425), (1941, 0.025480011392059403), (1942, 0.05297222060042758), (1943, 0.013808157353463118), (1944, 0.008400597159113342), (1945, 0.027852132184085835), (1946, 0.02084583757967251), (1947, 0.018437299652792588), (1948, 0.007652299240861258), (1949, 0.05514291817557916), (1950, 0.014503658187846616), (1951, 0.018594770985090932), (1952, 0.02159454026198411), (1953, 0.02205715429330998), (1954, 0.01467144943370888), (1955, 0.007558902157985075), (1956, 0.00813731441570183), (1957, 0.008644773630702306), (1958, 0.04167414563865935), (1959, 0.020631631343136194), (1960, 0.027721778642994042), (1961, 0.00842869561100611), (1962, 0.03010680041274239), (1963, 0.007101899434015539), (1964, 0.026936246165069573), (1965, 0.008730569819394303), (1966, 0.006952835196087968), (1967, 0.05118734995468865), (1968, 0.04001131616805506), (1969, 0.012976816722410911), (1970, 0.046752613363406775), (1971, 0.03488224953065959), (1972, 0.008818043918471678), (1973, 0.023304137387514474), (1974, 0.007496933194646666), (1975, 0.027545140045345657), (1976, 0.026361655068428785), (1977, 0.015450021278910915), (1978, 0.006532759434124997), (1979, 0.0076281386426435985), (1980, 0.010766798505108125), (1981, 0.029434410768821445), (1982, 0.11749348746510503), (1983, 0.06488167237529119), (1984, 0.010250997265583452), (1985, 0.05949021741839153), (1986, 0.02940250855232551), (1987, 0.038815355707596214), (1988, 0.007167781683762375), (1989, 0.042686643200200144), (1990, 0.019417545830483055), (1991, 0.14259116316454346), (1992, 0.045342568938156635), (1993, 0.025211251642585412), (1994, 0.007471909656103858), (1995, 0.018232252111740635), (1996, 0.02493229050061229), (1997, 0.06456095311669119), (1998, 0.023065209297660063), (1999, 0.008454615320515039), (2000, 0.01634231431366799), (2001, 0.008867067679446986), (2002, 0.007860236579066543), (2003, 0.008381888456837946), (2004, 0.01607352487361361), (2005, 0.0061633165597530844), (2006, 0.0074274548667710594), (2007, 0.007457224816718657), (2008, 0.027118080419994278), (2009, 0.00770787599118879), (2010, 0.011244244412387281), (2011, 0.01620277054053783), (2012, 0.028939613627432907), (2013, 0.01730396207114049), (2014, 0.10855884490170134), (2015, 0.02194833121441974), (2016, 0.03790001447031863), (2017, 0.00774298697117903), (2018, 0.006765393808507682), (2019, 0.006927065944284409), (2020, 0.0070019870579186416), (2021, 0.00963015081178902), (2022, 0.007762088189984253), (2023, 0.05811532524983864), (2024, 0.05454152940903727), (2025, 0.0073511639412393226), (2026, 0.1513055647188552), (2027, 0.015278715134378295), (2028, 0.007795569723008635), (2029, 0.04755324646060942), (2030, 0.008987794195687631), (2031, 0.03566041145458911), (2032, 0.012349317182418582), (2033, 0.007700262428472784), (2034, 0.017756690932426218), (2035, 0.015352466608690375), (2036, 0.00666774273641887), (2037, 0.07382146753281003), (2038, 0.006847641484606074), (2039, 0.015754180903104747), (2040, 0.06603149273592247), (2041, 0.009153620201346009), (2042, 0.007554797550059251), (2043, 0.007007389638809402), (2044, 0.02667288656123115), (2045, 0.02964559100929591), (2046, 0.007453216021319735), (2047, 0.018379848092501896), (2048, 0.01659375171334631), (2049, 0.017613599782912232), (2050, 0.007523647020476018), (2051, 0.015903803733619645), (2052, 0.007564654430199192), (2053, 0.06734937889721337), (2054, 0.01073109250488199), (2055, 0.034731772377046034), (2056, 0.007734944520282916), (2057, 0.040970392819082484), (2058, 0.008102293694984393), (2059, 0.005727958562286121), (2060, 0.021558067401529605), (2061, 0.03420068892273815), (2062, 0.02262802620169989), (2063, 0.01634948348556524), (2064, 0.0075981524994380364), (2065, 0.03147593005753664), (2066, 0.04980955246630539), (2067, 0.013393177689878747), (2068, 0.016569827408863456), (2069, 0.027312935753110452), (2070, 0.052504094692237636), (2071, 0.006772969097081118), (2072, 0.028827797970153154), (2073, 0.01707265684308314), (2074, 0.02411508281551645), (2075, 0.04419399588603873), (2076, 0.032118091881028564), (2077, 0.04581180616379564), (2078, 0.0255621851602597), (2079, 0.010091932085006446), (2080, 0.047978834475250316), (2081, 0.00797612563881218), (2082, 0.03424470958781369), (2083, 0.014422802328464431), (2084, 0.026707983695972354), (2085, 0.00844168870914373), (2086, 0.007192740576921885), (2087, 0.013690988691086894), (2088, 0.02948535437057556), (2089, 0.03538297368843508), (2090, 0.008174264871380706), (2091, 0.02696884428096382), (2092, 0.007094481201132355), (2093, 0.03071123272682324), (2094, 0.028031646445653324), (2095, 0.00693738133202049), (2096, 0.06313852190886507), (2097, 0.04991940375368893), (2098, 0.007612191560881313), (2099, 0.018173071138564693), (2100, 0.007293063068757042), (2101, 0.010160913377263542), (2102, 0.016557241500808503), (2103, 0.014908849356947768), (2104, 0.034207458864315886), (2105, 0.016754360889481748), (2106, 0.009095830885515051), (2107, 0.007389753014687349), (2108, 0.018624804043457253), (2109, 0.01506219671476382), (2110, 0.040285353287907985), (2111, 0.021361751613981888), (2112, 0.06333554482319186), (2113, 0.009224496070956007), (2114, 0.006492210874693238), (2115, 0.00908549383424673), (2116, 0.018391219594520707), (2117, 0.016666343541404744), (2118, 0.008915207970566396), (2119, 0.04441905940232447), (2120, 0.009619143802276955), (2121, 0.036245832875455714), (2122, 0.11029776848229528), (2123, 0.1617668191577978), (2124, 0.007753592078305827), (2125, 0.008609913342519442), (2126, 0.051589122649661354), (2127, 0.01203177948502655), (2128, 0.007530914162979839), (2129, 0.01513642424843014), (2130, 0.0252842060539987), (2131, 0.016407049200958403), (2132, 0.016362275242802732), (2133, 0.018605537304225043), (2134, 0.01606890458404636), (2135, 0.00934518645528678), (2136, 0.025716437558075022), (2137, 0.09336222643643469), (2138, 0.00855122432795921), (2139, 0.02071397320678507), (2140, 0.009638633596356291), (2141, 0.01634833628581972), (2142, 0.01799693206236027), (2143, 0.013336698918964853), (2144, 0.01859976026195104), (2145, 0.008235370281052734), (2146, 0.013971045386677237), (2147, 0.12408955050787011), (2148, 0.016584044984073495), (2149, 0.02018555820653938), (2150, 0.008394848604045442), (2151, 0.017369232787504862), (2152, 0.006581939060261102), (2153, 0.007391473704692602), (2154, 0.05787984075069269), (2155, 0.11566015671668539), (2156, 0.009379302563991233), (2157, 0.0075781611029313595), (2158, 0.03824832393267994), (2159, 0.01726359538937659), (2160, 0.008553642132422469), (2161, 0.006077703927453772), (2162, 0.054241323383774034), (2163, 0.016657794847764182), (2164, 0.008417974714950108), (2165, 0.010296728996893222), (2166, 0.0179760915090379), (2167, 0.007645523938862521), (2168, 0.008571461418816173), (2169, 0.016251363386753575), (2170, 0.0073957662452735235), (2171, 0.007730038834541006), (2172, 0.021485421148961473), (2173, 0.019789207384437228), (2174, 0.0491082574248892), (2175, 0.0074087812619028914), (2176, 0.014720387073005641), (2177, 0.008199808304507117), (2178, 0.054430081430723365), (2179, 0.00841493619626194), (2180, 0.011493140908904879), (2181, 0.025732723389330754), (2182, 0.011367865606540344), (2183, 0.0075330614474740445), (2184, 0.024114817648813396), (2185, 0.013490563128986461), (2186, 0.02193119574929148), (2187, 0.14837041348159366), (2188, 0.1358637697881819), (2189, 0.05507777221559119), (2190, 0.02457858576569591), (2191, 0.07592542106556854), (2192, 0.014190893525495313), (2193, 0.022630921327145212), (2194, 0.03555149767439961), (2195, 0.017170522274778117), (2196, 0.06955468949666654), (2197, 0.026074110718995812), (2198, 0.010669222025626977), (2199, 0.02529172314142511), (2200, 0.007489049748605037), (2201, 0.014697300033821557), (2202, 0.007284079592553502), (2203, 0.011063828100874529), (2204, 0.006446144426435738), (2205, 0.007574942001332985), (2206, 0.047575393810111596), (2207, 0.01143128526871202), (2208, 0.03202745893470533), (2209, 0.01582951334653562), (2210, 0.09914876133529914), (2211, 0.01165499857826679), (2212, 0.04737584388244569), (2213, 0.0195337868966162), (2214, 0.18263244868167), (2215, 0.007609571052258762), (2216, 0.05252147865020591), (2217, 0.010264760435558625), (2218, 0.01451651235712074), (2219, 0.0112520095933511), (2220, 0.007293862862792714), (2221, 0.019124012782958985), (2222, 0.010747204284563092), (2223, 0.016073907308835227), (2224, 0.05713642155114619), (2225, 0.009199494262923847), (2226, 0.024652469389518292), (2227, 0.008882461030375764), (2228, 0.04445878862651444), (2229, 0.17875573379544468), (2230, 0.03206877140904461), (2231, 0.025222840581787292), (2232, 0.021554090244027414), (2233, 0.007972356073949728), (2234, 0.009209928245382314), (2235, 0.15251522567829143), (2236, 0.028099770214033423), (2237, 0.031040083304405018), (2238, 0.04981607506601278), (2239, 0.007143787034301247), (2240, 0.010491261123709695), (2241, 0.04123797864020985), (2242, 0.016702245003373015), (2243, 0.008933082141379804), (2244, 0.008586927665001406), (2245, 0.023931340681027636), (2246, 0.023048527893596103), (2247, 0.012229976343497494), (2248, 0.013992365163719513), (2249, 0.010120682710325162), (2250, 0.062335196639342255), (2251, 0.061503802823516814), (2252, 0.027983894069529468), (2253, 0.01042157201538519), (2254, 0.06629364043082307), (2255, 0.12112912690797024), (2256, 0.008909896033165247), (2257, 0.07555946783723513), (2258, 0.010069774310014903), (2259, 0.008930943530798954), (2260, 0.015419169812445274), (2261, 0.015816088550237396), (2262, 0.008236230994628694), (2263, 0.02780592025461443), (2264, 0.036149201077200224), (2265, 0.01865440988185363), (2266, 0.08174862956895261), (2267, 0.011164429204733678), (2268, 0.014514571125290329), (2269, 0.0401001718448533), (2270, 0.012644026383507544), (2271, 0.012205164281153563), (2272, 0.007892397627907125), (2273, 0.07394931008383492), (2274, 0.008190339359767311), (2275, 0.17496464719884672), (2276, 0.06956414367241513), (2277, 0.014373806353393349), (2278, 0.02214134242087743), (2279, 0.028857886623197434), (2280, 0.04885821038240191), (2281, 0.036560883903411286), (2282, 0.015470872374142654), (2283, 0.02356298813657399), (2284, 0.06521965739301018), (2285, 0.01251382534404679), (2286, 0.02416587279842685), (2287, 0.012807122646687766), (2288, 0.12093264724202685), (2289, 0.046822522532360925), (2290, 0.017848054020113746), (2291, 0.00832571177171397), (2292, 0.01758562896429809), (2293, 0.033176697745552486), (2294, 0.006668334763517287), (2295, 0.17875573379544468), (2296, 0.009616953871832428), (2297, 0.008830340912103704), (2298, 0.007979113816436598), (2299, 0.12093264724202685), (2300, 0.013107525911087964), (2301, 0.016278393978500515), (2302, 0.02000782393323462), (2303, 0.019541320850760283), (2304, 0.04287965299168196), (2305, 0.012865029764748674), (2306, 0.021550245032748827), (2307, 0.009269963824733862), (2308, 0.10960081225157667), (2309, 0.015018691408988257), (2310, 0.04435696290005312), (2311, 0.014037554057880984), (2312, 0.009797755361133087), (2313, 0.014454262532827476), (2314, 0.02385357586894858), (2315, 0.00750789088474634), (2316, 0.03763156968376637), (2317, 0.05276461666466875), (2318, 0.04334161417353693), (2319, 0.01836311965878955), (2320, 0.04245496266306598), (2321, 0.15717914973404717), (2322, 0.012271641809576463), (2323, 0.014931531164049262), (2324, 0.09299370906837813), (2325, 0.01801904411061646), (2326, 0.026494251571879374), (2327, 0.007514322683025502), (2328, 0.10567003233863481), (2329, 0.006068303435226994), (2330, 0.02631962065152066), (2331, 0.006820737612389973), (2332, 0.011844293041048358), (2333, 0.03933802475301499), (2334, 0.0520760392726903), (2335, 0.01016700905678512), (2336, 0.04097071356638721), (2337, 0.010617161817633163), (2338, 0.014286158254755293), (2339, 0.012065300426818698), (2340, 0.02512484085120103), (2341, 0.008140924192740675), (2342, 0.008663119870046452), (2343, 0.009505245951285433), (2344, 0.041640883519106726), (2345, 0.0073157899677849594), (2346, 0.18773021270214865), (2347, 0.012224623835635356), (2348, 0.04434017483276947), (2349, 0.04434770646606331), (2350, 0.03375601905283402), (2351, 0.00996005659695896), (2352, 0.007003796462794682), (2353, 0.028075676052566327), (2354, 0.017650997694733973), (2355, 0.02830272674216402), (2356, 0.018078972580305316), (2357, 0.016679629303033218), (2358, 0.0076311820589502494), (2359, 0.01650849755886486), (2360, 0.008741641924964499), (2361, 0.01679001887886416), (2362, 0.022639368862328625), (2363, 0.1223758997364343), (2364, 0.006910483165589296), (2365, 0.01191868622418768), (2366, 0.006134844272902763), (2367, 0.01631149500262762), (2368, 0.03933802475301499), (2369, 0.008104883206289626), (2370, 0.017932679653007245), (2371, 0.009623677446694593), (2372, 0.00784087584265562), (2373, 0.00890619214072194), (2374, 0.030346654400607333), (2375, 0.14732589429368145), (2376, 0.011091021588984859), (2377, 0.008116825133489517), (2378, 0.018506104678953632), (2379, 0.06719096509630365), (2380, 0.008562868569584318), (2381, 0.01201567783167429), (2382, 0.013719824857041818), (2383, 0.17496464719884672), (2384, 0.05575216699255911), (2385, 0.02261462126541774), (2386, 0.016492514267400463), (2387, 0.017594575281233548), (2388, 0.047451847295859106), (2389, 0.0057648064997914954), (2390, 0.0158385810905218), (2391, 0.04032171450302443), (2392, 0.12093264724202685), (2393, 0.01759788860631643), (2394, 0.04461089403321577), (2395, 0.021714840710330037), (2396, 0.016280111734272996), (2397, 0.018065169732465126), (2398, 0.007336346336003007), (2399, 0.01700076123545053), (2400, 0.07333459381224791), (2401, 0.04838197984239764), (2402, 0.0202754699404343), (2403, 0.016685435920453146), (2404, 0.09336222643643469), (2405, 0.017680452775092354), (2406, 0.1378708161663153), (2407, 0.08174862956895261), (2408, 0.007586182301604997), (2409, 0.009091339961551499), (2410, 0.03170270357914325), (2411, 0.01999371398869761), (2412, 0.055910871111909795), (2413, 0.026244945219898206), (2414, 0.00871508999396449), (2415, 0.03774961303598783), (2416, 0.05276461666466875), (2417, 0.02086815771422329), (2418, 0.019388192664266723), (2419, 0.016468157388325754), (2420, 0.011182058048452796), (2421, 0.026914750357809884), (2422, 0.018284418804302767), (2423, 0.06719096509630365), (2424, 0.036735740969297506), (2425, 0.12093264724202685), (2426, 0.013060075105326207), (2427, 0.08151807563289128), (2428, 0.0579032049313717), (2429, 0.04685678047094498), (2430, 0.016540749123825173), (2431, 0.006790676446607052), (2432, 0.020368731833248745), (2433, 0.02181717566382401), (2434, 0.04245496266306598), (2435, 0.007813918588767586), (2436, 0.02573408303496976), (2437, 0.023255764226199956), (2438, 0.02196726410542538), (2439, 0.00822643705230144), (2440, 0.030353279982641018), (2441, 0.014481288508054468), (2442, 0.02396280065208345), (2443, 0.030901887481193605), (2444, 0.10470575733347347), (2445, 0.007788205240891756), (2446, 0.01649998243605206), (2447, 0.05769804681702405), (2448, 0.0478680987596575), (2449, 0.036560883903411286), (2450, 0.007744274860543749), (2451, 0.010514307722381547), (2452, 0.05575216699255911), (2453, 0.02181855008977704), (2454, 0.12093264724202685), (2455, 0.02706621961481192), (2456, 0.014499944026885453), (2457, 0.014627410805112488), (2458, 0.009198782307970894), (2459, 0.08090150661192413), (2460, 0.0092965573631764), (2461, 0.013944227632685604), (2462, 0.008208837079732082), (2463, 0.017732109120034593), (2464, 0.08537191883856178), (2465, 0.009797231989505228), (2466, 0.015147403253350126), (2467, 0.018767236274103205), (2468, 0.09731811560796372), (2469, 0.010063234231095283), (2470, 0.04981607506601278), (2471, 0.006841954448391849), (2472, 0.007479669289194737), (2473, 0.016402918852036312), (2474, 0.01574926780514366), (2475, 0.0449738287914006), (2476, 0.11029204989327837), (2477, 0.038642698616089904), (2478, 0.019857107476734245), (2479, 0.019602626418137602), (2480, 0.02811443264278309), (2481, 0.015531518450619826), (2482, 0.012568224659520311), (2483, 0.05575216699255911), (2484, 0.04115504944301041), (2485, 0.042143728771904025), (2486, 0.07104330259897167), (2487, 0.04920771298018385), (2488, 0.07143140583139332), (2489, 0.037598594589599216), (2490, 0.09336222643643469), (2491, 0.008501461303648235), (2492, 0.07143140583139332), (2493, 0.010586070117744244), (2494, 0.07143140583139332), (2495, 0.03523598757920023), (2496, 0.026940035733633245), (2497, 0.007926910424290837), (2498, 0.009444214381267402), (2499, 0.008646955459551424), (2500, 0.021792611599984663), (2501, 0.02467475524706671), (2502, 0.019790320523649683), (2503, 0.009250392997438482), (2504, 0.01306276454424852), (2505, 0.01978943798167033), (2506, 0.05807111157999858), (2507, 0.014775196345959193), (2508, 0.00854587009059511), (2509, 0.01589897076205396), (2510, 0.008720475915855692), (2511, 0.011089855187841106), (2512, 0.04533666012360067), (2513, 0.012948504739606445), (2514, 0.007710924846193753), (2515, 0.05575216699255911), (2516, 0.008897291415211544), (2517, 0.006097567824913195), (2518, 0.012120572610447144), (2519, 0.07574896626606101), (2520, 0.020904329729546117), (2521, 0.01574070985475689), (2522, 0.055259317350852044), (2523, 0.007175934884124987), (2524, 0.05037425164945151), (2525, 0.01465002685173253), (2526, 0.01715664284333084), (2527, 0.019347351217517496), (2528, 0.017572318805807507), (2529, 0.07143140583139332), (2530, 0.029708245496296342), (2531, 0.057471086910957765), (2532, 0.015123678385118815), (2533, 0.022965685479337125), (2534, 0.014067338375437756), (2535, 0.02348624788658739), (2536, 0.05575216699255911), (2537, 0.045953393577522414), (2538, 0.013708012000922306), (2539, 0.006041798563708075), (2540, 0.1318925327095654), (2541, 0.024084707604357963), (2542, 0.007462795154126309), (2543, 0.03933802475301499), (2544, 0.022224282829779632), (2545, 0.01884699432667076), (2546, 0.04199789485459054), (2547, 0.011292898975296577), (2548, 0.0064109472439420456), (2549, 0.016075926647387127), (2550, 0.055182776956703906), (2551, 0.007774153573538063), (2552, 0.01822064817735953), (2553, 0.014285252056000404), (2554, 0.019761523646655735), (2555, 0.04257700357796242), (2556, 0.021795387645794664), (2557, 0.01969320848547591), (2558, 0.3158063635184192), (2559, 0.042004404867482616), (2560, 0.08174862956895261), (2561, 0.09336222643643469), (2562, 0.009473362112191425), (2563, 0.020052977062951345), (2564, 0.016390143452668343), (2565, 0.016977504655514106), (2566, 0.008783036188220038), (2567, 0.024557962135544686), (2568, 0.014123669029746393), (2569, 0.07003072021291505), (2570, 0.04032171450302443), (2571, 0.018119112502943062), (2572, 0.017294325492809893), (2573, 0.015949187269372736), (2574, 0.006967002862013729), (2575, 0.007686084244120981), (2576, 0.023122852906881066), (2577, 0.042143728771904025), (2578, 0.007733958442285704), (2579, 0.019541002873434972), (2580, 0.036972357802396966), (2581, 0.1223758997364343), (2582, 0.011010734494699337), (2583, 0.02780592025461443), (2584, 0.00634709934137271), (2585, 0.03437495033765574), (2586, 0.007836368476477227), (2587, 0.01281243494536504), (2588, 0.009935626881152472), (2589, 0.007055009877896928), (2590, 0.00894014510747659), (2591, 0.06719096509630365), (2592, 0.020348236857832117), (2593, 0.01829461881183935), (2594, 0.007669023078760495), (2595, 0.01673519275360874), (2596, 0.006371544115217396), (2597, 0.02730163315965075), (2598, 0.03112874421399028), (2599, 0.023588024871457763), (2600, 0.08542721231344994), (2601, 0.041326176810905814), (2602, 0.058478335674966214), (2603, 0.015670209346590663), (2604, 0.02093002247105246), (2605, 0.008638026164913788), (2606, 0.030935045235073032), (2607, 0.04939574482501789), (2608, 0.007208239461952751), (2609, 0.015719215342526585), (2610, 0.015380280785601531), (2611, 0.019810048831286866), (2612, 0.016650126911672128), (2613, 0.04838197984239764), (2614, 0.023129918956584134), (2615, 0.007746489720799372), (2616, 0.006686581314350392), (2617, 0.058618888364287663), (2618, 0.06665381983716896), (2619, 0.06277435865844112), (2620, 0.009185476539300545), (2621, 0.03965183501775327), (2622, 0.018696553739159794), (2623, 0.020576983140326313), (2624, 0.04876661670071795), (2625, 0.07356334631508449), (2626, 0.023536644979291952), (2627, 0.006153582763530943), (2628, 0.03437495033765574), (2629, 0.01755080292221889), (2630, 0.023065025746144323), (2631, 0.023873168857664533), (2632, 0.03340331908767712), (2633, 0.07143140583139332), (2634, 0.018547973323791416), (2635, 0.037985132861453844), (2636, 0.04838197984239764), (2637, 0.036560883903411286), (2638, 0.17119360552120516), (2639, 0.0073912643731370315), (2640, 0.03081310741471012), (2641, 0.006634062484978557), (2642, 0.02260095065285962), (2643, 0.04701539100999911), (2644, 0.008508173940765555), (2645, 0.05792817813931543), (2646, 0.009227662843766313), (2647, 0.0307376553749641), (2648, 0.009112796939109411), (2649, 0.08850766320058576), (2650, 0.017358492222256154), (2651, 0.02967051604679667), (2652, 0.04179704523493861), (2653, 0.014322685658488172), (2654, 0.009198333523362115), (2655, 0.1670246187731515), (2656, 0.036560883903411286), (2657, 0.04123797864020985), (2658, 0.019651681338020692), (2659, 0.02224460995641872), (2660, 0.009357878221549232), (2661, 0.012288368812518696), (2662, 0.007412177476474626), (2663, 0.011557109892391526), (2664, 0.016758136285971975), (2665, 0.00922529484224614), (2666, 0.00768624643062525), (2667, 0.04123797864020985), (2668, 0.06455004266781203), (2669, 0.05575216699255911), (2670, 0.022945218570259707), (2671, 0.008560248566212587), (2672, 0.012467966617645904), (2673, 0.12093264724202685), (2674, 0.024706897728855357), (2675, 0.05575216699255911), (2676, 0.011781583622911478), (2677, 0.008554571534533527), (2678, 0.027888306113092568), (2679, 0.017527386904900848), (2680, 0.028802268266863017), (2681, 0.007127611621489805), (2682, 0.023977865843087743), (2683, 0.03506594879377989), (2684, 0.02726303573582148), (2685, 0.007198171564931587), (2686, 0.005684517876070367), (2687, 0.020691769542983407), (2688, 0.007310661761459872), (2689, 0.04059830908176301), (2690, 0.008879881637440502), (2691, 0.007346660467969199), (2692, 1.0000000000000002), (2693, 0.007921326478881488), (2694, 0.16075965196085557), (2695, 0.058891855723690656), (2696, 0.04245496266306598), (2697, 0.0450753075106102), (2698, 0.017325662549185147), (2699, 0.008718532307412348), (2700, 0.14349568666831625), (2701, 0.03933802475301499), (2702, 0.01746265887771997), (2703, 0.00895506922306436), (2704, 0.007997821025944117), (2705, 0.04313746718425448), (2706, 0.02124588057005012), (2707, 0.06677852941770268), (2708, 0.007888391344911795), (2709, 0.011137759435437575), (2710, 0.015382711571390845), (2711, 0.02554796133742997), (2712, 0.09336222643643469), (2713, 0.00736599385889225), (2714, 0.02765956833145334), (2715, 0.018674172988885886), (2716, 0.15301589099084023), (2717, 0.018758743371916436), (2718, 0.006450519970831923), (2719, 0.013994939623349866), (2720, 0.029950247520655435), (2721, 0.01663695120956978), (2722, 0.051571541065690764), (2723, 0.017158925459489025), (2724, 0.02955707065945001), (2725, 0.020779428065317015), (2726, 0.00896274671537327), (2727, 0.06423911800008741), (2728, 0.014336767132300926), (2729, 0.008529498948377848), (2730, 0.022233432442032335), (2731, 0.09336222643643469), (2732, 0.0075509176580221314), (2733, 0.024490206290871015), (2734, 0.01077713443918459), (2735, 0.01364703572403875), (2736, 0.01944536372115383), (2737, 0.03933802475301499), (2738, 0.033082408250090484), (2739, 0.06544102586955743), (2740, 0.037898755208407874), (2741, 0.02007912210658848), (2742, 0.05035896730207732), (2743, 0.011689583172599712), (2744, 0.04163247398556601), (2745, 0.014962070936933301), (2746, 0.0197094775875699), (2747, 0.02023706394571325), (2748, 0.03394014978509856), (2749, 0.009308767860584663), (2750, 0.008001455887881757), (2751, 0.17496464719884672), (2752, 0.03680490409566277), (2753, 0.01673306250219856), (2754, 0.010065570111704815), (2755, 0.022235580536475612), (2756, 0.02442658729071743), (2757, 0.12093264724202685), (2758, 0.016894048182776393), (2759, 0.09628236959754528), (2760, 0.023408786273357674), (2761, 0.011994802365742616), (2762, 0.007102694967317907), (2763, 0.011104890743823741), (2764, 0.07143140583139332), (2765, 0.019273527824406396), (2766, 0.015087660355105332), (2767, 0.011458587672140976), (2768, 0.1936284579317311), (2769, 0.023052341742040267), (2770, 0.007393474346631632), (2771, 0.05310126740804086), (2772, 0.0320381679055311), (2773, 0.013381205855416991), (2774, 0.005563468462867828), (2775, 0.04434770646606331), (2776, 0.015519149144500352), (2777, 0.06197180518648575), (2778, 0.1358637697881819), (2779, 0.017727882834593686), (2780, 0.048206750852914954), (2781, 0.011972835109469795), (2782, 0.026761590507745063), (2783, 0.019029112376857664), (2784, 0.05029366302556568), (2785, 0.019736577571467472), (2786, 0.021574151330035353), (2787, 0.024761323704070387), (2788, 0.055650619537190756), (2789, 0.02277513018433777), (2790, 0.025102743860904435), (2791, 0.04211312275281512), (2792, 0.01808967017404061), (2793, 0.00906120637786978), (2794, 0.011315551215889424), (2795, 0.11465949088587774), (2796, 0.020980412994503428), (2797, 0.020795298437935233), (2798, 0.016042402944722475), (2799, 0.008226600775319594), (2800, 0.015285839728642416), (2801, 0.01605800307116283), (2802, 0.022530607826139543), (2803, 0.02769741372472951), (2804, 0.0064909196229688704), (2805, 0.006304871410909274), (2806, 0.008589778997025952), (2807, 0.029139074269556316), (2808, 0.053875922372815785), (2809, 0.02561498139698517), (2810, 0.02215062124276232), (2811, 0.007210431457594042), (2812, 0.0147254727047774), (2813, 0.007953441027812227), (2814, 0.010461230360757095), (2815, 0.062538340542415), (2816, 0.009980414644146333), (2817, 0.012912872533218774), (2818, 0.05575216699255911), (2819, 0.02706303594839942), (2820, 0.01901451990958853), (2821, 0.037725891650110706), (2822, 0.007320778040858564), (2823, 0.006800085821508912), (2824, 0.008845829884913406), (2825, 0.03316639890888601), (2826, 0.013901866473476382), (2827, 0.007297800011895643), (2828, 0.007471245116746664), (2829, 0.01212821776623194), (2830, 0.01839722347584155), (2831, 0.04255482573686053), (2832, 0.03494981150718777), (2833, 0.033940192571700147), (2834, 0.07143140583139332), (2835, 0.008281556918640545), (2836, 0.00930667035583719), (2837, 0.010880725067041606), (2838, 0.07143140583139332), (2839, 0.01009801501889342), (2840, 0.1358637697881819), (2841, 0.01717445429667117), (2842, 0.005935455929612806), (2843, 0.008480650018867239), (2844, 0.017085673361045835), (2845, 0.023109492691392255), (2846, 0.18931051735551516), (2847, 0.022135202252675713), (2848, 0.020635363723828515), (2849, 0.18773021270214865), (2850, 0.00744097343234738), (2851, 0.042143728771904025), (2852, 0.012388102063185226), (2853, 0.023722043461690788), (2854, 0.1358637697881819), (2855, 0.020762589370875894), (2856, 0.008118645928051442), (2857, 0.04245496266306598), (2858, 0.09336222643643469), (2859, 0.10161416349993298), (2860, 0.01790330403301325), (2861, 0.05507777221559119), (2862, 0.01569423778366377), (2863, 0.016393023982112957), (2864, 0.010531494015214152), (2865, 0.009811451847751923), (2866, 0.009844246039263578), (2867, 0.006758238339837743), (2868, 0.035904882331327666), (2869, 0.021320848453190402), (2870, 0.08174862956895261), (2871, 0.04083719574588868), (2872, 0.07143140583139332), (2873, 0.036560883903411286), (2874, 0.0365822736031364), (2875, 0.05575216699255911), (2876, 0.01774894517297753), (2877, 0.008957640500601853), (2878, 0.01707343821279309), (2879, 0.07219220644412215), (2880, 0.008313183306876732), (2881, 0.03783748619912977), (2882, 0.03689014761879752), (2883, 0.04193253650670872), (2884, 0.024043467285965733), (2885, 0.008269193101219966), (2886, 0.04730453263500328), (2887, 0.01634020278287905), (2888, 0.014605139373915835), (2889, 0.06787782631798867), (2890, 0.04434770646606331), (2891, 0.03933802475301499), (2892, 0.08174862956895261), (2893, 0.016073728919928254), (2894, 0.01754368065974282), (2895, 0.020246045871893256), (2896, 0.00880860853172604), (2897, 0.03416964816641575), (2898, 0.009064447197449747), (2899, 0.0322817012453582), (2900, 0.032641766012564376), (2901, 0.07555946783723513), (2902, 0.015243151694527843), (2903, 0.42272768358208906), (2904, 0.019907859717091306), (2905, 0.009412448223835327), (2906, 0.008381147399513468), (2907, 0.03687847141034367), (2908, 0.10042953073477687), (2909, 0.01748811025943429), (2910, 0.05677194377839136), (2911, 0.017955515431526486), (2912, 0.01511253851467699), (2913, 0.05786358080740271), (2914, 0.030492591457014773), (2915, 0.014399698244792246), (2916, 0.04214837190007937), (2917, 0.02816350589920072), (2918, 0.05443194771399166), (2919, 0.05705834635157636), (2920, 0.019796198258495875), (2921, 0.00908574347957168), (2922, 0.04123797864020985), (2923, 0.04529296631384669), (2924, 0.020241154348270726), (2925, 0.06602693365652659), (2926, 0.01784623216729437), (2927, 0.008720336924770282), (2928, 0.024328587621054647), (2929, 0.024940459904000935), (2930, 0.007697315176950033), (2931, 0.014249274228215755), (2932, 0.17119360552120516), (2933, 0.016030083089914913), (2934, 0.038573493082911296), (2935, 0.007534195692516683), (2936, 0.01693018652059702), (2937, 0.041653706844959025), (2938, 0.00812651804123942), (2939, 0.0876967858687141), (2940, 0.018850038527372368), (2941, 0.01789711328076685), (2942, 0.016902817737079637), (2943, 0.016887234687245487), (2944, 0.023071872782044988), (2945, 0.018939043191965235), (2946, 0.02017604614815143), (2947, 0.04700894934174841), (2948, 0.059158555580758554), (2949, 0.075859508125933), (2950, 0.007328106859384542), (2951, 0.023873168857664533), (2952, 0.02027479261517854), (2953, 0.020868287657530404), (2954, 0.01714470722666509), (2955, 0.0074002131491214245), (2956, 0.012622757608274228), (2957, 0.12093264724202685), (2958, 0.008309804899077), (2959, 0.028119721681515594), (2960, 0.02580418535472761), (2961, 0.051066940353949514), (2962, 0.024133114730209036), (2963, 0.05418475201999838), (2964, 0.01875523003231222), (2965, 0.017429708681114583), (2966, 0.039967157215156736), (2967, 0.011824943612795739), (2968, 0.01057259846582257), (2969, 0.01976753679349239), (2970, 0.02113534712124763), (2971, 0.03406501667507196), (2972, 0.017766489847892836), (2973, 0.015577491631302322), (2974, 0.02214136548875692), (2975, 0.021657894439971508), (2976, 0.017314459181161253), (2977, 0.019194411624587668), (2978, 0.06009271481439412), (2979, 0.009606735916609425), (2980, 0.018043227839014377), (2981, 0.026850553606261155), (2982, 0.013667108769412541), (2983, 0.011501305616414482), (2984, 0.024940334768405865), (2985, 0.2211699677536865), (2986, 0.03291289494977406), (2987, 0.01653468162423901), (2988, 0.03390612883479584), (2989, 0.08604428621084403), (2990, 0.021634820258283775), (2991, 0.022548703823322518), (2992, 0.02381104606966474), (2993, 0.05507777221559119), (2994, 0.043442184636324224), (2995, 0.017487557364787056), (2996, 0.06419374887177956), (2997, 0.021264089724745028), (2998, 0.054962957939167126), (2999, 0.01483009574684006), (3000, 0.020109970321541937), (3001, 0.017250145836677663), (3002, 0.007972167163463977), (3003, 0.022599184014074652), (3004, 0.05393232239932898), (3005, 0.02656645475753672), (3006, 0.00813801892333783), (3007, 0.028176417679409527), (3008, 0.007431477013455359), (3009, 0.03933802475301499), (3010, 0.023772023060483954), (3011, 0.02548542827128743), (3012, 0.09979059780732054), (3013, 0.02276911184112567), (3014, 0.01692261446932947), (3015, 0.04434770646606331), (3016, 0.01757689330362934), (3017, 0.020762589370875894), (3018, 0.08378582638820428), (3019, 0.13052783407896681), (3020, 0.033470642544217444), (3021, 0.00880176514484898), (3022, 0.054362437607277304), (3023, 0.008040315571889087), (3024, 0.016019559439211434), (3025, 0.015325127253957332), (3026, 0.015543198657421722), (3027, 0.024736495181516445), (3028, 0.014541607444922177), (3029, 0.014145900432885728), (3030, 0.08174862956895261), (3031, 0.019446387651061246), (3032, 0.03639177236957084), (3033, 0.008156761287688843), (3034, 0.009177521860201442), (3035, 0.1670246187731515), (3036, 0.020833744276821275), (3037, 0.09336222643643469), (3038, 0.05575216699255911), (3039, 0.023898160888130134), (3040, 0.09336222643643469), (3041, 0.011525458670456202), (3042, 0.045953393577522414), (3043, 0.07864519425475336), (3044, 0.02335808514577061), (3045, 0.04719746907631387), (3046, 0.016224575928641398), (3047, 0.008882807973851855), (3048, 0.008221684172451635), (3049, 0.14349568666831625), (3050, 0.015884532745607503), (3051, 0.04801014565578414), (3052, 0.12093264724202685), (3053, 0.011559684795763645), (3054, 0.05575216699255911), (3055, 0.04529296631384669), (3056, 0.01824844891420108), (3057, 0.03437495033765574), (3058, 0.006679073299914356), (3059, 0.027411680925090193), (3060, 0.024331548911937645), (3061, 0.008335802265042465), (3062, 0.038973735006987476), (3063, 0.007933247398814508), (3064, 0.017966084947308707), (3065, 0.030721872297852826), (3066, 0.006662017243617966), (3067, 0.04434770646606331), (3068, 0.00802381334601352), (3069, 0.019988195790958348), (3070, 0.047726819595202113), (3071, 0.01572480686889064), (3072, 0.022671132511230874), (3073, 0.007984518287267262), (3074, 0.03682515281406003), (3075, 0.017056316243153163), (3076, 0.1174288825428578), (3077, 0.007925226495329344), (3078, 0.030533746287045714), (3079, 0.019989237645078928), (3080, 0.007787857960428105), (3081, 0.030127792076895994), (3082, 0.010128143451714079), (3083, 0.009717946024392108), (3084, 0.014521257984022661), (3085, 0.0453399825556927), (3086, 0.09184285536629594), (3087, 0.02706621961481192), (3088, 0.023873168857664533), (3089, 0.021283692172016554), (3090, 0.01180086654700673), (3091, 0.01717437225532412), (3092, 0.01274612866366252), (3093, 0.017153863143937766), (3094, 0.016233193763183194), (3095, 0.0732547525157763), (3096, 0.012024288694528082), (3097, 0.08452199315593169), (3098, 0.008317747627120016), (3099, 0.03321093534131398), (3100, 0.019176470336071016), (3101, 0.04838197984239764), (3102, 0.010415791074861677), (3103, 0.014106673402723102), (3104, 0.008581819304246896), (3105, 0.007865251377343448), (3106, 0.009240556693547012), (3107, 0.008241429289942556), (3108, 0.03396932203660456), (3109, 0.03933802475301499), (3110, 0.10648921703308598), (3111, 0.017709135228513077), (3112, 0.03246210410219226), (3113, 0.014053565685235274), (3114, 0.007522278247762804), (3115, 0.04123797864020985), (3116, 0.08174862956895261), (3117, 0.06202081011361213), (3118, 0.054155148000885715), (3119, 0.18773021270214865), (3120, 0.04103212958393663), (3121, 0.00771549141365116), (3122, 0.032200325032914805), (3123, 0.06466115071203174), (3124, 0.025571609615787954), (3125, 0.043314865536190156), (3126, 0.024179998323086826), (3127, 0.043702086738486134), (3128, 0.04529296631384669), (3129, 0.021878270522473188), (3130, 0.01022150977497019), (3131, 0.02422069504369535), (3132, 0.007507006722458546), (3133, 0.020975449596307035), (3134, 0.01991919304538943), (3135, 0.01837340087143627), (3136, 0.024206659028056056), (3137, 0.15354480763563838), (3138, 0.0067831109153491664), (3139, 0.05054821105192771), (3140, 0.049629931877612374), (3141, 0.008262407271330253), (3142, 0.11340251450045251), (3143, 0.029930981626265396), (3144, 0.009423297197900265), (3145, 0.022751633577228914), (3146, 0.021038252105097285), (3147, 0.01583368749375259), (3148, 0.017130689656684538), (3149, 0.035790496717885284), (3150, 0.014436147546095823), (3151, 0.02442578945358166), (3152, 0.013615531286536628), (3153, 0.02909558105286713), (3154, 0.12837764225439643), (3155, 0.05074650310169408), (3156, 0.023892618469298257), (3157, 0.04838197984239764), (3158, 0.025445407423061544), (3159, 0.04529296631384669), (3160, 0.018143197069770908), (3161, 0.026540921778823796), (3162, 0.01180694076166784), (3163, 0.023841662880575418), (3164, 0.008331030052114913), (3165, 0.06798967818179516), (3166, 0.07143140583139332), (3167, 0.014140785014671668), (3168, 0.054843380745241435), (3169, 0.008999157994745398), (3170, 0.016611225420136343), (3171, 0.04036577273584835), (3172, 0.017315574429869605), (3173, 0.01619606614272061), (3174, 0.01684522645600323), (3175, 0.03933802475301499), (3176, 0.01879766986213304), (3177, 0.02193119574929148), (3178, 0.07143140583139332), (3179, 0.02408587154838704), (3180, 0.024738165293673307), (3181, 0.008505398702787569), (3182, 0.01831012223352837), (3183, 0.04032171450302443), (3184, 0.0190837183561516), (3185, 0.11029204989327837), (3186, 0.016648365279606232), (3187, 0.018013408586482572), (3188, 0.01065586835534516), (3189, 0.007067025711444697), (3190, 0.00985254144118821), (3191, 0.02131793682332467), (3192, 0.040452739406315975), (3193, 0.008341827078667517), (3194, 0.014257662457607217), (3195, 0.02945283250662534), (3196, 0.03500116011203779), (3197, 0.008042994850499516), (3198, 0.027956673878552777), (3199, 0.01714007715536109), (3200, 0.014427324516991871), (3201, 0.006952087418743053), (3202, 0.00915386001176503), (3203, 0.02726303573582148), (3204, 0.036560883903411286), (3205, 0.004537649402119431), (3206, 0.034414509251856934), (3207, 0.00865300206997741), (3208, 0.009528879933216178), (3209, 0.007678613045703554), (3210, 0.05944297887576984), (3211, 0.017391396294546613), (3212, 0.00570754289869449), (3213, 0.02695266689952698), (3214, 0.03394014978509856), (3215, 0.02152405646695447), (3216, 0.01839958544314554), (3217, 0.02193119574929148), (3218, 0.03494981150718777), (3219, 0.048140091864627754), (3220, 0.04245496266306598), (3221, 0.018302786727063133), (3222, 0.009980028344509539), (3223, 0.008875507903369457), (3224, 0.014350533999047555), (3225, 0.018129324171406475), (3226, 0.01627433609044201), (3227, 0.1358637697881819), (3228, 0.1670246187731515), (3229, 0.00849129730618487), (3230, 0.019656195002715267), (3231, 0.0053355350374746265), (3232, 0.04274333946648544), (3233, 0.028531474382558916), (3234, 0.06719096509630365), (3235, 0.061175687075073655), (3236, 0.011612552476936426), (3237, 0.01743026215885276), (3238, 0.014847663269191338), (3239, 0.030743246653437806), (3240, 0.026826561546091914), (3241, 0.027292213963568228), (3242, 0.04838197984239764), (3243, 0.01683094604097421), (3244, 0.008363510912867723), (3245, 0.032237118580086856), (3246, 0.01628840245464991), (3247, 0.016776612275448584), (3248, 0.08174862956895261), (3249, 0.14914107118868988), (3250, 0.007827774959760442), (3251, 0.019651681338020692), (3252, 0.021918145419249503), (3253, 0.04123797864020985), (3254, 0.01991569233678228), (3255, 0.019227442060784253), (3256, 0.026007325955678562), (3257, 0.024262554841763123), (3258, 0.07143140583139332), (3259, 0.035691180193180586), (3260, 0.017415858592967095), (3261, 0.02940514731017919), (3262, 0.046822522532360925), (3263, 0.025029955560383996), (3264, 0.040116953010693235), (3265, 0.009214978892299327), (3266, 0.023873168857664533), (3267, 0.09601435997661054), (3268, 0.016088177109630033), (3269, 0.03350019815858201), (3270, 0.006308535012307864), (3271, 0.018034158529246246), (3272, 0.01433702437757851), (3273, 0.030409284041875533), (3274, 0.08174862956895261), (3275, 0.1936284579317311), (3276, 0.05721235828845838), (3277, 0.05575216699255911), (3278, 0.015515630820529827), (3279, 0.020612741237866602), (3280, 0.10804775003008056), (3281, 0.009874831396452488), (3282, 0.04245496266306598), (3283, 0.03701421217917994), (3284, 0.1670246187731515), (3285, 0.015515308711423368), (3286, 0.007291881219646443), (3287, 0.007908060053893166), (3288, 0.007015129405281638), (3289, 0.02073006413192511), (3290, 0.016324509392501855), (3291, 0.04843407662523545), (3292, 0.025603570594275878), (3293, 0.18773021270214865), (3294, 0.010554630932155012), (3295, 0.008621003048998427), (3296, 0.08174862956895261), (3297, 0.06907144023416847), (3298, 0.018302130461106337), (3299, 0.029523787355015367), (3300, 0.013625360602325047), (3301, 0.008451430993422847), (3302, 0.028455219923157322), (3303, 0.050049601403741956), (3304, 0.013384278520604372), (3305, 0.007879623132704365), (3306, 0.07590773101092266), (3307, 0.0261904102288052), (3308, 0.020657810630226373), (3309, 0.006614325759762115), (3310, 0.007509711518685758), (3311, 0.014481490780274497), (3312, 0.17496464719884672), (3313, 0.016724201816500698), (3314, 0.02402061750936518), (3315, 0.017160062110258025), (3316, 0.04750524534613146), (3317, 0.05354967834778718), (3318, 0.04651543929372251), (3319, 0.007717787125129806), (3320, 0.006156141830271224), (3321, 0.010381929724624133), (3322, 0.12093264724202685), (3323, 0.025683890322050623), (3324, 0.023873168857664533), (3325, 0.07552491247821988), (3326, 0.01835138234108981), (3327, 0.014594834723028333), (3328, 0.016793106102852534), (3329, 0.018152754124910086), (3330, 0.03517362026317415), (3331, 0.036057023430905444), (3332, 0.009593441832830998), (3333, 0.009386015383072372), (3334, 0.04892603317465353), (3335, 0.01714929631232721), (3336, 0.01808685359829509), (3337, 0.017624872053126312), (3338, 0.02422504941399162), (3339, 0.038857354454844444), (3340, 0.009766683393804617), (3341, 0.01919592214586933), (3342, 0.03251703384783597), (3343, 0.010890247838802528), (3344, 0.041791049498965754), (3345, 0.02940514731017919), (3346, 0.014961530413639842), (3347, 0.016350921900859548), (3348, 0.019471805258930726), (3349, 0.1434686594281395), (3350, 0.00872197659595207), (3351, 0.1614243339063983), (3352, 0.017477144055179673), (3353, 0.0704501138585897), (3354, 0.04838197984239764), (3355, 0.018351602753093405), (3356, 0.00884169028886236), (3357, 0.040089463249177865), (3358, 0.019739007737953066), (3359, 0.04434770646606331), (3360, 0.17568161731977336), (3361, 0.019813776856923374), (3362, 0.012224878632158424), (3363, 0.047723938056439236), (3364, 0.07143140583139332), (3365, 0.012422045052937446), (3366, 0.007585968852820448), (3367, 0.021411122766358426), (3368, 0.008041642521930521), (3369, 0.018042231162700144), (3370, 0.0689943326447062), (3371, 0.02193119574929148), (3372, 0.016875076685243493), (3373, 0.01800269552047744), (3374, 0.09256820167898355), (3375, 0.010334898299634767), (3376, 0.01586526410086222), (3377, 0.16784019521193977), (3378, 0.007860325434665227), (3379, 0.013326391730123868), (3380, 0.020460869973788896), (3381, 0.01290215179021295), (3382, 0.08751185408469227), (3383, 0.04123797864020985), (3384, 0.06757912362047477), (3385, 0.027548860120747996), (3386, 0.020971145702033834), (3387, 0.028174777774915696), (3388, 0.018000968661973697), (3389, 0.017496301621071696), (3390, 0.01897865081139309), (3391, 0.023756379469876406), (3392, 0.015131481333472455), (3393, 0.01531413714588332), (3394, 0.010197573615215328), (3395, 0.008444020707421718), (3396, 0.12093264724202685), (3397, 0.005836109053336848), (3398, 0.02424153353871148), (3399, 0.01796393814487818), (3400, 0.023898160888130134), (3401, 0.009294751693430315), (3402, 0.01580565689939924), (3403, 0.04415270678632893), (3404, 0.024712869028540366), (3405, 0.01929394984860093), (3406, 0.019345589587229393), (3407, 0.03886611825808689), (3408, 0.032964090741110307), (3409, 0.017088531141455112), (3410, 0.017364339526921575), (3411, 0.006268984621820696), (3412, 0.018915940481261957), (3413, 0.017900672010478878), (3414, 0.03437495033765574), (3415, 0.017079369027429764), (3416, 0.03593475352303924), (3417, 0.017791286608952853), (3418, 0.036116227161841916), (3419, 0.015597016878401546), (3420, 0.02940514731017919), (3421, 0.013691403183197922), (3422, 0.023873168857664533), (3423, 0.023659673332744213), (3424, 0.02261164778407708), (3425, 0.04434770646606331), (3426, 0.024548772277858556), (3427, 0.01103342457725321), (3428, 0.05575216699255911), (3429, 0.026443011910928283), (3430, 0.014378680330316185), (3431, 0.015329548593884211), (3432, 0.021538741365526918), (3433, 0.030930652697351374), (3434, 0.021379977106682435), (3435, 0.02988427291475183), (3436, 0.029882080442123694), (3437, 0.05489243309760622), (3438, 0.03775023415109771), (3439, 0.029522956241081633), (3440, 0.024913532463233395), (3441, 0.0125366812969194), (3442, 0.009113280052774158), (3443, 0.02545717528692986), (3444, 0.008931960047911563), (3445, 0.01576627153858972), (3446, 0.023858643000704168), (3447, 0.01785229698954774), (3448, 0.05126597799278201), (3449, 0.020845258685674654), (3450, 0.07948010004539682), (3451, 0.021449050885415176), (3452, 0.02541986678645556), (3453, 0.036400360091728805), (3454, 0.007525495988208416), (3455, 0.012391667784650149), (3456, 0.025931279630245094), (3457, 0.008199645983446462), (3458, 0.022060704218406148), (3459, 0.008201342177974037), (3460, 0.0313143325376203), (3461, 0.008372909670478384), (3462, 0.007366699160860843), (3463, 0.007462936159275153), (3464, 0.03267174951907774), (3465, 0.15777858335100922), (3466, 0.05723199239183746), (3467, 0.008495518545922181), (3468, 0.0230285249365753), (3469, 0.009170577953751024), (3470, 0.024342634494275917), (3471, 0.02283736384665374), (3472, 0.027107559001646846), (3473, 0.01034784733464747), (3474, 0.037215092525182174), (3475, 0.05575216699255911), (3476, 0.008606293277452864), (3477, 0.03204386914424254), (3478, 0.015599514743150503), (3479, 0.04032171450302443), (3480, 0.007464828707497151), (3481, 0.005779196613954255), (3482, 0.007711340668926118), (3483, 0.05591607447730125), (3484, 0.019442480203812153), (3485, 0.006135245515417631), (3486, 0.12707033264019577), (3487, 0.03323584115992251), (3488, 0.0265956262719406), (3489, 0.010737066933653009), (3490, 0.007330476684505861), (3491, 0.015291679848552757), (3492, 0.01540864070258088), (3493, 0.014524284146736084), (3494, 0.0077773580857797425), (3495, 0.023216222054368286), (3496, 0.01736059447130849), (3497, 0.030282825926459412), (3498, 0.030209200592797844), (3499, 0.028346348529265517), (3500, 0.018009170450253215), (3501, 0.035904971490321555), (3502, 0.06665381983716896), (3503, 0.018108973139386347), (3504, 0.07023412720709814), (3505, 0.010716761852534808), (3506, 0.04434770646606331), (3507, 0.04493592495628908), (3508, 0.027646608325429506), (3509, 0.008845475436539343), (3510, 0.023873168857664533), (3511, 0.01923317816258738), (3512, 0.05796562218220824), (3513, 0.06156973785069432), (3514, 0.033128898644064333), (3515, 0.023603857259173435), (3516, 0.0419151792920953), (3517, 0.015988649157826034), (3518, 0.10802124251599649), (3519, 0.009441202253518508), (3520, 0.01973993675921163), (3521, 0.086239340842358), (3522, 0.008116107200864682), (3523, 0.12093264724202685), (3524, 0.021134608478859382), (3525, 0.005650007108741429), (3526, 0.027150664181995986), (3527, 0.0636113937591011), (3528, 0.007039190005902869), (3529, 0.013156240359128005), (3530, 0.00794223232606401), (3531, 0.030155864099308358), (3532, 0.009834408834345727), (3533, 0.008029445375848945), (3534, 0.03291605926231221), (3535, 0.04711774032461656), (3536, 0.01513670734520261), (3537, 0.045953393577522414), (3538, 0.01566825346585648), (3539, 0.008111044375897429), (3540, 0.01733722180715575), (3541, 0.016074382507836747), (3542, 0.01622273267567204), (3543, 0.008078539619715344), (3544, 0.033470642544217444), (3545, 0.02562041625347923), (3546, 0.01029515332153792), (3547, 0.014718192704177778), (3548, 0.014477789590450874), (3549, 0.009341601310462744), (3550, 0.006682455503325406), (3551, 0.018292601662158934), (3552, 0.04245496266306598), (3553, 0.13381321784379818), (3554, 0.009781904335863411), (3555, 0.024107665757552015), (3556, 0.04047639366342341), (3557, 0.01857495832898934), (3558, 0.01720939166994563), (3559, 0.007008163395184872), (3560, 0.018366829729948103), (3561, 0.04838197984239764), (3562, 0.007094469873922407), (3563, 0.007582620660362762), (3564, 0.015968009399492104), (3565, 0.01931407523255396), (3566, 0.008569633618206583), (3567, 0.00695156640117894), (3568, 0.007386364983584692), (3569, 0.016297721645095763), (3570, 0.030819898478513928), (3571, 0.02989863391629012), (3572, 0.015507359485538913), (3573, 0.0070169654092338656), (3574, 0.005687273952960273), (3575, 0.012736935710479638), (3576, 0.025570949336899507), (3577, 0.055124315685583285), (3578, 0.045049035272192124), (3579, 0.04138955017103759), (3580, 0.009153273788660142), (3581, 0.008817794776644072), (3582, 0.040039899335126264), (3583, 0.02188707897497065), (3584, 0.025557273188547048), (3585, 0.01369934066942774), (3586, 0.03220157748676371), (3587, 0.017790992975343402), (3588, 0.11029204989327837), (3589, 0.008433977211005578), (3590, 0.028954123181296827), (3591, 0.008245028371718165), (3592, 0.009322369939977102), (3593, 0.016129229110950796), (3594, 0.026831523817638536), (3595, 0.008103159743080167), (3596, 0.018288580673960657), (3597, 0.060056833598229616), (3598, 0.006544319857380736), (3599, 0.017560608739845513), (3600, 0.015911893639908997), (3601, 0.07143140583139332), (3602, 0.01946682417259519), (3603, 0.0077353136882296345), (3604, 0.029561995836373152), (3605, 0.02634646658935979), (3606, 0.013375220088328602), (3607, 0.021986179948214883), (3608, 0.019046997585038816), (3609, 0.007282944550734469), (3610, 0.013176565182592737), (3611, 0.019512850036960572), (3612, 0.0439760836142464), (3613, 0.033126864219669865), (3614, 0.015273834585287385), (3615, 0.02008864191529646), (3616, 0.09336222643643469), (3617, 0.014280247950061015), (3618, 0.03495628140139203), (3619, 0.018023566724189807), (3620, 0.026347745516780277), (3621, 0.019044819370346085), (3622, 0.00877242941586223), (3623, 0.028322291540962698), (3624, 0.03217673497408622), (3625, 0.030649339370546598), (3626, 0.010588027245797799), (3627, 0.014892652268380548), (3628, 0.008370664375079648), (3629, 0.010498732826179155), (3630, 0.006334777013385578), (3631, 0.008512176531166434), (3632, 0.00805949033528653), (3633, 0.007326852985695641), (3634, 0.012374331813731463), (3635, 0.11273572245395377), (3636, 0.020780212449373087), (3637, 0.062242873282454744), (3638, 0.12872037167672354), (3639, 0.02755449300614442), (3640, 0.05949103445313707), (3641, 0.01452771351487893), (3642, 0.055867313343509264), (3643, 0.01712172856457079), (3644, 0.007041218388733142), (3645, 0.03854991282188382), (3646, 0.015079715464298465), (3647, 0.026050688408660008), (3648, 0.009020783652359057), (3649, 0.030191579301096068), (3650, 0.007123532866392869), (3651, 0.12093264724202685), (3652, 0.18225870638646682), (3653, 0.033132736616075575), (3654, 0.019184186949963527), (3655, 0.1387769281182723), (3656, 0.016183350474294523), (3657, 0.013394046626359467), (3658, 0.02812584578161499), (3659, 0.05495715811373858), (3660, 0.05126662703717633), (3661, 0.03150691539844616), (3662, 0.007458656661665154), (3663, 0.02940514731017919), (3664, 0.01980629651101002), (3665, 0.016688536824120224), (3666, 0.03980078278926963), (3667, 0.012878267844587), (3668, 0.030253089205308215), (3669, 0.020539156410748098), (3670, 0.06420975748434218), (3671, 0.011214795408669554), (3672, 0.04838197984239764), (3673, 0.016831884745035053), (3674, 0.030310944835308714), (3675, 0.220261551044539), (3676, 0.021634820258283775), (3677, 0.022705090588362727), (3678, 0.027919918617608935), (3679, 0.06399642440032112), (3680, 0.04442780310560725), (3681, 0.009343313476399846), (3682, 0.009412701286473073), (3683, 0.011860957305849388), (3684, 0.039169793228942235), (3685, 0.008903969744038273), (3686, 0.020762589370875894), (3687, 0.04838197984239764), (3688, 0.009929435189194294), (3689, 0.017847778249076587), (3690, 0.008055514563836923), (3691, 0.013028258722701823), (3692, 0.03763603462915761), (3693, 0.007091952536355841), (3694, 0.053119492135318386), (3695, 0.008925024997722374), (3696, 0.03041499400419932), (3697, 0.008981867997827879), (3698, 0.007132933290702917), (3699, 0.05833040113255768), (3700, 0.006779453484955844), (3701, 0.019799712287923207), (3702, 0.040618285442849573), (3703, 0.02532885049639111), (3704, 0.0390916311555697), (3705, 0.02763949968174067), (3706, 0.01878713102673719), (3707, 0.01874274792609976), (3708, 0.17496464719884672), (3709, 0.006835090400217739), (3710, 0.023095106728997655), (3711, 0.03895710910461746), (3712, 0.01022971588614731), (3713, 0.03996689943015165), (3714, 0.019948656811106476), (3715, 0.09731811560796372), (3716, 0.007221823238491156), (3717, 0.007741463842742113), (3718, 0.008173923712840935), (3719, 0.04529296631384669), (3720, 0.017908405512430968), (3721, 0.04800538805811651), (3722, 0.008307657669628208), (3723, 0.021153866269114845), (3724, 0.008666850960357412), (3725, 0.012143388715263843), (3726, 0.008379717855265093), (3727, 0.026412817095106633), (3728, 0.01636398509561733), (3729, 0.025771952557156915), (3730, 0.02726303573582148), (3731, 0.04057946982788524), (3732, 0.006499159496077402), (3733, 0.015055853284644802), (3734, 0.027533003382539493), (3735, 0.008390527652842063), (3736, 0.00919798070374895), (3737, 0.03351562225203585), (3738, 0.006838575853319349), (3739, 0.022102343868162996), (3740, 0.018200129388930508), (3741, 0.06673060915687495), (3742, 0.014771035622404421), (3743, 0.00837757012096349), (3744, 0.028063326992713158), (3745, 0.015937337935349724), (3746, 0.008375106905144264), (3747, 0.022793356820694968), (3748, 0.03933802475301499), (3749, 0.017621896470534883), (3750, 0.007320414937606104), (3751, 0.015625409673240928), (3752, 0.01436673637736941), (3753, 0.009184696438535426), (3754, 0.09336222643643469), (3755, 0.0150385936923699), (3756, 0.05537986070166688), (3757, 0.020786778899336104), (3758, 0.014052050977007673), (3759, 0.009202598766593536), (3760, 0.01050322281000279), (3761, 0.046567920253091415), (3762, 0.12093264724202685), (3763, 0.03286329490483531), (3764, 0.013308111854360281), (3765, 0.016884971495630913), (3766, 0.220261551044539), (3767, 0.016365856735845313), (3768, 0.050534510585929025), (3769, 0.02286167517701357), (3770, 0.023782334374835734), (3771, 0.03677442756924861), (3772, 0.022871397627983944), (3773, 0.008899461084655683), (3774, 0.02971494208554181), (3775, 0.058059317710479515), (3776, 0.01846459885118078), (3777, 0.06255877935625988), (3778, 0.027702466780610658), (3779, 0.016629538713270088), (3780, 0.04315156520244392), (3781, 0.015108630705422626), (3782, 0.019511519611156956), (3783, 0.008635442280372715), (3784, 0.016202738605564697), (3785, 0.007131094198560256), (3786, 0.006286676927280235), (3787, 0.0261797760113006), (3788, 0.022911523583470587), (3789, 0.02726303573582148), (3790, 0.008985052536028769), (3791, 0.01616081188125739), (3792, 0.016430209088374656), (3793, 0.025490621457331126), (3794, 0.05482504774476198), (3795, 0.01304272133127896), (3796, 0.036560883903411286), (3797, 0.03287621724442996), (3798, 0.008677075086867117), (3799, 0.019461009118290695), (3800, 0.016324239443409654), (3801, 0.03937302280914956), (3802, 0.06216946329156607), (3803, 0.007488457535716727), (3804, 0.08174862956895261), (3805, 0.00926193136007498), (3806, 0.021415714683351385), (3807, 0.051387011451445294), (3808, 0.00905054502668022), (3809, 0.014402673369147174), (3810, 0.09628236959754528), (3811, 0.016206244355777884), (3812, 0.009375416164337881), (3813, 0.07555946783723513), (3814, 0.03209093919713209), (3815, 0.030056762777531828), (3816, 0.00902065071486774), (3817, 0.013304009583315885), (3818, 0.007016400000647974), (3819, 0.04589952223943435), (3820, 0.01167530222473375), (3821, 0.01776166117346059), (3822, 0.027001890657455976), (3823, 0.020026247921518685), (3824, 0.026360707346477222), (3825, 0.007986128635986266), (3826, 0.018060774475617554), (3827, 0.046822522532360925), (3828, 0.10711017020125049), (3829, 0.01501082908642965), (3830, 0.02940514731017919), (3831, 0.014825505236581573), (3832, 0.09336222643643469), (3833, 0.025413623406398106), (3834, 0.022296922662336502), (3835, 0.012081489064532224), (3836, 0.007132415137745193), (3837, 0.009753478959950428), (3838, 0.009172260966123176), (3839, 0.016552531207549986), (3840, 0.007554074644315274), (3841, 0.02812440196024678), (3842, 0.03154997991533259), (3843, 0.01282859356433436), (3844, 0.08728667858563999), (3845, 0.016079041837111372), (3846, 0.010657865739725726), (3847, 0.006960328275189719), (3848, 0.04838197984239764), (3849, 0.05666638826763703), (3850, 0.024248253838942163), (3851, 0.010152158863319955), (3852, 0.0178417143495962), (3853, 0.020594133679726328), (3854, 0.04135033111965625), (3855, 0.016327590149255125), (3856, 0.011153993132816129), (3857, 0.02874413905016251), (3858, 0.00908892046145209), (3859, 0.007244808342464943), (3860, 0.040552669447148845), (3861, 0.0067475051216830855), (3862, 0.08098501584350234), (3863, 0.01211428389303865), (3864, 0.008534328478130352), (3865, 0.0068554132328034435), (3866, 0.018569728812948032), (3867, 0.019314771291303757), (3868, 0.01693530234703543), (3869, 0.01894243092563334), (3870, 0.007798100451212845), (3871, 0.00887021763600293), (3872, 0.007796546291572703), (3873, 0.01804370319743934), (3874, 0.03597057868000794), (3875, 0.014309401107707648), (3876, 0.02336555342523386), (3877, 0.01954286962606555), (3878, 0.03177677570336832), (3879, 0.007844162021163035), (3880, 0.014549896526069542), (3881, 0.02956738985621188), (3882, 0.016154066515990315), (3883, 0.220261551044539), (3884, 0.12093264724202685), (3885, 0.0068580247678690035), (3886, 0.024669795123622672), (3887, 0.007408663840677747), (3888, 0.0383285015271215), (3889, 0.029965742204088514), (3890, 0.017895371104944602), (3891, 0.02940514731017919), (3892, 0.06719096509630365), (3893, 0.018275603526588215), (3894, 0.01114458440563796), (3895, 0.011043075423009403), (3896, 0.05575216699255911), (3897, 0.05260366617623731), (3898, 0.021816258764747975), (3899, 0.05450974965883247), (3900, 0.01508306923512333), (3901, 0.09577726209559774), (3902, 0.014056291154582453), (3903, 0.019368658246489374), (3904, 0.018643845629479752), (3905, 0.039135490616320795), (3906, 0.019939125975849258), (3907, 0.022541958169494763), (3908, 0.02784584301178202), (3909, 0.006378056655265115), (3910, 0.027565038546389867), (3911, 0.015396665944238486), (3912, 0.01075247148521347), (3913, 0.02241152854447511), (3914, 0.00839925861751852), (3915, 0.016601356563798783), (3916, 0.005894127193564653), (3917, 0.017561406412865105), (3918, 0.01879766986213304), (3919, 0.016315987949701308), (3920, 0.020963746192580353), (3921, 0.05575216699255911), (3922, 0.09336222643643469), (3923, 0.00671760427126443), (3924, 0.05144185418695141), (3925, 0.045080652949579206), (3926, 0.010286290193595178), (3927, 0.01753769118149809), (3928, 0.012645530312126747), (3929, 0.00813346237418373), (3930, 0.05575216699255911), (3931, 0.010609710811293527), (3932, 0.021705481260613797), (3933, 0.020762589370875894), (3934, 0.009697674478712762), (3935, 0.020892871477211507), (3936, 0.013958113151626938), (3937, 0.00758383649938991), (3938, 0.026357070347423524), (3939, 0.12093264724202685), (3940, 0.008073766317123275), (3941, 0.030653046562134918), (3942, 0.09628236959754528), (3943, 0.007978178598321051), (3944, 0.015364262296204714), (3945, 0.12093264724202685), (3946, 0.19864782443023637), (3947, 0.07568414681441185), (3948, 0.006684399769382293), (3949, 0.14359583209953336), (3950, 0.018579945464019545), (3951, 0.04382296582445173), (3952, 0.07143140583139332), (3953, 0.012684101551554349), (3954, 0.011528093967318983), (3955, 0.010667008775943787), (3956, 0.041731033418224026), (3957, 0.027951179765677295), (3958, 0.00757083139501004), (3959, 0.08560126374830346), (3960, 0.03891312394927121), (3961, 0.06101313587089538), (3962, 0.03106040242115277), (3963, 0.010084752545998294), (3964, 0.03933802475301499), (3965, 0.008591198592966164), (3966, 0.016326641761729016), (3967, 0.028955492481648804), (3968, 0.007659768796043284), (3969, 0.010445698127599542), (3970, 0.02723280233265658), (3971, 0.009349902309285224), (3972, 0.00888405841622095), (3973, 0.155963384887836), (3974, 0.0331800978885235), (3975, 0.07394931008383492), (3976, 0.016654245324706936), (3977, 0.009468323303731822), (3978, 0.08146729275205489), (3979, 0.0075396600221268395), (3980, 0.005680798318823962), (3981, 0.02940514731017919), (3982, 0.008004394465500803), (3983, 0.013985828415689027), (3984, 0.1658490354473512), (3985, 0.010197893105764922), (3986, 0.016946025039544614), (3987, 0.014584310467587168), (3988, 0.01741644426418826), (3989, 0.02305133684400602), (3990, 0.07555946783723513), (3991, 0.007721296372139341), (3992, 0.05066926518597433), (3993, 0.043624708700413434), (3994, 0.007836694163627565), (3995, 0.046462894245126014), (3996, 0.011520861695548194), (3997, 0.0322143339570222), (3998, 0.007943483379747792), (3999, 0.06618894483634916), (4000, 0.04656463655856273), (4001, 0.009923162914753638), (4002, 0.03265197912728953), (4003, 0.05575216699255911), (4004, 0.05104149381357821), (4005, 0.033076609250465225), (4006, 0.010510086238548997), (4007, 0.14359583209953336), (4008, 0.007293345570765997), (4009, 0.008805832475347525), (4010, 0.011044753753817051), (4011, 0.017674518298136793), (4012, 0.009042889520588623), (4013, 0.041972879348834875), (4014, 0.05766398614668375), (4015, 0.015624030178064916), (4016, 0.031071141772352366), (4017, 0.03074916390228101), (4018, 0.008776004406073786), (4019, 0.035063433366400665), (4020, 0.019221865081246996), (4021, 0.042143728771904025), (4022, 0.008039501795036508), (4023, 0.09336222643643469), (4024, 0.04750524534613146), (4025, 0.01855108740874587), (4026, 0.030191579301096068), (4027, 0.009372423366887029), (4028, 0.040618285442849573), (4029, 0.007542961712636224), (4030, 0.12093264724202685), (4031, 0.009072003397764272), (4032, 0.12093264724202685), (4033, 0.0553215900114227), (4034, 0.010623857667683551), (4035, 0.0055225443174260706), (4036, 0.016350430592727096), (4037, 0.007517736538498276), (4038, 0.033954842387709766), (4039, 0.02789385535443417), (4040, 0.03555149767439961), (4041, 0.00760868715336472), (4042, 0.023160075693754625), (4043, 0.028720570467586373), (4044, 0.02218113516746696), (4045, 0.03753861969406949), (4046, 0.03290121388670061), (4047, 0.14349568666831625), (4048, 0.18773021270214865), (4049, 0.017128225628833836), (4050, 0.057642623650409563), (4051, 0.022555381576478635), (4052, 0.014608482522069833), (4053, 0.044298470286632766), (4054, 0.020764289805159205), (4055, 0.007694219936355435), (4056, 0.016695246979501137), (4057, 0.012481334170566887), (4058, 0.012104060033150343), (4059, 0.016993252484446893), (4060, 0.045538321134536874), (4061, 0.012326696467171105), (4062, 0.12093264724202685), (4063, 0.007559576215776836), (4064, 0.03933802475301499), (4065, 0.02940514731017919), (4066, 0.018159421083645287), (4067, 0.02940514731017919), (4068, 0.06527665108596609), (4069, 0.013994911335729733), (4070, 0.0074096487364303), (4071, 0.022125206400795357), (4072, 0.00791031708445146), (4073, 0.008722869043041334), (4074, 0.01597885144816345), (4075, 0.017333548511161524), (4076, 0.02795051857225553), (4077, 0.008581143109001193), (4078, 0.01678551983706459), (4079, 0.022944952581155073), (4080, 0.016644913058633404), (4081, 0.018345812149358393), (4082, 0.08174862956895261), (4083, 0.015333083709248452), (4084, 0.03933802475301499), (4085, 0.01874432901726314), (4086, 0.009560633822642554), (4087, 0.022100520768775285), (4088, 0.06292294760878382), (4089, 0.042863115337821084), (4090, 0.028345020192119513), (4091, 0.02267558525554654), (4092, 0.1670246187731515), (4093, 0.02954717115034619), (4094, 0.043829221097879845), (4095, 0.0403280012881392), (4096, 0.05007421102462285), (4097, 0.007738523339451787), (4098, 0.03890823761547862), (4099, 0.007267341636815653), (4100, 0.0076997133505527), (4101, 0.03257104822218622), (4102, 0.03378402462251367), (4103, 0.02428615307285417), (4104, 0.015315111222326528), (4105, 0.034859730075418635), (4106, 0.019429726821637985), (4107, 0.12093264724202685), (4108, 0.010513913567511277), (4109, 0.009692172375023476), (4110, 0.0078072998133792305), (4111, 0.018446259917397997), (4112, 0.007826901008163772), (4113, 0.0212291008755038), (4114, 0.007641130897841972), (4115, 0.022387367368823675), (4116, 0.07280763387829241), (4117, 0.019849063705406414), (4118, 0.04695777911428854), (4119, 0.028784455487313274), (4120, 0.040620858470021906), (4121, 0.05115146066268125), (4122, 0.13599146917433602), (4123, 0.05330586018473993), (4124, 0.04214344016806236), (4125, 0.011117882703638542), (4126, 0.04529296631384669), (4127, 0.017080765611114476), (4128, 0.008604306967313877), (4129, 0.013792222421797826), (4130, 0.016247554783472014), (4131, 0.04123797864020985), (4132, 0.018245257815179435), (4133, 0.03922379873907588), (4134, 0.02591227115484812), (4135, 0.01748379835124191), (4136, 0.017078488648520674), (4137, 0.01680934257353533), (4138, 0.01764749937524607), (4139, 0.017353832281848638), (4140, 0.017789044931911382), (4141, 0.031286980558824756), (4142, 0.013838885221546773), (4143, 0.012466394342438472), (4144, 0.016170219528282598), (4145, 0.01930998469971534), (4146, 0.007892763758431651), (4147, 0.018158406777178393), (4148, 0.06092416318488173), (4149, 0.015964392208243017), (4150, 0.014967883166081265), (4151, 0.033983970327562986), (4152, 0.015296353291785855), (4153, 0.007413385832653668), (4154, 0.025163799143522358), (4155, 0.014448614417601922), (4156, 0.01488725510099561), (4157, 0.040618285442849573), (4158, 0.02786835514890934), (4159, 0.008741425848609295), (4160, 0.024841947027264145), (4161, 0.019043901902498078), (4162, 0.026791926931204857), (4163, 0.08613607997429586), (4164, 0.05412407260321065), (4165, 0.01921417243378241), (4166, 0.016734533951085012), (4167, 0.029648106971369957), (4168, 0.007906153834110122), (4169, 0.12093264724202685), (4170, 0.022751633577228914), (4171, 0.032636535351049795), (4172, 0.12093264724202685), (4173, 0.009514685909403731), (4174, 0.014362687227245406), (4175, 0.01773383462465775), (4176, 0.030184883213152908), (4177, 0.026740353380083588), (4178, 0.05245782928398183), (4179, 0.015179791425774948), (4180, 0.007901424967765865), (4181, 0.008024795716603958), (4182, 0.015981935810480574), (4183, 0.017373243344514934), (4184, 0.008730208879959869), (4185, 0.008930244330785608), (4186, 0.005720977914466019), (4187, 0.0422482968871285), (4188, 0.007584257541114841), (4189, 0.0543954347750711), (4190, 0.036560883903411286), (4191, 0.007578632530451742), (4192, 0.03521034906856344), (4193, 0.02202012861118495), (4194, 0.03298433867230677), (4195, 0.007719134831491286), (4196, 0.012172449860487315), (4197, 0.017515120013341965), (4198, 0.014537135563427731), (4199, 0.02181717566382401), (4200, 0.017464456020698512), (4201, 0.02940514731017919), (4202, 0.04853593081034255), (4203, 0.06662521620715248), (4204, 0.05575216699255911), (4205, 0.01358247040898751), (4206, 0.042868320410534975), (4207, 0.009817248142947241), (4208, 0.04047985444418469), (4209, 0.044819481209226346), (4210, 0.008075184957232645), (4211, 0.026196689549225702), (4212, 0.008159693509580858), (4213, 0.0194228822710995), (4214, 0.05575216699255911), (4215, 0.015468416723632673), (4216, 0.047900780884214955), (4217, 0.006747833104593447), (4218, 0.007539892804668987), (4219, 0.08996279326205121), (4220, 0.015214436457700454), (4221, 0.08604428621084403), (4222, 0.07143140583139332), (4223, 0.03933802475301499), (4224, 0.008033220565193514), (4225, 0.12093264724202685), (4226, 0.015390114339628658), (4227, 0.04628045575521389), (4228, 0.032201839332046914), (4229, 0.046567920253091415), (4230, 0.12093264724202685), (4231, 0.220261551044539), (4232, 0.0511548502329192), (4233, 0.03505019452111077), (4234, 0.008139244475293142), (4235, 0.03970439211763703), (4236, 0.007235514095717986), (4237, 0.0247796623629988), (4238, 0.008881632686146052), (4239, 0.03555149767439961), (4240, 0.029859532257875573), (4241, 0.008762778545237127), (4242, 0.220261551044539), (4243, 0.08174862956895261), (4244, 0.06391554694633088), (4245, 0.014757228062790449), (4246, 0.07153006494519204), (4247, 0.016032771830343708), (4248, 0.02317078435226275), (4249, 0.030845292567055066), (4250, 0.023603857259173435), (4251, 0.03599065949180995), (4252, 0.09972436507272714), (4253, 0.009556916011434971), (4254, 0.024553631529833565), (4255, 0.029395115523074115), (4256, 0.01049847189582644), (4257, 0.014299489853581173), (4258, 0.010944830090771691), (4259, 0.02156335335753626), (4260, 0.007488634836658126), (4261, 0.026757048356781638), (4262, 0.03138156750929566), (4263, 0.05062761145676632), (4264, 0.024519880063692233), (4265, 0.048519817948200185), (4266, 0.018743744813306637), (4267, 0.04130975831678216), (4268, 0.04047498196704849), (4269, 0.025141616046727794), (4270, 0.013971702557514037), (4271, 0.015006127021750153), (4272, 0.0080259907509137), (4273, 0.018236164502279568), (4274, 0.019691778422542588), (4275, 0.024698515517368107), (4276, 0.009931041390848746), (4277, 0.02053114408263213), (4278, 0.008284850894188598), (4279, 0.009065825610412562), (4280, 0.023627569627794026), (4281, 0.043943708947397846), (4282, 0.03343097368193963), (4283, 0.034508186755840525), (4284, 0.0584059119946483), (4285, 0.030321552875551286), (4286, 0.03710345965891961), (4287, 0.02367574857122764), (4288, 0.1322193684698879), (4289, 0.03537416980608746), (4290, 0.02243412915318864), (4291, 0.02726303573582148), (4292, 0.023196033866784958), (4293, 0.144578358381954), (4294, 0.008248807011393196), (4295, 0.017947118482835363), (4296, 0.017206695090178643), (4297, 0.007300130835487528), (4298, 0.02648828345477475), (4299, 0.02964110140761322), (4300, 0.007017487605210494), (4301, 0.01602539678474749), (4302, 0.025532087609926868), (4303, 0.00806805567389661), (4304, 0.025292860715937213), (4305, 0.007696839488740798), (4306, 0.025637557614035546), (4307, 0.06202081011361213), (4308, 0.043282060416236105), (4309, 0.03090027171832125), (4310, 0.02419063689844868), (4311, 0.0192351684410011), (4312, 0.025081266752146142), (4313, 0.027816391678614244), (4314, 0.007323600713058209), (4315, 0.009214773380553732), (4316, 0.040618285442849573), (4317, 0.05575216699255911), (4318, 0.018855446583698886), (4319, 0.024471219865303987), (4320, 0.017029116061953602), (4321, 0.018438001973354403), (4322, 0.021646203666338362), (4323, 0.008523986493990686), (4324, 0.008831788956992829), (4325, 0.048503526714485365), (4326, 0.019153287187768812), (4327, 0.009701383472982522), (4328, 0.020008298039372294), (4329, 0.01061718710135354), (4330, 0.0176255071610743), (4331, 0.050737354811947244), (4332, 0.05575216699255911), (4333, 0.03440716905493185), (4334, 0.018371988526201397), (4335, 0.009420989256610507), (4336, 0.014451793734043716), (4337, 0.03021528481930632), (4338, 0.009616113604118317), (4339, 0.022654545719451174), (4340, 0.021963659856814498), (4341, 0.012498081256994543), (4342, 0.007505331704068129), (4343, 0.019101474398937977), (4344, 0.022375411407486303), (4345, 0.014438368849207307), (4346, 0.008239403944786478), (4347, 0.01017679729682206), (4348, 0.019444835102815305), (4349, 0.018041366886634602), (4350, 0.014388177599664115), (4351, 0.007550150803541126), (4352, 0.011774214187937527), (4353, 0.006936237755273596), (4354, 0.01749398226265369), (4355, 0.017360021829874898), (4356, 0.01735884876317209), (4357, 0.014760823328575064), (4358, 0.009505907730373204), (4359, 0.021453209163243545), (4360, 0.024224602741211184), (4361, 0.030094010017414356), (4362, 0.14048116606850378), (4363, 0.017378514630948548), (4364, 0.011862873333634123), (4365, 0.02191548422849097), (4366, 0.023435664153109964), (4367, 0.008129137440820078), (4368, 0.022050043007408714), (4369, 0.024934292238838453), (4370, 0.01214149863574027), (4371, 0.0179350997132542), (4372, 0.03396207851943145), (4373, 0.007429202598588176), (4374, 0.061348720838355644), (4375, 0.13849892101552702), (4376, 0.02043111602274668), (4377, 0.03599156070404008), (4378, 0.14802552676724753), (4379, 0.05935331938552928), (4380, 0.05392816420777744), (4381, 0.021204775660451168), (4382, 0.01631751686482061), (4383, 0.022439930599979875), (4384, 0.025367113999473556), (4385, 0.006442846253741921), (4386, 0.029859955469036227), (4387, 0.053823808480756616), (4388, 0.009083288914308558), (4389, 0.026688827469335687), (4390, 0.03413246953531092), (4391, 0.017422641246196684), (4392, 0.0231633844818083), (4393, 0.04981607506601278), (4394, 0.016834325155041595), (4395, 0.02802070098143597), (4396, 0.13486445391172633), (4397, 0.017820263294090585), (4398, 0.04529296631384669), (4399, 0.016978066168182752), (4400, 0.0331540758504214), (4401, 0.018573837948969645), (4402, 0.027231951264101318), (4403, 0.12851540155632604), (4404, 0.008592855456249115), (4405, 0.006912544675705262), (4406, 0.007450585325329445), (4407, 0.12093264724202685), (4408, 0.016324239443409654), (4409, 0.017552751613559292), (4410, 0.01105871759737084), (4411, 0.012401320804459881), (4412, 0.046308677365211846), (4413, 0.05575216699255911), (4414, 0.0051639999062807265), (4415, 0.005143863277514295), (4416, 0.02280628856117154), (4417, 0.0071426588923579155), (4418, 0.02842960000524481), (4419, 0.02596458585013082), (4420, 0.015473016134059108), (4421, 0.007928023362360195), (4422, 0.014794324641429301), (4423, 0.12093264724202685), (4424, 0.01879766986213304), (4425, 0.01879766986213304), (4426, 0.019569691280712637), (4427, 0.017504687621666924), (4428, 0.013950278998092354), (4429, 0.013273353689117827), (4430, 0.027763370738198158), (4431, 0.06824617805824565), (4432, 0.03351580594791086), (4433, 0.008788948107042404), (4434, 0.012384880695923705), (4435, 0.03777572746249158), (4436, 0.07000872906089853), (4437, 0.007825868765532675), (4438, 0.02202591748058892), (4439, 0.006615629268971598), (4440, 0.1223758997364343), (4441, 0.022598828277572598), (4442, 0.035638380935429204), (4443, 0.1358637697881819), (4444, 0.1358637697881819), (4445, 0.014924421509282255), (4446, 0.02267237796297439), (4447, 0.007883232266314669), (4448, 0.019016661854931213), (4449, 0.019137936831980215), (4450, 0.03968039725701066), (4451, 0.010211978120547483), (4452, 0.013886489642361015), (4453, 0.007860705966757895), (4454, 0.011546179802876831), (4455, 0.02141265680297879), (4456, 0.007918533650252933), (4457, 0.008407282540062228), (4458, 0.08174862956895261), (4459, 0.008716663803598743), (4460, 0.009462278494969091), (4461, 0.020460593360402728), (4462, 0.025193202308164988), (4463, 0.01753604213431707), (4464, 0.03397602329666635), (4465, 0.07276906343063771), (4466, 0.025249100022730956), (4467, 0.009064989548149677), (4468, 0.026501613804903946), (4469, 0.18773021270214865), (4470, 0.034972884064518255), (4471, 0.018510603142408075), (4472, 0.017678093969281182), (4473, 0.011368700365695126), (4474, 0.07886529402534634), (4475, 0.05114679234019183), (4476, 0.014726749758417446), (4477, 0.07453105216395049), (4478, 0.007561484455960823), (4479, 0.014072937343679403), (4480, 0.05575216699255911), (4481, 0.05166151538439098), (4482, 0.00825850341753456), (4483, 0.016761969592749934), (4484, 0.024011642584322156), (4485, 0.012363017801868485), (4486, 0.03166773174043187), (4487, 0.017101142630702254), (4488, 0.02910240386974801), (4489, 0.017872693780163287), (4490, 0.09204475566868359), (4491, 0.011398409906291884), (4492, 0.010526047851993013), (4493, 0.008996199903483567), (4494, 0.03769008677030483), (4495, 0.03957341559121306), (4496, 0.012134023576567416), (4497, 0.02485466525600947), (4498, 0.007167430792641205), (4499, 0.027816391678614244), (4500, 0.042143728771904025), (4501, 0.016991421960121458), (4502, 0.03723242233748321), (4503, 0.06561768015576618), (4504, 0.013438515314947325), (4505, 0.02485466525600947), (4506, 0.013092314502183499), (4507, 0.016615745937618536), (4508, 0.011564999970577257), (4509, 0.008460096017185005), (4510, 0.05265303297390371), (4511, 0.01419056955872703), (4512, 0.20299985143994825), (4513, 0.027506988862059083), (4514, 0.0940985978154702), (4515, 0.14349568666831625), (4516, 0.01772942687512538), (4517, 0.07895491624523743), (4518, 0.04139763747900478), (4519, 0.009959556158807122), (4520, 0.015190541323715934), (4521, 0.03405623583731663), (4522, 0.1434686594281395), (4523, 0.03409066576241694), (4524, 0.03682029707367287), (4525, 0.010941911965072567), (4526, 0.011642220496159442), (4527, 0.09628236959754528), (4528, 0.019234592966485706), (4529, 0.02627300365325598), (4530, 0.012176793145160644), (4531, 0.05789866105668769), (4532, 0.007037810658021636), (4533, 0.029674880374561608), (4534, 0.029539681688174065), (4535, 0.01722964435594401), (4536, 0.01623309564162957), (4537, 0.08728667858563999), (4538, 0.012093369254608174), (4539, 0.01070116844173373), (4540, 0.12093264724202685), (4541, 0.02940514731017919), (4542, 0.007368104935249679), (4543, 0.053279085297282744), (4544, 0.04529296631384669), (4545, 0.022757701812255924), (4546, 0.06821889080948616), (4547, 0.009177243099776456), (4548, 0.05017741171675321), (4549, 0.014311055128084222), (4550, 0.01620875814101521), (4551, 0.060966506336843904), (4552, 0.02206629151072979), (4553, 0.05298447067351153), (4554, 0.17119360552120516), (4555, 0.02297754233794493), (4556, 0.009007630131566387), (4557, 0.03284876707216462), (4558, 0.006739806380877745), (4559, 0.008757355529323751), (4560, 0.011192666123403028), (4561, 0.02940514731017919), (4562, 0.019446031216067604), (4563, 0.016260881039816037), (4564, 0.0074852890664781286), (4565, 0.00986131847566272), (4566, 0.018908960653817607), (4567, 0.031071025972629503), (4568, 0.009352866884584555), (4569, 0.008055395282076846), (4570, 0.023347100250278807), (4571, 0.09336222643643469), (4572, 0.12093264724202685), (4573, 0.04845735272672796), (4574, 0.01803402586355917), (4575, 0.019369545809523197), (4576, 0.03337783178570945), (4577, 0.006756640072267827), (4578, 0.02940514731017919), (4579, 0.0384736710801842), (4580, 0.017974847668466895), (4581, 0.025884611060272875), (4582, 0.02303560285025371), (4583, 0.00872571705289969), (4584, 0.03068993599511967), (4585, 0.022177890313903114), (4586, 0.023936684277635584), (4587, 0.034600938652826284), (4588, 0.007683369070779391), (4589, 0.06677852941770268), (4590, 0.030086202973654327), (4591, 0.024842425839239853), (4592, 0.010760232299009525), (4593, 0.09577726209559774), (4594, 0.028605722209862378), (4595, 0.046462894245126014), (4596, 0.0075559241103186625), (4597, 0.00987031263488802), (4598, 0.02133602514365487), (4599, 0.01707482642462488), (4600, 0.007363783102598029), (4601, 0.03842972020937262), (4602, 0.017072369795752423), (4603, 0.015315154415209718), (4604, 0.02593998644468715), (4605, 0.018314240848327615), (4606, 0.050230508168614234), (4607, 0.07333459381224791), (4608, 0.012121523380091287), (4609, 0.0075973230163812475), (4610, 0.03549133079184939), (4611, 0.03876850844394081), (4612, 0.08137372183837188), (4613, 0.009548689935896635), (4614, 0.2630999847239354), (4615, 0.00998326105289827), (4616, 0.016506708136583573), (4617, 0.18773021270214865), (4618, 0.040618285442849573), (4619, 0.15839302038404493), (4620, 0.01404394090451749), (4621, 0.02434723070255807), (4622, 0.014205328734702531), (4623, 0.049550715338015784), (4624, 0.03402648999163521), (4625, 0.020613693834186823), (4626, 0.014341909313792223), (4627, 0.021008351092431914), (4628, 0.009074789485036042), (4629, 0.03838559648148179), (4630, 0.03197600308907579), (4631, 0.04123797864020985), (4632, 0.08174862956895261), (4633, 0.017873531518110334), (4634, 0.016610012857322318), (4635, 0.01663745688632548), (4636, 0.01598911324774527), (4637, 0.17119360552120516), (4638, 0.02075394618869432), (4639, 0.026383950505131225), (4640, 0.013213682319934694), (4641, 0.014463489543670258), (4642, 0.039792049337153544), (4643, 0.04729934003102098), (4644, 0.02940514731017919), (4645, 0.017433959110004768), (4646, 0.08406208687751278), (4647, 0.005893704192748567), (4648, 0.008716272244181233), (4649, 0.01609255357243692), (4650, 0.029120934324470882), (4651, 0.016654245324706936), (4652, 0.02995810675181795), (4653, 0.03475950462980373), (4654, 0.040618285442849573), (4655, 0.010435863163285297), (4656, 0.13599146917433602), (4657, 0.017067184719398002), (4658, 0.0640730846096072), (4659, 0.04981607506601278), (4660, 0.10014821869977968), (4661, 0.025593724310398323), (4662, 0.008871048515557495), (4663, 0.03406856751309903), (4664, 0.03806158364041031), (4665, 0.04071521966167274), (4666, 0.11029204989327837), (4667, 0.0060697849987471604), (4668, 0.01892945456493884), (4669, 0.059746914686941016), (4670, 0.03517132318562066), (4671, 0.008318198749402192), (4672, 0.008476173374983895), (4673, 0.05735626589590792), (4674, 0.03730797885415055), (4675, 0.00806176367070199), (4676, 0.008790923942129878), (4677, 0.03208330126625871), (4678, 0.023170583476266337), (4679, 0.04977062612146871), (4680, 0.021299750459520036), (4681, 0.01879766986213304), (4682, 0.007808509381192994), (4683, 0.008189560257121462), (4684, 0.0523577743640475), (4685, 0.03957341559121306), (4686, 0.018201307771810664), (4687, 0.017847667886657367), (4688, 0.008497057523751664), (4689, 0.02065085993317365), (4690, 0.008116669496515235), (4691, 0.05463867560999338), (4692, 0.028780315915616497), (4693, 0.12093264724202685), (4694, 0.021513471983372577), (4695, 0.02017868268947226), (4696, 0.04334602780535363), (4697, 0.06665381983716896), (4698, 0.08406208687751278), (4699, 0.09577726209559774), (4700, 0.011974169598728138), (4701, 0.09577726209559774), (4702, 0.009870631258781213), (4703, 0.024891450093112416), (4704, 0.05286611222493365), (4705, 0.031413987206600394), (4706, 0.034105210047587216), (4707, 0.16714192046667697), (4708, 0.0257175098683475), (4709, 0.17496464719884672), (4710, 0.06006102094152058), (4711, 0.036560883903411286), (4712, 0.01923229853014279), (4713, 0.036162126473981246), (4714, 0.010734284516179953), (4715, 0.03903501499701775), (4716, 0.008062330337516488), (4717, 0.056898637918645606), (4718, 0.04078476110313375), (4719, 0.07143140583139332), (4720, 0.03555149767439961), (4721, 0.08249574785879855), (4722, 0.08241906360836963), (4723, 0.04010098076929318), (4724, 0.220261551044539), (4725, 0.025683890322050623), (4726, 0.008365928597787453), (4727, 0.035843338662618324), (4728, 0.010251307425067897), (4729, 0.030094010017414356), (4730, 0.02589836924618009), (4731, 0.1670246187731515), (4732, 0.03159365917486319), (4733, 0.03246815995181443), (4734, 0.02988645446030451), (4735, 0.220261551044539), (4736, 0.027816391678614244), (4737, 0.011651535993369832), (4738, 0.0073861992304586985), (4739, 0.15839302038404493), (4740, 0.042143728771904025), (4741, 0.015165388398765235), (4742, 0.012318342198956058), (4743, 0.020464074122571566), (4744, 0.02370729040917424), (4745, 0.005940206941315368), (4746, 0.04326218762194032), (4747, 0.17496464719884672), (4748, 0.012634302148877544), (4749, 0.035063433366400665), (4750, 0.040618285442849573), (4751, 0.008670620329022403), (4752, 0.010224108691451886), (4753, 0.12093264724202685), (4754, 0.010322634547888102), (4755, 0.040618285442849573), (4756, 0.06719096509630365), (4757, 0.046870009182670404), (4758, 0.042143728771904025), (4759, 0.006332773613946447)]\n"
          ]
        }
      ]
    },
    {
      "cell_type": "code",
      "source": [
        "len(Recommendation_Score)"
      ],
      "metadata": {
        "colab": {
          "base_uri": "https://localhost:8080/"
        },
        "id": "BVpejq2WcoSv",
        "outputId": "2ad61803-98fb-4fc4-99f6-d741ce6091ff"
      },
      "execution_count": 37,
      "outputs": [
        {
          "output_type": "execute_result",
          "data": {
            "text/plain": [
              "4760"
            ]
          },
          "metadata": {},
          "execution_count": 37
        }
      ]
    },
    {
      "cell_type": "markdown",
      "source": [
        "##Get All Movies Sort Based on Recommendation Score wrt Favourite Movie"
      ],
      "metadata": {
        "id": "VSsiGF_ZfOiK"
      }
    },
    {
      "cell_type": "code",
      "source": [
        "# Scoring the movies based on their similarity score\n",
        "Sorted_Similar_Movies = sorted(Recommendation_Score, key = lambda x:x[1], reverse = True)\n",
        "print(Sorted_Similar_Movies)"
      ],
      "metadata": {
        "colab": {
          "base_uri": "https://localhost:8080/"
        },
        "id": "XLdC2hOGeQ2o",
        "outputId": "d45a41f4-73fa-4e71-bc45-97adc86b8164"
      },
      "execution_count": 39,
      "outputs": [
        {
          "output_type": "stream",
          "name": "stdout",
          "text": [
            "[(2692, 1.0000000000000002), (2903, 0.42272768358208906), (1070, 0.33083035568031893), (2558, 0.3158063635184192), (45, 0.2964256854740482), (4614, 0.2630999847239354), (628, 0.2290754345566168), (2985, 0.2211699677536865), (3675, 0.220261551044539), (3766, 0.220261551044539), (3883, 0.220261551044539), (4231, 0.220261551044539), (4242, 0.220261551044539), (4724, 0.220261551044539), (4735, 0.220261551044539), (4512, 0.20299985143994825), (3946, 0.19864782443023637), (2768, 0.1936284579317311), (3275, 0.1936284579317311), (2846, 0.18931051735551516), (1320, 0.18814783247952055), (2346, 0.18773021270214865), (2849, 0.18773021270214865), (3119, 0.18773021270214865), (3293, 0.18773021270214865), (4048, 0.18773021270214865), (4469, 0.18773021270214865), (4617, 0.18773021270214865), (2214, 0.18263244868167), (3652, 0.18225870638646682), (2229, 0.17875573379544468), (2295, 0.17875573379544468), (3360, 0.17568161731977336), (2275, 0.17496464719884672), (2383, 0.17496464719884672), (2751, 0.17496464719884672), (3312, 0.17496464719884672), (3708, 0.17496464719884672), (4709, 0.17496464719884672), (4747, 0.17496464719884672), (2638, 0.17119360552120516), (2932, 0.17119360552120516), (4554, 0.17119360552120516), (4637, 0.17119360552120516), (590, 0.17048486217941775), (277, 0.16973460682112929), (3377, 0.16784019521193977), (4707, 0.16714192046667697), (2655, 0.1670246187731515), (3035, 0.1670246187731515), (3228, 0.1670246187731515), (3284, 0.1670246187731515), (4092, 0.1670246187731515), (4731, 0.1670246187731515), (3984, 0.1658490354473512), (2123, 0.1617668191577978), (3351, 0.1614243339063983), (2694, 0.16075965196085557), (4619, 0.15839302038404493), (4739, 0.15839302038404493), (3465, 0.15777858335100922), (1148, 0.1573930468054335), (2321, 0.15717914973404717), (3973, 0.155963384887836), (3137, 0.15354480763563838), (2716, 0.15301589099084023), (2235, 0.15251522567829143), (694, 0.15208237683621711), (2026, 0.1513055647188552), (888, 0.15091588673028505), (3249, 0.14914107118868988), (455, 0.14844853679166806), (2187, 0.14837041348159366), (4378, 0.14802552676724753), (172, 0.14746496609857784), (2375, 0.14732589429368145), (360, 0.14579485466118375), (4293, 0.144578358381954), (1371, 0.14359583209953336), (3949, 0.14359583209953336), (4007, 0.14359583209953336), (2700, 0.14349568666831625), (3049, 0.14349568666831625), (4047, 0.14349568666831625), (4515, 0.14349568666831625), (3349, 0.1434686594281395), (4522, 0.1434686594281395), (1991, 0.14259116316454346), (1821, 0.1419810844672113), (4362, 0.14048116606850378), (3655, 0.1387769281182723), (4375, 0.13849892101552702), (2406, 0.1378708161663153), (830, 0.13624672886112837), (4122, 0.13599146917433602), (4656, 0.13599146917433602), (2188, 0.1358637697881819), (2778, 0.1358637697881819), (2840, 0.1358637697881819), (2854, 0.1358637697881819), (3227, 0.1358637697881819), (4443, 0.1358637697881819), (4444, 0.1358637697881819), (4396, 0.13486445391172633), (3553, 0.13381321784379818), (4288, 0.1322193684698879), (2540, 0.1318925327095654), (3019, 0.13052783407896681), (3638, 0.12872037167672354), (4403, 0.12851540155632604), (3154, 0.12837764225439643), (3486, 0.12707033264019577), (1363, 0.12613608045230792), (1311, 0.1245798952706672), (2147, 0.12408955050787011), (2363, 0.1223758997364343), (2581, 0.1223758997364343), (4440, 0.1223758997364343), (2255, 0.12112912690797024), (2288, 0.12093264724202685), (2299, 0.12093264724202685), (2392, 0.12093264724202685), (2425, 0.12093264724202685), (2454, 0.12093264724202685), (2673, 0.12093264724202685), (2757, 0.12093264724202685), (2957, 0.12093264724202685), (3052, 0.12093264724202685), (3322, 0.12093264724202685), (3396, 0.12093264724202685), (3523, 0.12093264724202685), (3651, 0.12093264724202685), (3762, 0.12093264724202685), (3884, 0.12093264724202685), (3939, 0.12093264724202685), (3945, 0.12093264724202685), (4030, 0.12093264724202685), (4032, 0.12093264724202685), (4062, 0.12093264724202685), (4107, 0.12093264724202685), (4169, 0.12093264724202685), (4172, 0.12093264724202685), (4225, 0.12093264724202685), (4230, 0.12093264724202685), (4407, 0.12093264724202685), (4423, 0.12093264724202685), (4540, 0.12093264724202685), (4572, 0.12093264724202685), (4693, 0.12093264724202685), (4753, 0.12093264724202685), (905, 0.11885367997970239), (1982, 0.11749348746510503), (3076, 0.1174288825428578), (213, 0.11739098630133762), (84, 0.11584040119971482), (2155, 0.11566015671668539), (2795, 0.11465949088587774), (3142, 0.11340251450045251), (3635, 0.11273572245395377), (179, 0.11071087663118132), (1362, 0.110614003245118), (2122, 0.11029776848229528), (2476, 0.11029204989327837), (3185, 0.11029204989327837), (3588, 0.11029204989327837), (4666, 0.11029204989327837), (381, 0.11001430883990732), (2308, 0.10960081225157667), (2014, 0.10855884490170134), (3280, 0.10804775003008056), (3518, 0.10802124251599649), (678, 0.10770331210871537), (67, 0.10736774161268149), (3828, 0.10711017020125049), (3110, 0.10648921703308598), (2328, 0.10567003233863481), (947, 0.10501126463588671), (935, 0.10473653984584705), (2444, 0.10470575733347347), (873, 0.1024863129459174), (2859, 0.10161416349993298), (2908, 0.10042953073477687), (4660, 0.10014821869977968), (3012, 0.09979059780732054), (4252, 0.09972436507272714), (2210, 0.09914876133529914), (1118, 0.09852536578903096), (687, 0.09731811560796372), (996, 0.09731811560796372), (2468, 0.09731811560796372), (3715, 0.09731811560796372), (2759, 0.09628236959754528), (3810, 0.09628236959754528), (3942, 0.09628236959754528), (4527, 0.09628236959754528), (3267, 0.09601435997661054), (328, 0.09579507118978312), (3901, 0.09577726209559774), (4593, 0.09577726209559774), (4699, 0.09577726209559774), (4701, 0.09577726209559774), (65, 0.09572614367624885), (4514, 0.0940985978154702), (2137, 0.09336222643643469), (2404, 0.09336222643643469), (2490, 0.09336222643643469), (2561, 0.09336222643643469), (2712, 0.09336222643643469), (2731, 0.09336222643643469), (2858, 0.09336222643643469), (3037, 0.09336222643643469), (3040, 0.09336222643643469), (3616, 0.09336222643643469), (3754, 0.09336222643643469), (3832, 0.09336222643643469), (3922, 0.09336222643643469), (4023, 0.09336222643643469), (4571, 0.09336222643643469), (2324, 0.09299370906837813), (3374, 0.09256820167898355), (1058, 0.09255711348978735), (4490, 0.09204475566868359), (3086, 0.09184285536629594), (836, 0.09083432181048481), (4219, 0.08996279326205121), (2649, 0.08850766320058576), (2939, 0.0876967858687141), (3382, 0.08751185408469227), (3844, 0.08728667858563999), (4537, 0.08728667858563999), (904, 0.08692870037226465), (458, 0.08636986278082008), (861, 0.086239340842358), (3521, 0.086239340842358), (4163, 0.08613607997429586), (2989, 0.08604428621084403), (4221, 0.08604428621084403), (3959, 0.08560126374830346), (2600, 0.08542721231344994), (2464, 0.08537191883856178), (3097, 0.08452199315593169), (4646, 0.08406208687751278), (4698, 0.08406208687751278), (3018, 0.08378582638820428), (387, 0.08305760961347114), (4721, 0.08249574785879855), (4722, 0.08241906360836963), (2266, 0.08174862956895261), (2407, 0.08174862956895261), (2560, 0.08174862956895261), (2870, 0.08174862956895261), (2892, 0.08174862956895261), (3030, 0.08174862956895261), (3116, 0.08174862956895261), (3248, 0.08174862956895261), (3274, 0.08174862956895261), (3296, 0.08174862956895261), (3804, 0.08174862956895261), (4082, 0.08174862956895261), (4243, 0.08174862956895261), (4458, 0.08174862956895261), (4632, 0.08174862956895261), (2427, 0.08151807563289128), (3978, 0.08146729275205489), (4612, 0.08137372183837188), (3862, 0.08098501584350234), (2459, 0.08090150661192413), (3450, 0.07948010004539682), (4517, 0.07895491624523743), (682, 0.07889003194847005), (4474, 0.07886529402534634), (3043, 0.07864519425475336), (928, 0.07795469734100605), (795, 0.07732213014040608), (2191, 0.07592542106556854), (3306, 0.07590773101092266), (2949, 0.075859508125933), (2519, 0.07574896626606101), (3947, 0.07568414681441185), (2257, 0.07555946783723513), (2901, 0.07555946783723513), (3813, 0.07555946783723513), (3990, 0.07555946783723513), (3325, 0.07552491247821988), (68, 0.07548645306177977), (1325, 0.07506030173221179), (4477, 0.07453105216395049), (760, 0.07449390228309377), (429, 0.07419938756656408), (2273, 0.07394931008383492), (3975, 0.07394931008383492), (2037, 0.07382146753281003), (2625, 0.07356334631508449), (2400, 0.07333459381224791), (4607, 0.07333459381224791), (3095, 0.0732547525157763), (450, 0.07324459706750018), (4116, 0.07280763387829241), (4465, 0.07276906343063771), (2879, 0.07219220644412215), (4246, 0.07153006494519204), (2488, 0.07143140583139332), (2492, 0.07143140583139332), (2494, 0.07143140583139332), (2529, 0.07143140583139332), (2633, 0.07143140583139332), (2764, 0.07143140583139332), (2834, 0.07143140583139332), (2838, 0.07143140583139332), (2872, 0.07143140583139332), (3166, 0.07143140583139332), (3178, 0.07143140583139332), (3258, 0.07143140583139332), (3364, 0.07143140583139332), (3601, 0.07143140583139332), (3952, 0.07143140583139332), (4222, 0.07143140583139332), (4719, 0.07143140583139332), (2486, 0.07104330259897167), (986, 0.07099072756162819), (3353, 0.0704501138585897), (3504, 0.07023412720709814), (2569, 0.07003072021291505), (4436, 0.07000872906089853), (2276, 0.06956414367241513), (2196, 0.06955468949666654), (3297, 0.06907144023416847), (3370, 0.0689943326447062), (481, 0.06898309123984742), (710, 0.06851491787596738), (4431, 0.06824617805824565), (4546, 0.06821889080948616), (3165, 0.06798967818179516), (2889, 0.06787782631798867), (3384, 0.06757912362047477), (124, 0.06753923632553252), (643, 0.06746510925717718), (2053, 0.06734937889721337), (673, 0.06733461378979103), (2379, 0.06719096509630365), (2423, 0.06719096509630365), (2591, 0.06719096509630365), (3234, 0.06719096509630365), (3892, 0.06719096509630365), (4756, 0.06719096509630365), (584, 0.06710827428189073), (2707, 0.06677852941770268), (4589, 0.06677852941770268), (3741, 0.06673060915687495), (2618, 0.06665381983716896), (3502, 0.06665381983716896), (4697, 0.06665381983716896), (4203, 0.06662521620715248), (1224, 0.06656740548040452), (1115, 0.06655248027992197), (1716, 0.06648488576512429), (875, 0.06633900812016132), (2254, 0.06629364043082307), (3999, 0.06618894483634916), (675, 0.06607528185561207), (2040, 0.06603149273592247), (2925, 0.06602693365652659), (4503, 0.06561768015576618), (2739, 0.06544102586955743), (4068, 0.06527665108596609), (2284, 0.06521965739301018), (939, 0.0651846834245596), (21, 0.0650777831543054), (1983, 0.06488167237529119), (1335, 0.064872294138147), (3123, 0.06466115071203174), (1997, 0.06456095311669119), (2668, 0.06455004266781203), (210, 0.06445393116684954), (447, 0.06441338013946815), (2727, 0.06423911800008741), (3670, 0.06420975748434218), (2996, 0.06419374887177956), (4658, 0.0640730846096072), (3679, 0.06399642440032112), (69, 0.06396490202684153), (4244, 0.06391554694633088), (236, 0.06384398571780724), (3527, 0.0636113937591011), (2112, 0.06333554482319186), (2096, 0.06313852190886507), (4088, 0.06292294760878382), (1015, 0.06288305370822499), (2619, 0.06277435865844112), (123, 0.06273074704857058), (3777, 0.06255877935625988), (991, 0.06254146730882791), (2815, 0.062538340542415), (701, 0.06250517677043348), (2250, 0.062335196639342255), (3637, 0.062242873282454744), (3802, 0.06216946329156607), (1141, 0.0620531214059505), (3117, 0.06202081011361213), (4307, 0.06202081011361213), (2777, 0.06197180518648575), (3513, 0.06156973785069432), (2251, 0.061503802823516814), (4374, 0.061348720838355644), (3235, 0.061175687075073655), (3961, 0.06101313587089538), (4551, 0.060966506336843904), (4148, 0.06092416318488173), (1264, 0.0608697647606448), (1483, 0.06047408774860376), (89, 0.06040349146171173), (1064, 0.060342414548684845), (500, 0.060263243875750494), (670, 0.06020817292643991), (1237, 0.06013164303105692), (2978, 0.06009271481439412), (4710, 0.06006102094152058), (3597, 0.060056833598229616), (1343, 0.06004050391875757), (676, 0.05976315197436746), (4669, 0.059746914686941016), (853, 0.05950318179623398), (3640, 0.05949103445313707), (1985, 0.05949021741839153), (3210, 0.05944297887576984), (622, 0.059395805813018385), (4379, 0.05935331938552928), (112, 0.059194059639292904), (2948, 0.059158555580758554), (879, 0.05913672992823349), (48, 0.05913018712160435), (1572, 0.059124761993769495), (1681, 0.05893505609752603), (2695, 0.058891855723690656), (1815, 0.058853301524896096), (753, 0.05874134709475637), (2617, 0.058618888364287663), (896, 0.058508423798217975), (621, 0.05848361750684558), (2602, 0.058478335674966214), (4284, 0.0584059119946483), (1248, 0.05838802247247239), (967, 0.058364616942427575), (3699, 0.05833040113255768), (1542, 0.05826384581754396), (2023, 0.05811532524983864), (2506, 0.05807111157999858), (3775, 0.058059317710479515), (3512, 0.05796562218220824), (2645, 0.05792817813931543), (2428, 0.0579032049313717), (4531, 0.05789866105668769), (2154, 0.05787984075069269), (2913, 0.05786358080740271), (2447, 0.05769804681702405), (4014, 0.05766398614668375), (190, 0.057656963049053794), (4050, 0.057642623650409563), (825, 0.05761970206199482), (878, 0.057607061862942135), (2531, 0.057471086910957765), (4673, 0.05735626589590792), (87, 0.05730558622249683), (1412, 0.057255828520731446), (3466, 0.05723199239183746), (3276, 0.05721235828845838), (1132, 0.05717028593074103), (2224, 0.05713642155114619), (1275, 0.05705864356918884), (2919, 0.05705834635157636), (533, 0.056965387594900566), (1360, 0.0569276114555218), (4717, 0.056898637918645606), (2910, 0.05677194377839136), (1740, 0.056743683415865595), (3849, 0.05666638826763703), (1183, 0.05656807632671358), (534, 0.05643581612581911), (1481, 0.05633861727289966), (3483, 0.05591607447730125), (2412, 0.055910871111909795), (3642, 0.055867313343509264), (2384, 0.05575216699255911), (2452, 0.05575216699255911), (2483, 0.05575216699255911), (2515, 0.05575216699255911), (2536, 0.05575216699255911), (2669, 0.05575216699255911), (2675, 0.05575216699255911), (2818, 0.05575216699255911), (2875, 0.05575216699255911), (3038, 0.05575216699255911), (3054, 0.05575216699255911), (3277, 0.05575216699255911), (3428, 0.05575216699255911), (3475, 0.05575216699255911), (3896, 0.05575216699255911), (3921, 0.05575216699255911), (3930, 0.05575216699255911), (4003, 0.05575216699255911), (4204, 0.05575216699255911), (4214, 0.05575216699255911), (4317, 0.05575216699255911), (4332, 0.05575216699255911), (4413, 0.05575216699255911), (4480, 0.05575216699255911), (109, 0.0556915844905429), (2788, 0.055650619537190756), (1047, 0.055647979270062105), (1509, 0.05562444649928224), (1506, 0.05543714850616338), (199, 0.05541944800959823), (3756, 0.05537986070166688), (4033, 0.0553215900114227), (870, 0.05529181608321482), (860, 0.05527247203881028), (2522, 0.055259317350852044), (2550, 0.055182776956703906), (1949, 0.05514291817557916), (3577, 0.055124315685583285), (2189, 0.05507777221559119), (2861, 0.05507777221559119), (2993, 0.05507777221559119), (2998, 0.054962957939167126), (3659, 0.05495715811373858), (3437, 0.05489243309760622), (3168, 0.054843380745241435), (530, 0.05483082862109698), (3794, 0.05482504774476198), (988, 0.0547897893437262), (18, 0.05466934276105674), (4691, 0.05463867560999338), (1417, 0.0546322092547437), (2024, 0.05454152940903727), (51, 0.05451630684851239), (3899, 0.05450974965883247), (2918, 0.05443194771399166), (2178, 0.054430081430723365), (4189, 0.0543954347750711), (3022, 0.054362437607277304), (1017, 0.05427448047882831), (2162, 0.054241323383774034), (145, 0.05424089070854837), (1035, 0.05422303527248398), (1739, 0.05418988938892132), (2963, 0.05418475201999838), (842, 0.054182837024124526), (1442, 0.05417964751565551), (3118, 0.054155148000885715), (4164, 0.05412407260321065), (532, 0.05394927791590022), (3004, 0.05393232239932898), (4380, 0.05392816420777744), (2808, 0.053875922372815785), (4387, 0.053823808480756616), (1687, 0.053793248738981225), (799, 0.053774418441817344), (105, 0.05375402468235603), (3317, 0.05354967834778718), (501, 0.05349741684772265), (4123, 0.05330586018473993), (1184, 0.053293154466201115), (4543, 0.053279085297282744), (942, 0.0532758388556378), (866, 0.05313514290616036), (3694, 0.053119492135318386), (2771, 0.05310126740804086), (4553, 0.05298447067351153), (1942, 0.05297222060042758), (4704, 0.05286611222493365), (2317, 0.05276461666466875), (2416, 0.05276461666466875), (502, 0.05266739987112086), (4510, 0.05265303297390371), (3897, 0.05260366617623731), (1621, 0.05258881370241786), (2216, 0.05252147865020591), (2070, 0.052504094692237636), (1369, 0.05246835283045069), (4178, 0.05245782928398183), (1119, 0.05245290037088782), (937, 0.052429325575416866), (1478, 0.052383344556296674), (4684, 0.0523577743640475), (1232, 0.05231158465719854), (918, 0.05228237359790662), (669, 0.05226364215190399), (652, 0.05220345907109647), (1252, 0.05217268012650885), (1591, 0.05214139263593634), (2334, 0.0520760392726903), (1337, 0.051926229713283756), (948, 0.05185473004530031), (138, 0.05181481512733768), (4481, 0.05166151538439098), (2126, 0.051589122649661354), (418, 0.05158347292622907), (2722, 0.051571541065690764), (560, 0.05144260340508765), (3924, 0.05144185418695141), (3807, 0.051387011451445294), (3660, 0.05126662703717633), (3448, 0.05126597799278201), (1967, 0.05118734995468865), (4232, 0.0511548502329192), (4121, 0.05115146066268125), (4475, 0.05114679234019183), (2961, 0.051066940353949514), (4004, 0.05104149381357821), (1385, 0.05100345993162668), (1680, 0.05093999940699684), (207, 0.05085915693533834), (3155, 0.05074650310169408), (4331, 0.050737354811947244), (3992, 0.05066926518597433), (876, 0.05064764146997776), (4263, 0.05062761145676632), (291, 0.05062180191866426), (3139, 0.05054821105192771), (3768, 0.050534510585929025), (542, 0.05045779252180051), (1054, 0.05039830328798542), (2524, 0.05037425164945151), (2742, 0.05035896730207732), (148, 0.05033499717431998), (2784, 0.05029366302556568), (4606, 0.050230508168614234), (543, 0.05018012063883143), (4548, 0.05017741171675321), (4096, 0.05007421102462285), (3303, 0.050049601403741956), (149, 0.04996592743375667), (1595, 0.04996454637066944), (2097, 0.04991940375368893), (370, 0.049866213265491316), (2238, 0.04981607506601278), (2470, 0.04981607506601278), (4393, 0.04981607506601278), (4659, 0.04981607506601278), (2066, 0.04980955246630539), (4679, 0.04977062612146871), (1629, 0.049760335911065545), (3140, 0.049629931877612374), (1071, 0.049592218423885046), (4623, 0.049550715338015784), (806, 0.049510625370582304), (1024, 0.04944426652476364), (1858, 0.04941379526355173), (2607, 0.04939574482501789), (2487, 0.04920771298018385), (1667, 0.049128096416588864), (2174, 0.0491082574248892), (166, 0.04902275034186179), (689, 0.04895430818642842), (1104, 0.04892907793484202), (137, 0.04892846667203058), (3334, 0.04892603317465353), (2280, 0.04885821038240191), (1853, 0.048804332160485644), (2624, 0.04876661670071795), (304, 0.048737716900520624), (1419, 0.04866613233989129), (1236, 0.048578668455567624), (1314, 0.04855991569755347), (4202, 0.04853593081034255), (4265, 0.048519817948200185), (4325, 0.048503526714485365), (4573, 0.04845735272672796), (654, 0.0484486288739073), (3291, 0.04843407662523545), (181, 0.048389946268649946), (2401, 0.04838197984239764), (2613, 0.04838197984239764), (2636, 0.04838197984239764), (3101, 0.04838197984239764), (3157, 0.04838197984239764), (3242, 0.04838197984239764), (3354, 0.04838197984239764), (3561, 0.04838197984239764), (3672, 0.04838197984239764), (3687, 0.04838197984239764), (3848, 0.04838197984239764), (1292, 0.048379668535469815), (2780, 0.048206750852914954), (3219, 0.048140091864627754), (1832, 0.04807074739698455), (3051, 0.04801014565578414), (3721, 0.04800538805811651), (2080, 0.047978834475250316), (1671, 0.047954941055828045), (4216, 0.047900780884214955), (2448, 0.0478680987596575), (396, 0.04777969899494129), (463, 0.047756691276001365), (3070, 0.047726819595202113), (3363, 0.047723938056439236), (629, 0.047665733646098475), (485, 0.047645539725621446), (2206, 0.047575393810111596), (2029, 0.04755324646060942), (1162, 0.047540084673344404), (3316, 0.04750524534613146), (4024, 0.04750524534613146), (1436, 0.047458960560174936), (2388, 0.047451847295859106), (952, 0.04740706102705964), (2212, 0.04737584388244569), (1061, 0.04731812481421234), (653, 0.04731469497938745), (2886, 0.04730453263500328), (915, 0.04730151711687432), (4643, 0.04729934003102098), (3045, 0.04719746907631387), (3535, 0.04711774032461656), (1776, 0.04709352075599086), (1678, 0.047044075407737085), (2643, 0.04701539100999911), (274, 0.0470114175466126), (2947, 0.04700894934174841), (4118, 0.04695777911428854), (342, 0.0469194629131303), (4757, 0.046870009182670404), (1432, 0.046867004218802216), (2429, 0.04685678047094498), (1789, 0.046851844880183645), (1665, 0.04684532974389525), (2289, 0.046822522532360925), (3262, 0.046822522532360925), (3827, 0.046822522532360925), (1970, 0.046752613363406775), (83, 0.046650392934539854), (989, 0.04664810152562816), (483, 0.04664151890347643), (3761, 0.046567920253091415), (4229, 0.046567920253091415), (695, 0.046566768459051396), (4000, 0.04656463655856273), (3318, 0.04651543929372251), (334, 0.04646874195258291), (3995, 0.046462894245126014), (4595, 0.046462894245126014), (4412, 0.046308677365211846), (4227, 0.04628045575521389), (1923, 0.04619620706982755), (276, 0.046137708808541913), (827, 0.04612967888583536), (2537, 0.045953393577522414), (3042, 0.045953393577522414), (3537, 0.045953393577522414), (3819, 0.04589952223943435), (2077, 0.04581180616379564), (201, 0.04572478744548966), (4060, 0.045538321134536874), (1107, 0.04548115146446739), (1992, 0.045342568938156635), (3085, 0.0453399825556927), (2512, 0.04533666012360067), (2923, 0.04529296631384669), (3055, 0.04529296631384669), (3128, 0.04529296631384669), (3159, 0.04529296631384669), (3719, 0.04529296631384669), (4126, 0.04529296631384669), (4398, 0.04529296631384669), (4544, 0.04529296631384669), (1874, 0.04528832962844076), (1137, 0.04516547802679506), (3925, 0.045080652949579206), (2697, 0.0450753075106102), (3578, 0.045049035272192124), (2475, 0.0449738287914006), (3507, 0.04493592495628908), (209, 0.0449098673205115), (4209, 0.044819481209226346), (479, 0.044803449629453124), (2394, 0.04461089403321577), (1259, 0.04456355031678766), (683, 0.04451056530843162), (604, 0.04449554757957699), (2228, 0.04445878862651444), (3680, 0.04442780310560725), (2119, 0.04441905940232447), (1074, 0.04441669492327028), (930, 0.04440331228150871), (2310, 0.04435696290005312), (2349, 0.04434770646606331), (2775, 0.04434770646606331), (2890, 0.04434770646606331), (3015, 0.04434770646606331), (3067, 0.04434770646606331), (3359, 0.04434770646606331), (3425, 0.04434770646606331), (3506, 0.04434770646606331), (2348, 0.04434017483276947), (4053, 0.044298470286632766), (1063, 0.0442782621781335), (5, 0.04422655195973399), (2075, 0.04419399588603873), (976, 0.0441608554979573), (1303, 0.04415605584600698), (3403, 0.04415270678632893), (916, 0.044033175142950964), (3612, 0.0439760836142464), (4281, 0.043943708947397846), (4094, 0.043829221097879845), (3951, 0.04382296582445173), (1471, 0.043746955029717594), (3127, 0.043702086738486134), (3993, 0.043624708700413434), (2994, 0.043442184636324224), (142, 0.04339687570623524), (4696, 0.04334602780535363), (2318, 0.04334161417353693), (1736, 0.043341140318226064), (287, 0.04333920487007016), (147, 0.043324740973644624), (3125, 0.043314865536190156), (4308, 0.043282060416236105), (4746, 0.04326218762194032), (1387, 0.04320284708648997), (435, 0.043182871363525), (3780, 0.04315156520244392), (2705, 0.04313746718425448), (256, 0.043020370283915435), (2304, 0.04287965299168196), (4206, 0.042868320410534975), (1053, 0.04286776943349481), (4089, 0.042863115337821084), (1567, 0.04276147137923649), (3232, 0.04274333946648544), (1339, 0.04274060481226359), (931, 0.042714219227310085), (70, 0.042698487803879366), (690, 0.042693329924446737), (1989, 0.042686643200200144), (2555, 0.04257700357796242), (2831, 0.04255482573686053), (1438, 0.04252987446153542), (2320, 0.04245496266306598), (2434, 0.04245496266306598), (2696, 0.04245496266306598), (2857, 0.04245496266306598), (3220, 0.04245496266306598), (3282, 0.04245496266306598), (3552, 0.04245496266306598), (558, 0.04238762169841767), (4187, 0.0422482968871285), (667, 0.042168596700057834), (2916, 0.04214837190007937), (2485, 0.042143728771904025), (2577, 0.042143728771904025), (2851, 0.042143728771904025), (4021, 0.042143728771904025), (4500, 0.042143728771904025), (4740, 0.042143728771904025), (4758, 0.042143728771904025), (4124, 0.04214344016806236), (2791, 0.04211312275281512), (801, 0.04211018046740142), (1406, 0.042093112888223996), (1527, 0.04205557801706374), (2559, 0.042004404867482616), (2546, 0.04199789485459054), (4013, 0.041972879348834875), (1540, 0.04197265537950641), (874, 0.041964026777522236), (2883, 0.04193253650670872), (3516, 0.0419151792920953), (1455, 0.04185546063854535), (2652, 0.04179704523493861), (3344, 0.041791049498965754), (544, 0.041784005532161224), (1317, 0.04175189473511136), (3956, 0.041731033418224026), (790, 0.04171398710197312), (1958, 0.04167414563865935), (2937, 0.041653706844959025), (2344, 0.041640883519106726), (2744, 0.04163247398556601), (1507, 0.041535431491086995), (547, 0.041473029858637725), (4518, 0.04139763747900478), (3579, 0.04138955017103759), (1018, 0.041364271384658), (3854, 0.04135033111965625), (2601, 0.041326176810905814), (4267, 0.04130975831678216), (1727, 0.0412708214474214), (144, 0.04123885611989371), (2241, 0.04123797864020985), (2657, 0.04123797864020985), (2667, 0.04123797864020985), (2922, 0.04123797864020985), (3115, 0.04123797864020985), (3253, 0.04123797864020985), (3383, 0.04123797864020985), (4131, 0.04123797864020985), (4631, 0.04123797864020985), (1092, 0.04119951170084213), (2484, 0.04115504944301041), (1440, 0.04114563081605117), (1230, 0.041108973072544075), (3120, 0.04103212958393663), (2336, 0.04097071356638721), (2057, 0.040970392819082484), (2871, 0.04083719574588868), (4718, 0.04078476110313375), (4665, 0.04071521966167274), (52, 0.04071066647706673), (1000, 0.040708201256430605), (4120, 0.040620858470021906), (3702, 0.040618285442849573), (4028, 0.040618285442849573), (4157, 0.040618285442849573), (4316, 0.040618285442849573), (4618, 0.040618285442849573), (4654, 0.040618285442849573), (4750, 0.040618285442849573), (4755, 0.040618285442849573), (1796, 0.04061038853091802), (2689, 0.04059830908176301), (3731, 0.04057946982788524), (3860, 0.040552669447148845), (1334, 0.04050476512963945), (4208, 0.04047985444418469), (3556, 0.04047639366342341), (4268, 0.04047498196704849), (891, 0.04047375287782804), (1498, 0.04047250113382155), (3192, 0.040452739406315975), (1234, 0.04045189906525419), (1138, 0.040447538345733496), (1185, 0.040443972214385004), (3171, 0.04036577273584835), (4095, 0.0403280012881392), (2391, 0.04032171450302443), (2570, 0.04032171450302443), (3183, 0.04032171450302443), (3479, 0.04032171450302443), (2110, 0.040285353287907985), (832, 0.04028093833783236), (1806, 0.04020131521047315), (3264, 0.040116953010693235), (1694, 0.040112582549979695), (4723, 0.04010098076929318), (2269, 0.0401001718448533), (3357, 0.040089463249177865), (3582, 0.040039899335126264), (1968, 0.04001131616805506), (1774, 0.03997024429317397), (2966, 0.039967157215156736), (3713, 0.03996689943015165), (1300, 0.039883586405615616), (792, 0.039878661707053446), (3666, 0.03980078278926963), (4642, 0.039792049337153544), (4235, 0.03970439211763703), (4450, 0.03968039725701066), (1257, 0.03967133624336896), (2621, 0.03965183501775327), (281, 0.03960671139543237), (1338, 0.03957548141084474), (4495, 0.03957341559121306), (4685, 0.03957341559121306), (1754, 0.039571871615084526), (1173, 0.0395289557482746), (757, 0.03946477954615414), (1799, 0.03943750156162448), (99, 0.039389888699112696), (3801, 0.03937302280914956), (764, 0.03933802475301499), (2333, 0.03933802475301499), (2368, 0.03933802475301499), (2543, 0.03933802475301499), (2701, 0.03933802475301499), (2737, 0.03933802475301499), (2891, 0.03933802475301499), (3009, 0.03933802475301499), (3109, 0.03933802475301499), (3175, 0.03933802475301499), (3748, 0.03933802475301499), (3964, 0.03933802475301499), (4064, 0.03933802475301499), (4084, 0.03933802475301499), (4223, 0.03933802475301499), (968, 0.03930155190471145), (170, 0.039280811604855345), (4133, 0.03922379873907588), (1937, 0.03922266614667435), (3684, 0.039169793228942235), (270, 0.039145278884108736), (3905, 0.039135490616320795), (3704, 0.0390916311555697), (4715, 0.03903501499701775), (845, 0.03903046076382832), (43, 0.03902332919345886), (816, 0.03898222111741347), (3062, 0.038973735006987476), (1226, 0.038965922722015385), (3711, 0.03895710910461746), (1861, 0.03894198376791492), (3960, 0.03891312394927121), (4098, 0.03890823761547862), (126, 0.03889264197781342), (637, 0.03889091197072686), (3407, 0.03886611825808689), (3339, 0.038857354454844444), (216, 0.03883957978402208), (994, 0.038833613872079745), (1987, 0.038815355707596214), (910, 0.03881390507636636), (4611, 0.03876850844394081), (1582, 0.038736691726616215), (1675, 0.03865039965168429), (2477, 0.038642698616089904), (563, 0.03861852643232863), (2934, 0.038573493082911296), (3645, 0.03854991282188382), (436, 0.03854205937686346), (4579, 0.0384736710801842), (4601, 0.03842972020937262), (1160, 0.03841280857497688), (111, 0.038394845444793935), (4629, 0.03838559648148179), (3888, 0.0383285015271215), (581, 0.03826712714726082), (2158, 0.03824832393267994), (869, 0.03819198156887337), (4664, 0.03806158364041031), (2635, 0.037985132861453844), (2016, 0.03790001447031863), (2740, 0.037898755208407874), (2881, 0.03783748619912977), (4435, 0.03777572746249158), (1145, 0.037750376916471144), (3438, 0.03775023415109771), (2415, 0.03774961303598783), (244, 0.037731720737699564), (2821, 0.037725891650110706), (443, 0.03771244634874558), (911, 0.037705841446516716), (1192, 0.03770062140926834), (4494, 0.03769008677030483), (728, 0.037671248648191775), (3692, 0.03763603462915761), (282, 0.0376333489788518), (2316, 0.03763156968376637), (684, 0.037600523779169635), (2489, 0.037598594589599216), (254, 0.03757997313604021), (4045, 0.03753861969406949), (1330, 0.03747710368384302), (791, 0.03742993637092222), (1429, 0.03735490253713976), (4674, 0.03730797885415055), (761, 0.037284873658453684), (4502, 0.03723242233748321), (1348, 0.037215808853457905), (3474, 0.037215092525182174), (1188, 0.037209567385503795), (1229, 0.03713381770650152), (696, 0.0371204120286599), (1735, 0.037112413600842574), (4286, 0.03710345965891961), (3283, 0.03701421217917994), (173, 0.03701150445606553), (2580, 0.036972357802396966), (894, 0.03694040969758541), (2882, 0.03689014761879752), (2907, 0.03687847141034367), (3074, 0.03682515281406003), (4524, 0.03682029707367287), (2752, 0.03680490409566277), (1484, 0.03678510238381155), (206, 0.03678028596278715), (3771, 0.03677442756924861), (2424, 0.036735740969297506), (1876, 0.03671976671151785), (470, 0.03661853069963218), (1489, 0.03661297579846884), (2874, 0.0365822736031364), (1939, 0.03657795214525963), (2281, 0.036560883903411286), (2449, 0.036560883903411286), (2637, 0.036560883903411286), (2656, 0.036560883903411286), (2873, 0.036560883903411286), (3204, 0.036560883903411286), (3796, 0.036560883903411286), (4190, 0.036560883903411286), (4711, 0.036560883903411286), (743, 0.036526452301797435), (729, 0.036525930797951314), (3453, 0.036400360091728805), (3032, 0.03639177236957084), (716, 0.03636782856939658), (96, 0.03634732193960016), (1918, 0.03629855545234503), (2121, 0.036245832875455714), (692, 0.03621907102260559), (1513, 0.03618454879450665), (1344, 0.03616374948293412), (4713, 0.036162126473981246), (2264, 0.036149201077200224), (1290, 0.03613434147941494), (1377, 0.03612772424349188), (719, 0.036117031333960235), (3418, 0.036116227161841916), (1504, 0.03606262339167978), (3331, 0.036057023430905444), (4377, 0.03599156070404008), (4251, 0.03599065949180995), (3874, 0.03597057868000794), (3416, 0.03593475352303924), (3501, 0.035904971490321555), (2868, 0.035904882331327666), (1068, 0.03589057663782476), (1866, 0.03588896025086971), (4727, 0.035843338662618324), (829, 0.03583713669212202), (85, 0.03582334109627721), (3149, 0.035790496717885284), (644, 0.035783439983470736), (923, 0.035755261055773646), (494, 0.03574719915770737), (3259, 0.035691180193180586), (2031, 0.03566041145458911), (732, 0.03564538755942759), (4442, 0.035638380935429204), (47, 0.03562030915168948), (333, 0.03561001384115252), (2194, 0.03555149767439961), (4040, 0.03555149767439961), (4239, 0.03555149767439961), (4720, 0.03555149767439961), (4610, 0.03549133079184939), (2089, 0.03538297368843508), (4289, 0.03537416980608746), (38, 0.03523888380368802), (2495, 0.03523598757920023), (4192, 0.03521034906856344), (3330, 0.03517362026317415), (4670, 0.03517132318562066), (2683, 0.03506594879377989), (4019, 0.035063433366400665), (4749, 0.035063433366400665), (4233, 0.03505019452111077), (1865, 0.03503924783717567), (3196, 0.03500116011203779), (120, 0.03497986446831734), (4470, 0.034972884064518255), (3618, 0.03495628140139203), (2832, 0.03494981150718777), (3218, 0.03494981150718777), (1971, 0.03488224953065959), (4105, 0.034859730075418635), (660, 0.03484476108339636), (1454, 0.034844397026428754), (251, 0.03482226811608391), (72, 0.03481515026307074), (4653, 0.03475950462980373), (2055, 0.034731772377046034), (831, 0.03472621111984132), (285, 0.03470538508597666), (606, 0.034665527657701936), (864, 0.03465169319172333), (1255, 0.03462462084010829), (4587, 0.034600938652826284), (4283, 0.034508186755840525), (1472, 0.034468473742343346), (668, 0.03445734976926611), (3206, 0.034414509251856934), (4333, 0.03440716905493185), (2585, 0.03437495033765574), (2628, 0.03437495033765574), (3057, 0.03437495033765574), (3414, 0.03437495033765574), (808, 0.03433755961934891), (1510, 0.03430868036573636), (580, 0.03429996539584296), (1829, 0.034266671192305725), (2082, 0.03424470958781369), (2104, 0.034207458864315886), (2061, 0.03420068892273815), (2897, 0.03416964816641575), (266, 0.03414843035553729), (4390, 0.03413246953531092), (238, 0.03412430725547231), (4706, 0.034105210047587216), (4523, 0.03409066576241694), (4663, 0.03406856751309903), (2971, 0.03406501667507196), (1620, 0.0340577676588198), (4521, 0.03405623583731663), (4624, 0.03402648999163521), (4151, 0.033983970327562986), (4464, 0.03397602329666635), (3108, 0.03396932203660456), (4372, 0.03396207851943145), (4038, 0.033954842387709766), (688, 0.03394727009540977), (2833, 0.033940192571700147), (735, 0.03394014978509856), (2748, 0.03394014978509856), (3214, 0.03394014978509856), (2988, 0.03390612883479584), (162, 0.03390016317708468), (1191, 0.03388905046178299), (1393, 0.033784313935481314), (4102, 0.03378402462251367), (851, 0.033776038164029694), (2350, 0.03375601905283402), (1854, 0.03374391204798852), (224, 0.033708413273765836), (1231, 0.03366846794754852), (42, 0.03364843723701149), (880, 0.03363173000302461), (4432, 0.03351580594791086), (3737, 0.03351562225203585), (217, 0.03351291750411309), (3269, 0.03350019815858201), (1864, 0.03349348123883917), (1544, 0.033477836136939255), (3020, 0.033470642544217444), (3544, 0.033470642544217444), (4282, 0.03343097368193963), (750, 0.033410555186949284), (2632, 0.03340331908767712), (4576, 0.03337783178570945), (497, 0.03333642876548891), (1276, 0.033281621743425666), (1383, 0.033253176142173074), (3487, 0.03323584115992251), (3099, 0.03321093534131398), (3974, 0.0331800978885235), (2293, 0.033176697745552486), (2825, 0.03316639890888601), (222, 0.033155117992305166), (4400, 0.0331540758504214), (3653, 0.033132736616075575), (3514, 0.033128898644064333), (3613, 0.033126864219669865), (2738, 0.033082408250090484), (4005, 0.033076609250465225), (368, 0.033050776516946434), (4194, 0.03298433867230677), (981, 0.03298228048648097), (3408, 0.032964090741110307), (3534, 0.03291605926231221), (2986, 0.03291289494977406), (4046, 0.03290121388670061), (3797, 0.03287621724442996), (3763, 0.03286329490483531), (4557, 0.03284876707216462), (371, 0.03283796469178983), (1005, 0.03271357287053976), (3464, 0.03267174951907774), (139, 0.03265862731900843), (4002, 0.03265197912728953), (727, 0.032645326088418095), (2900, 0.032641766012564376), (4171, 0.032636535351049795), (4101, 0.03257104822218622), (1437, 0.032544635547642434), (3342, 0.03251703384783597), (86, 0.032510246473330756), (4733, 0.03246815995181443), (367, 0.0324631618760133), (3112, 0.03246210410219226), (88, 0.03245649208053858), (106, 0.032448615699595826), (345, 0.03242819604009748), (356, 0.03232704281178266), (2899, 0.0322817012453582), (280, 0.032272634091138924), (833, 0.032271520285829164), (1413, 0.03225403790145893), (493, 0.03225168123555694), (3245, 0.032237118580086856), (1260, 0.03222349194929732), (3997, 0.0322143339570222), (1065, 0.03221222517713421), (4228, 0.032201839332046914), (1536, 0.032201593900260735), (3586, 0.03220157748676371), (3122, 0.032200325032914805), (3624, 0.03217673497408622), (2076, 0.032118091881028564), (828, 0.032106217829636095), (3814, 0.03209093919713209), (4677, 0.03208330126625871), (2230, 0.03206877140904461), (3477, 0.03204386914424254), (2772, 0.0320381679055311), (566, 0.03203000834981522), (2208, 0.03202745893470533), (34, 0.03201851815858476), (1179, 0.032013460380119214), (4630, 0.03197600308907579), (1225, 0.03197068427370836), (1779, 0.03193434701384716), (107, 0.03189113394784103), (927, 0.03187376252549211), (16, 0.03187155488074086), (1940, 0.0318673082141425), (422, 0.031810951696303755), (3878, 0.03177677570336832), (10, 0.031764838447100235), (143, 0.03175556580694466), (933, 0.031734156774814), (2410, 0.03170270357914325), (406, 0.03169440313427793), (255, 0.03168458384544935), (4486, 0.03166773174043187), (350, 0.03166702693537742), (4732, 0.03159365917486319), (1922, 0.03158914010634787), (3842, 0.03154997991533259), (1781, 0.031542189723175754), (908, 0.031540533709846476), (1924, 0.03153335454733981), (3661, 0.03150691539844616), (417, 0.03150630689313756), (2065, 0.03147593005753664), (1643, 0.03147106011206962), (1213, 0.03147083885537185), (1208, 0.03147008722121716), (461, 0.03144467845370211), (4705, 0.031413987206600394), (4262, 0.03138156750929566), (1931, 0.031335890428029485), (3460, 0.0313143325376203), (1816, 0.0313087731117262), (4141, 0.031286980558824756), (804, 0.03125847639656573), (1902, 0.031204264656411972), (1488, 0.0311544755596002), (2598, 0.03112874421399028), (44, 0.031087754151800175), (4016, 0.031071141772352366), (4567, 0.031071025972629503), (1140, 0.031063558568393844), (3962, 0.03106040242115277), (2237, 0.031040083304405018), (1819, 0.03098802968620278), (1116, 0.030965954761578277), (1223, 0.030948776035268074), (2606, 0.030935045235073032), (3433, 0.030930652697351374), (980, 0.03090910321068413), (2443, 0.030901887481193605), (4309, 0.03090027171832125), (769, 0.03084673641533646), (4249, 0.030845292567055066), (868, 0.030842581177973307), (3570, 0.030819898478513928), (2640, 0.03081310741471012), (108, 0.03078048893160963), (512, 0.030750088297015563), (4017, 0.03074916390228101), (1537, 0.030747239297159945), (3239, 0.030743246653437806), (2647, 0.0307376553749641), (3065, 0.030721872297852826), (1400, 0.030716799071985393), (2093, 0.03071123272682324), (385, 0.03069946312067082), (4584, 0.03068993599511967), (3941, 0.030653046562134918), (1388, 0.0306512487223947), (3625, 0.030649339370546598), (408, 0.030642516537962877), (3078, 0.030533746287045714), (634, 0.03049621728504733), (2914, 0.030492591457014773), (369, 0.030453691076827626), (243, 0.030420303413053934), (3696, 0.03041499400419932), (3273, 0.030409284041875533), (515, 0.03037289781180802), (2440, 0.030353279982641018), (1030, 0.030347570329650603), (2374, 0.030346654400607333), (4285, 0.030321552875551286), (3674, 0.030310944835308714), (3497, 0.030282825926459412), (3668, 0.030253089205308215), (4337, 0.03021528481930632), (3498, 0.030209200592797844), (3649, 0.030191579301096068), (4026, 0.030191579301096068), (4176, 0.030184883213152908), (1608, 0.030178357888416375), (3531, 0.030155864099308358), (208, 0.030141191033983585), (519, 0.03013746713751583), (3081, 0.030127792076895994), (1962, 0.03010680041274239), (4361, 0.030094010017414356), (4729, 0.030094010017414356), (4590, 0.030086202973654327), (3815, 0.030056762777531828), (1788, 0.0299924312164123), (3889, 0.029965742204088514), (4652, 0.02995810675181795), (2720, 0.029950247520655435), (3143, 0.029930981626265396), (1705, 0.0299080806116118), (3571, 0.02989863391629012), (4734, 0.02988645446030451), (3435, 0.02988427291475183), (3436, 0.029882080442123694), (4386, 0.029859955469036227), (4240, 0.029859532257875573), (745, 0.029844083582718034), (1462, 0.02977684907878854), (1050, 0.029736575094422565), (122, 0.029727970383646565), (1041, 0.029724857643504087), (3774, 0.02971494208554181), (2530, 0.029708245496296342), (733, 0.029683622447615982), (4533, 0.029674880374561608), (2651, 0.02967051604679667), (900, 0.02966097142748452), (1076, 0.029653439912677715), (4167, 0.029648106971369957), (2045, 0.02964559100929591), (4299, 0.02964110140761322), (1892, 0.029623867743400426), (800, 0.029605704293364458), (3881, 0.02956738985621188), (3604, 0.029561995836373152), (2724, 0.02955707065945001), (4093, 0.02954717115034619), (4534, 0.029539681688174065), (3299, 0.029523787355015367), (3439, 0.029522956241081633), (2088, 0.02948535437057556), (1811, 0.029470265823223037), (1351, 0.029465323139808708), (3195, 0.02945283250662534), (1738, 0.029441667735909074), (1981, 0.029434410768821445), (513, 0.029427992195798353), (3261, 0.02940514731017919), (3345, 0.02940514731017919), (3420, 0.02940514731017919), (3663, 0.02940514731017919), (3830, 0.02940514731017919), (3891, 0.02940514731017919), (3981, 0.02940514731017919), (4065, 0.02940514731017919), (4067, 0.02940514731017919), (4201, 0.02940514731017919), (4541, 0.02940514731017919), (4561, 0.02940514731017919), (4578, 0.02940514731017919), (4644, 0.02940514731017919), (1986, 0.02940250855232551), (4255, 0.029395115523074115), (608, 0.02935966519905489), (1443, 0.029323122926661258), (1812, 0.02927830006047465), (1078, 0.029272492061406537), (50, 0.029198538975457447), (1585, 0.02914547533761022), (2807, 0.029139074269556316), (1653, 0.029136630136522217), (4650, 0.029120934324470882), (1433, 0.029113129697097565), (4488, 0.02910240386974801), (613, 0.02909831898356983), (3153, 0.02909558105286713), (1531, 0.02904919672330735), (424, 0.029001787613761914), (1760, 0.02895635823403972), (3967, 0.028955492481648804), (3590, 0.028954123181296827), (2012, 0.028939613627432907), (311, 0.028912588581960077), (1375, 0.0288918040046325), (2279, 0.028857886623197434), (1555, 0.028843719926478262), (2072, 0.028827797970153154), (523, 0.028819521474119474), (1282, 0.028814194194432), (2680, 0.028802268266863017), (1674, 0.028787949616130182), (4119, 0.028784455487313274), (4692, 0.028780315915616497), (3857, 0.02874413905016251), (4043, 0.028720570467586373), (1721, 0.028720046267722992), (1452, 0.028719498987692573), (509, 0.02867427024245439), (642, 0.028618597921208137), (4594, 0.028605722209862378), (180, 0.0285961444216854), (1897, 0.02855370221479986), (31, 0.028539927278979735), (3233, 0.028531474382558916), (0, 0.028521082521831626), (3302, 0.028455219923157322), (744, 0.02844487848670012), (1568, 0.028430946107478358), (4418, 0.02842960000524481), (3499, 0.028346348529265517), (4090, 0.028345020192119513), (3623, 0.028322291540962698), (2355, 0.02830272674216402), (953, 0.02827667942059278), (1177, 0.02825367909088784), (1001, 0.028195885067421156), (1847, 0.028192140202083313), (3007, 0.028176417679409527), (3387, 0.028174777774915696), (2917, 0.02816350589920072), (1421, 0.02813376307081649), (3658, 0.02812584578161499), (3841, 0.02812440196024678), (2959, 0.028119721681515594), (2480, 0.02811443264278309), (233, 0.028114163348511557), (2236, 0.028099770214033423), (200, 0.02809678102866482), (2353, 0.028075676052566327), (1167, 0.02807486311247998), (1332, 0.02806473494824979), (3744, 0.028063326992713158), (1215, 0.028045921521959186), (1391, 0.028034962301945198), (2094, 0.028031646445653324), (1857, 0.028023898528809113), (4395, 0.02802070098143597), (941, 0.0280172350833885), (514, 0.02799524193669211), (2252, 0.027983894069529468), (632, 0.027964757549651855), (636, 0.027957423918361174), (3198, 0.027956673878552777), (3957, 0.027951179765677295), (4076, 0.02795051857225553), (1588, 0.02794333781900138), (1174, 0.02793700637495806), (3678, 0.027919918617608935), (4039, 0.02789385535443417), (2678, 0.027888306113092568), (81, 0.027872477392944475), (4158, 0.02786835514890934), (1945, 0.027852132184085835), (3908, 0.02784584301178202), (570, 0.027835858287460054), (1461, 0.02783576516238709), (802, 0.02782263803967834), (936, 0.02781771210103908), (4313, 0.027816391678614244), (4499, 0.027816391678614244), (4736, 0.027816391678614244), (2263, 0.02780592025461443), (2583, 0.02780592025461443), (1279, 0.02779645018979701), (4430, 0.027763370738198158), (1960, 0.027721778642994042), (1713, 0.027703742760860215), (3778, 0.027702466780610658), (425, 0.027699090473286846), (2803, 0.02769741372472951), (1214, 0.027693392794402565), (2714, 0.02765956833145334), (3508, 0.027646608325429506), (664, 0.027645507912860988), (3705, 0.02763949968174067), (433, 0.027635284989409887), (482, 0.027621067063025563), (1128, 0.02760989449667641), (1519, 0.027584084794063872), (3910, 0.027565038546389867), (1845, 0.027561483552621523), (3639, 0.02755449300614442), (3385, 0.027548860120747996), (1975, 0.027545140045345657), (3734, 0.027533003382539493), (1083, 0.027525015204493086), (4513, 0.027506988862059083), (1280, 0.027501799708625534), (779, 0.027481522326309616), (1449, 0.027480333440710332), (849, 0.027446741466382565), (1220, 0.027438931884610107), (3059, 0.027411680925090193), (296, 0.027323416255748127), (2069, 0.027312935753110452), (810, 0.02730699306083771), (2597, 0.02730163315965075), (3241, 0.027292213963568228), (2684, 0.02726303573582148), (3203, 0.02726303573582148), (3730, 0.02726303573582148), (3789, 0.02726303573582148), (4291, 0.02726303573582148), (3970, 0.02723280233265658), (4402, 0.027231951264101318), (1435, 0.027174845017760876), (474, 0.02717332416368643), (40, 0.027171924737497376), (3526, 0.027150664181995986), (811, 0.027122491822621653), (2008, 0.027118080419994278), (3472, 0.027107559001646846), (633, 0.027073760470383908), (2455, 0.02706621961481192), (3087, 0.02706621961481192), (2819, 0.02706303594839942), (526, 0.027059390262281414), (3822, 0.027001890657455976), (1502, 0.02700037208090093), (2091, 0.02696884428096382), (3213, 0.02695266689952698), (2496, 0.026940035733633245), (1964, 0.026936246165069573), (2421, 0.026914750357809884), (2981, 0.026850553606261155), (3594, 0.026831523817638536), (3240, 0.026826561546091914), (738, 0.026814635477684225), (4162, 0.026791926931204857), (2782, 0.026761590507745063), (4261, 0.026757048356781638), (4177, 0.026740353380083588), (1817, 0.026738184626666623), (992, 0.026737657328126236), (2084, 0.026707983695972354), (1566, 0.026689459019310798), (4389, 0.026688827469335687), (2044, 0.02667288656123115), (1901, 0.026659216365791986), (3488, 0.0265956262719406), (1631, 0.0265706850673189), (3005, 0.02656645475753672), (3161, 0.026540921778823796), (1873, 0.026539204441264536), (1632, 0.02653878470015672), (1925, 0.026508015545265932), (919, 0.02650179799691388), (4468, 0.026501613804903946), (442, 0.026498567920939034), (2326, 0.026494251571879374), (4298, 0.02648828345477475), (793, 0.026462994747379388), (1023, 0.026449762093730317), (3429, 0.026443011910928283), (617, 0.02643351556700104), (1356, 0.02641886301985671), (3727, 0.026412817095106633), (1900, 0.0264029859323033), (4639, 0.026383950505131225), (1976, 0.026361655068428785), (539, 0.02636136264630304), (3824, 0.026360707346477222), (3938, 0.026357070347423524), (3620, 0.026347745516780277), (3605, 0.02634646658935979), (2330, 0.02631962065152066), (4529, 0.02627300365325598), (118, 0.026248244809375012), (2413, 0.026244945219898206), (1044, 0.026209549928291883), (380, 0.026209332726738206), (4211, 0.026196689549225702), (3307, 0.0261904102288052), (3787, 0.0261797760113006), (1546, 0.026163432375785122), (1933, 0.026148796900943908), (1431, 0.02611383524889963), (284, 0.02610757960494163), (2197, 0.026074110718995812), (3647, 0.026050688408660008), (3256, 0.026007325955678562), (4419, 0.02596458585013082), (4604, 0.02593998644468715), (3456, 0.025931279630245094), (294, 0.025920561790252854), (329, 0.025912995172856966), (4134, 0.02591227115484812), (4730, 0.02589836924618009), (4581, 0.025884611060272875), (310, 0.02588340588665018), (503, 0.025857985125158314), (2960, 0.02580418535472761), (932, 0.025773278319337845), (3729, 0.025771952557156915), (2436, 0.02573408303496976), (2181, 0.025732723389330754), (315, 0.025732491026811598), (1724, 0.0257275379390458), (1661, 0.025721654538562743), (4708, 0.0257175098683475), (2136, 0.025716437558075022), (3323, 0.025683890322050623), (4725, 0.025683890322050623), (1088, 0.025659149125052034), (4306, 0.025637557614035546), (1480, 0.025626193332688667), (3545, 0.02562041625347923), (2809, 0.02561498139698517), (3292, 0.025603570594275878), (1575, 0.0255972008130706), (4661, 0.025593724310398323), (3124, 0.025571609615787954), (3576, 0.025570949336899507), (2078, 0.0255621851602597), (3584, 0.025557273188547048), (2711, 0.02554796133742997), (4302, 0.025532087609926868), (666, 0.025515215911962087), (426, 0.025503479513270574), (3793, 0.025490621457331126), (3011, 0.02548542827128743), (1573, 0.02548331355671642), (6, 0.025483233272968035), (1941, 0.025480011392059403), (288, 0.02547451508791195), (3443, 0.02545717528692986), (3158, 0.025445407423061544), (3452, 0.02541986678645556), (3833, 0.025413623406398106), (1123, 0.02539363320870195), (4384, 0.025367113999473556), (1381, 0.025361430475565137), (1859, 0.025355076837229817), (3703, 0.02532885049639111), (562, 0.025297793383304266), (4304, 0.025292860715937213), (2199, 0.02529172314142511), (2130, 0.0252842060539987), (4466, 0.025249100022730956), (963, 0.025243217281475), (2231, 0.025222840581787292), (1593, 0.025215816099834816), (1993, 0.025211251642585412), (844, 0.025204634066418617), (4462, 0.025193202308164988), (4154, 0.025163799143522358), (4269, 0.025141616046727794), (1407, 0.025129632106888948), (2340, 0.02512484085120103), (855, 0.025115889938567424), (2790, 0.025102743860904435), (4312, 0.025081266752146142), (612, 0.025046889380371723), (3263, 0.025029955560383996), (1723, 0.025029282216589187), (925, 0.02500017302353829), (1426, 0.024996214286532977), (1127, 0.024977280603889197), (1154, 0.02497416360266286), (1655, 0.024970301059970487), (2929, 0.024940459904000935), (2984, 0.024940334768405865), (4369, 0.024934292238838453), (1996, 0.02493229050061229), (1210, 0.024917851079370574), (3440, 0.024913532463233395), (4703, 0.024891450093112416), (571, 0.024877601762788287), (1019, 0.024872132240458717), (271, 0.024868464534909308), (635, 0.02486092512590289), (4497, 0.02485466525600947), (4505, 0.02485466525600947), (1380, 0.0248462200761289), (4591, 0.024842425839239853), (4160, 0.024841947027264145), (30, 0.024825857108861128), (1428, 0.02481962719427095), (1791, 0.024816602355904646), (4237, 0.0247796623629988), (2787, 0.024761323704070387), (3180, 0.024738165293673307), (863, 0.024737281531061906), (3027, 0.024736495181516445), (3404, 0.024712869028540366), (2674, 0.024706897728855357), (4275, 0.024698515517368107), (1396, 0.024675246555730976), (2501, 0.02467475524706671), (3886, 0.024669795123622672), (1846, 0.024669462681164888), (2226, 0.024652469389518292), (1384, 0.024594669017223878), (2190, 0.02457858576569591), (2567, 0.024557962135544686), (4254, 0.024553631529833565), (3426, 0.024548772277858556), (4264, 0.024519880063692233), (742, 0.024503693385754262), (2733, 0.024490206290871015), (295, 0.02448865966777534), (540, 0.024486163654966354), (4319, 0.024471219865303987), (1930, 0.024445398756307954), (2756, 0.02442658729071743), (3151, 0.02442578945358166), (320, 0.02441807658926709), (1158, 0.02441458960036097), (1749, 0.024406678642106983), (420, 0.024383380270722413), (624, 0.024376323133783455), (4621, 0.02434723070255807), (95, 0.024344908088117987), (3470, 0.024342634494275917), (3060, 0.024331548911937645), (2928, 0.024328587621054647), (4103, 0.02428615307285417), (3257, 0.024262554841763123), (3850, 0.024248253838942163), (3398, 0.02424153353871148), (3338, 0.02422504941399162), (4360, 0.024224602741211184), (3131, 0.02422069504369535), (3136, 0.024206659028056056), (4310, 0.02419063689844868), (3126, 0.024179998323086826), (2286, 0.02416587279842685), (313, 0.024150862162557435), (2962, 0.024133114730209036), (354, 0.02412336452948519), (2074, 0.02411508281551645), (2184, 0.024114817648813396), (375, 0.024107715615483208), (3555, 0.024107665757552015), (3179, 0.02408587154838704), (2541, 0.024084707604357963), (2884, 0.024043467285965733), (125, 0.024042506213560626), (3314, 0.02402061750936518), (4484, 0.024011642584322156), (2682, 0.023977865843087743), (2442, 0.02396280065208345), (4586, 0.023936684277635584), (775, 0.023931428728404147), (2245, 0.023931340681027636), (389, 0.023927356290758445), (1627, 0.023922845964721683), (116, 0.023911433892750696), (3039, 0.023898160888130134), (3400, 0.023898160888130134), (1614, 0.023892853279237233), (3156, 0.023892618469298257), (2631, 0.023873168857664533), (2951, 0.023873168857664533), (3088, 0.023873168857664533), (3266, 0.023873168857664533), (3324, 0.023873168857664533), (3422, 0.023873168857664533), (3510, 0.023873168857664533), (3446, 0.023858643000704168), (2314, 0.02385357586894858), (3163, 0.023841662880575418), (2992, 0.02381104606966474), (1927, 0.023806356870523907), (341, 0.02380232855181913), (3770, 0.023782334374835734), (1302, 0.023777844340481212), (3010, 0.023772023060483954), (3391, 0.023756379469876406), (685, 0.02372232676976684), (2853, 0.023722043461690788), (39, 0.023709647350122185), (4744, 0.02370729040917424), (1366, 0.02370358817734062), (1797, 0.02368868499245995), (1469, 0.023677996531294675), (4287, 0.02367574857122764), (3423, 0.023659673332744213), (250, 0.023649960981048705), (974, 0.02363978868679904), (4280, 0.023627569627794026), (3515, 0.023603857259173435), (4250, 0.023603857259173435), (1270, 0.023598702739597646), (1919, 0.023598527123798445), (2599, 0.023588024871457763), (1448, 0.023584961085361032), (2283, 0.02356298813657399), (306, 0.02355158983601947), (2626, 0.023536644979291952), (1398, 0.023515395169852297), (2535, 0.02348624788658739), (1773, 0.023466170079640913), (1662, 0.02344024650232771), (4366, 0.023435664153109964), (2760, 0.023408786273357674), (1150, 0.023389588923285874), (1910, 0.023384264757832014), (332, 0.023381254154212782), (305, 0.02337018055640007), (1099, 0.023369751705984744), (1420, 0.023369129911231287), (3876, 0.02336555342523386), (3044, 0.02335808514577061), (1623, 0.023347890812659897), (4570, 0.023347100250278807), (1100, 0.023343982142148948), (902, 0.023342051466516266), (1414, 0.02332702628963966), (1973, 0.023304137387514474), (537, 0.023268367081836133), (2437, 0.023255764226199956), (1840, 0.023243499647041994), (1659, 0.023234426740644642), (3495, 0.023216222054368286), (4292, 0.023196033866784958), (4248, 0.02317078435226275), (4678, 0.023170583476266337), (4392, 0.0231633844818083), (4042, 0.023160075693754625), (2614, 0.023129918956584134), (2576, 0.023122852906881066), (2845, 0.023109492691392255), (1805, 0.023108025969353914), (321, 0.023105808355185616), (3710, 0.023095106728997655), (762, 0.023094121511487112), (322, 0.023083545487373684), (2944, 0.023071872782044988), (1998, 0.023065209297660063), (2630, 0.023065025746144323), (2769, 0.023052341742040267), (3989, 0.02305133684400602), (2246, 0.023048527893596103), (4582, 0.02303560285025371), (3468, 0.0230285249365753), (290, 0.023025233811711433), (559, 0.0230013846954345), (1134, 0.02298120807515713), (4555, 0.02297754233794493), (2533, 0.022965685479337125), (1554, 0.022950172291013978), (2670, 0.022945218570259707), (4079, 0.022944952581155073), (803, 0.022944122150032116), (102, 0.022933330118367245), (1347, 0.02291342008957352), (3788, 0.022911523583470587), (460, 0.022906440517186266), (3772, 0.022871397627983944), (1562, 0.022862016102128634), (3769, 0.02286167517701357), (1197, 0.022861050373476223), (3471, 0.02283736384665374), (240, 0.02282146935074314), (4416, 0.02280628856117154), (3747, 0.022793356820694968), (2789, 0.02277513018433777), (3013, 0.02276911184112567), (4545, 0.022757701812255924), (3145, 0.022751633577228914), (4170, 0.022751633577228914), (1772, 0.022733065882030758), (3677, 0.022705090588362727), (4091, 0.02267558525554654), (4446, 0.02267237796297439), (3072, 0.022671132511230874), (4339, 0.022654545719451174), (2362, 0.022639368862328625), (347, 0.022637240922045283), (2193, 0.022630921327145212), (2062, 0.02262802620169989), (2385, 0.02261462126541774), (3424, 0.02261164778407708), (1594, 0.022607823050438403), (2642, 0.02260095065285962), (3003, 0.022599184014074652), (4441, 0.022598828277572598), (1904, 0.022559509692215315), (4051, 0.022555381576478635), (2991, 0.022548703823322518), (3907, 0.022541958169494763), (2802, 0.022530607826139543), (1590, 0.02250249642643167), (1518, 0.02250090672613537), (93, 0.022464165637147968), (1551, 0.022440768892658655), (4383, 0.022439930599979875), (4290, 0.02243412915318864), (3913, 0.02241152854447511), (4115, 0.022387367368823675), (4344, 0.022375411407486303), (1450, 0.02234381566531326), (1934, 0.022339075183778062), (3834, 0.022296922662336502), (1202, 0.022280870963182153), (2659, 0.02224460995641872), (220, 0.022243693747166372), (2755, 0.022235580536475612), (2730, 0.022233432442032335), (862, 0.022230073530733193), (2544, 0.022224282829779632), (1914, 0.022210445145144656), (4044, 0.02218113516746696), (4585, 0.022177890313903114), (2810, 0.02215062124276232), (1357, 0.02214930576586682), (2974, 0.02214136548875692), (2278, 0.02214134242087743), (1129, 0.02213978930568885), (2847, 0.022135202252675713), (4071, 0.022125206400795357), (434, 0.022121308959541598), (3739, 0.022102343868162996), (4087, 0.022100520768775285), (1168, 0.022085089234330897), (4552, 0.02206629151072979), (327, 0.02206088858347806), (3458, 0.022060704218406148), (1953, 0.02205715429330998), (1838, 0.022055030163789013), (4368, 0.022050043007408714), (4438, 0.02202591748058892), (4193, 0.02202012861118495), (1410, 0.02200057807921049), (3607, 0.021986179948214883), (985, 0.02198314718185039), (2438, 0.02196726410542538), (4340, 0.021963659856814498), (1211, 0.021960890144800554), (2015, 0.02194833121441974), (2186, 0.02193119574929148), (3177, 0.02193119574929148), (3217, 0.02193119574929148), (3371, 0.02193119574929148), (3252, 0.021918145419249503), (4365, 0.02191548422849097), (783, 0.021901918132505988), (3583, 0.02188707897497065), (3129, 0.021878270522473188), (1929, 0.021869460690597014), (1266, 0.021850132980965), (1813, 0.021839520231545066), (2453, 0.02181855008977704), (2433, 0.02181717566382401), (4199, 0.02181717566382401), (3898, 0.021816258764747975), (1732, 0.021810925144516845), (303, 0.0218099480021073), (2556, 0.021795387645794664), (1884, 0.02179528709757622), (2500, 0.021792611599984663), (467, 0.0217836696110165), (1012, 0.021767744802550452), (1146, 0.0217529252998114), (1576, 0.02174523198432846), (1194, 0.021734728052333868), (2395, 0.021714840710330037), (1707, 0.021707402316509285), (469, 0.021706413517860887), (3932, 0.021705481260613797), (1003, 0.02168553838777118), (1622, 0.02166344328922324), (2975, 0.021657894439971508), (4322, 0.021646203666338362), (2990, 0.021634820258283775), (3676, 0.021634820258283775), (187, 0.02160407386515157), (1952, 0.02159454026198411), (1494, 0.021582996472799768), (2786, 0.021574151330035353), (4259, 0.02156335335753626), (2060, 0.021558067401529605), (2232, 0.021554090244027414), (2306, 0.021550245032748827), (625, 0.021546074468853153), (3432, 0.021538741365526918), (3215, 0.02152405646695447), (4694, 0.021513471983372577), (2172, 0.021485421148961473), (1272, 0.021471912987071674), (27, 0.02146294088880941), (128, 0.021459107487092618), (4359, 0.021453209163243545), (3451, 0.021449050885415176), (3806, 0.021415714683351385), (191, 0.02141485004064653), (4455, 0.02141265680297879), (3367, 0.021411122766358426), (1458, 0.021384460190291138), (3434, 0.021379977106682435), (2111, 0.021361751613981888), (511, 0.02134249980010467), (4598, 0.02133602514365487), (2869, 0.021320848453190402), (3191, 0.02131793682332467), (4680, 0.021299750459520036), (3089, 0.021283692172016554), (595, 0.02126867479392469), (2997, 0.021264089724745028), (2706, 0.02124588057005012), (619, 0.021245461020124055), (1533, 0.021235190143560526), (239, 0.02123430848265181), (4113, 0.0212291008755038), (550, 0.021226218134463664), (4381, 0.021204775660451168), (1809, 0.021164653040061692), (3723, 0.021153866269114845), (2970, 0.02113534712124763), (3524, 0.021134608478859382), (813, 0.02112666288774779), (76, 0.021089541285108423), (1881, 0.021086139866189735), (889, 0.021051474267027054), (1530, 0.021043274281810853), (1701, 0.021042698453523287), (3146, 0.021038252105097285), (1848, 0.021023166587484515), (1207, 0.021018537724656488), (809, 0.021010694422845613), (4627, 0.021008351092431914), (1430, 0.021000334688075457), (234, 0.02099211586364065), (2796, 0.020980412994503428), (3133, 0.020975449596307035), (3386, 0.020971145702033834), (3920, 0.020963746192580353), (1281, 0.02094615267923974), (1619, 0.02093806496886941), (2604, 0.02093002247105246), (2520, 0.020904329729546117), (1633, 0.02089777398643567), (74, 0.020896043493287254), (3935, 0.020892871477211507), (1761, 0.02089106371200415), (468, 0.0208866068164993), (2953, 0.020868287657530404), (2417, 0.02086815771422329), (1852, 0.020855719882824482), (94, 0.02085514488825437), (1946, 0.02084583757967251), (3449, 0.020845258685674654), (3036, 0.020833744276821275), (261, 0.020800669402600117), (2797, 0.020795298437935233), (1262, 0.020789632646330544), (3757, 0.020786778899336104), (3636, 0.020780212449373087), (2725, 0.020779428065317015), (997, 0.020774107065854426), (4054, 0.020764289805159205), (2855, 0.020762589370875894), (3017, 0.020762589370875894), (3686, 0.020762589370875894), (3933, 0.020762589370875894), (4638, 0.02075394618869432), (1451, 0.020752654424877233), (438, 0.020743208388216507), (623, 0.020741754329442835), (3289, 0.02073006413192511), (2139, 0.02071397320678507), (2687, 0.020691769542983407), (1784, 0.02069009219929566), (3308, 0.020657810630226373), (4689, 0.02065085993317365), (721, 0.020641157241898335), (765, 0.020639339857307128), (2848, 0.020635363723828515), (1959, 0.020631631343136194), (4625, 0.020613693834186823), (3279, 0.020612741237866602), (487, 0.0206077473201985), (3853, 0.020594133679726328), (2623, 0.020576983140326313), (1049, 0.02057142335336635), (432, 0.02054096559770748), (3669, 0.020539156410748098), (640, 0.020532232186879936), (4277, 0.02053114408263213), (589, 0.020498148071817053), (1181, 0.020488843434147315), (4743, 0.020464074122571566), (3380, 0.020460869973788896), (4461, 0.020460593360402728), (397, 0.020455040453979344), (1082, 0.02045016862018437), (4376, 0.02043111602274668), (1637, 0.02042785490947722), (1635, 0.020411556160794837), (152, 0.02040987020681412), (587, 0.020407207397436698), (2432, 0.020368731833248745), (226, 0.020352102085831453), (490, 0.020349773121070718), (2592, 0.020348236857832117), (957, 0.020344265304053054), (135, 0.020312606080329438), (2402, 0.0202754699404343), (2952, 0.02027479261517854), (2895, 0.020246045871893256), (2924, 0.020241154348270726), (847, 0.020239892022369352), (2747, 0.02023706394571325), (508, 0.02022262987957318), (2149, 0.02018555820653938), (4695, 0.02017868268947226), (2946, 0.02017604614815143), (160, 0.020162349847623287), (1120, 0.02012799544365807), (3000, 0.020109970321541937), (1793, 0.020109444427831046), (756, 0.02010791986060799), (3615, 0.02008864191529646), (2741, 0.02007912210658848), (249, 0.020073880623304355), (77, 0.020066614542671803), (2563, 0.020052977062951345), (959, 0.020030750468696797), (3823, 0.020026247921518685), (1887, 0.02001711052593345), (4328, 0.020008298039372294), (2302, 0.02000782393323462), (2411, 0.01999371398869761), (3079, 0.019989237645078928), (3069, 0.019988195790958348), (723, 0.019957287708558827), (3714, 0.019948656811106476), (1254, 0.01994733194235867), (3906, 0.019939125975849258), (1109, 0.019923261629875438), (3134, 0.01991919304538943), (1286, 0.019916341493125603), (3254, 0.01991569233678228), (2904, 0.019907859717091306), (1493, 0.019901123225884453), (273, 0.019895721342258747), (1630, 0.019876807263340686), (605, 0.019867734343467006), (2478, 0.019857107476734245), (241, 0.019855608952435717), (4117, 0.019849063705406414), (3361, 0.019813776856923374), (2611, 0.019810048831286866), (3664, 0.01980629651101002), (326, 0.019801910965731105), (3701, 0.019799712287923207), (2920, 0.019796198258495875), (2502, 0.019790320523649683), (2505, 0.01978943798167033), (2173, 0.019789207384437228), (198, 0.0197874741418057), (1587, 0.01978395432697857), (2969, 0.01976753679349239), (46, 0.019764611383552833), (2554, 0.019761523646655735), (1711, 0.01975792511787241), (1009, 0.019754801791030927), (157, 0.0197468779281552), (3520, 0.01973993675921163), (3358, 0.019739007737953066), (2785, 0.019736577571467472), (1059, 0.019722992912931014), (1479, 0.019717016189113076), (1359, 0.01971314074864918), (2746, 0.0197094775875699), (2557, 0.01969320848547591), (4274, 0.019691778422542588), (3230, 0.019656195002715267), (2658, 0.019651681338020692), (3251, 0.019651681338020692), (893, 0.01964847476968999), (278, 0.019618506483895626), (2479, 0.019602626418137602), (777, 0.019591148929735593), (4426, 0.019569691280712637), (3877, 0.01954286962606555), (2303, 0.019541320850760283), (2579, 0.019541002873434972), (2213, 0.0195337868966162), (457, 0.019512861007814547), (3611, 0.019512850036960572), (3782, 0.019511519611156956), (3348, 0.019471805258930726), (3602, 0.01946682417259519), (1416, 0.019462673118944354), (3799, 0.019461009118290695), (3031, 0.019446387651061246), (4562, 0.019446031216067604), (2736, 0.01944536372115383), (4348, 0.019444835102815305), (3484, 0.019442480203812153), (499, 0.01943177049103437), (4106, 0.019429726821637985), (4213, 0.0194228822710995), (1990, 0.019417545830483055), (1007, 0.019412468187421508), (1782, 0.019405122848312594), (323, 0.01940194938904442), (877, 0.019398286498394715), (2418, 0.019388192664266723), (4575, 0.019369545809523197), (3903, 0.019368658246489374), (1503, 0.019358850285405436), (839, 0.019350554426888215), (2527, 0.019347351217517496), (3406, 0.019345589587229393), (1110, 0.019315298406361262), (3867, 0.019314771291303757), (316, 0.019314754370225486), (3565, 0.01931407523255396), (4145, 0.01930998469971534), (3405, 0.01929394984860093), (246, 0.019286489203458972), (2765, 0.019273527824406396), (451, 0.019266454508856185), (1905, 0.019264382353118597), (4311, 0.0192351684410011), (4528, 0.019234592966485706), (3511, 0.01923317816258738), (4712, 0.01923229853014279), (3255, 0.019227442060784253), (399, 0.019226774229641544), (4020, 0.019221865081246996), (4165, 0.01921417243378241), (1683, 0.019212176949736995), (260, 0.01920336809941796), (3341, 0.01919592214586933), (1916, 0.019195833089718464), (2977, 0.019194411624587668), (1499, 0.01918938969257335), (3654, 0.019184186949963527), (3100, 0.019176470336071016), (4326, 0.019153287187768812), (579, 0.019141561672061116), (4449, 0.019137936831980215), (464, 0.01913545576340646), (121, 0.01913503582362466), (2221, 0.019124012782958985), (80, 0.01911655714564992), (655, 0.01910805818828484), (4343, 0.019101474398937977), (979, 0.0190973652778679), (33, 0.01908713314859801), (3184, 0.0190837183561516), (3608, 0.019046997585038816), (3621, 0.019044819370346085), (4161, 0.019043901902498078), (98, 0.019031177268978957), (2783, 0.019029112376857664), (4448, 0.019016661854931213), (2820, 0.01901451990958853), (1559, 0.018986033466431674), (3390, 0.01897865081139309), (1712, 0.018976363621327902), (1456, 0.01896941010778079), (1717, 0.018943646908288897), (3869, 0.01894243092563334), (2945, 0.018939043191965235), (203, 0.01893333136833901), (4668, 0.01892945456493884), (3412, 0.018915940481261957), (4566, 0.018908960653817607), (456, 0.018897990718513592), (857, 0.018874380413678577), (4318, 0.018855446583698886), (2940, 0.018850038527372368), (2545, 0.01884699432667076), (1650, 0.018845221419756333), (1666, 0.018844088747804126), (3176, 0.01879766986213304), (3918, 0.01879766986213304), (4424, 0.01879766986213304), (4425, 0.01879766986213304), (4681, 0.01879766986213304), (3706, 0.01878713102673719), (2467, 0.018767236274103205), (1102, 0.018764092138360253), (1043, 0.018758897562244563), (2717, 0.018758743371916436), (2964, 0.01875523003231222), (4085, 0.01874432901726314), (4266, 0.018743744813306637), (3707, 0.01874274792609976), (774, 0.01873162816348044), (2622, 0.018696553739159794), (984, 0.01868636150043162), (2715, 0.018674172988885886), (189, 0.01867153023873879), (767, 0.018661238785254344), (2265, 0.01865440988185363), (3904, 0.018643845629479752), (2108, 0.018624804043457253), (975, 0.018611981590678024), (2133, 0.018605537304225043), (1169, 0.018604961385964285), (2144, 0.01859976026195104), (1951, 0.018594770985090932), (3950, 0.018579945464019545), (3557, 0.01857495832898934), (4401, 0.018573837948969645), (3866, 0.018569728812948032), (495, 0.01856647586480999), (1890, 0.0185568678891479), (4025, 0.01855108740874587), (2634, 0.018547973323791416), (782, 0.018516293101011983), (4471, 0.018510603142408075), (2378, 0.018506104678953632), (903, 0.018483432707766503), (314, 0.0184815197591377), (3776, 0.01846459885118078), (614, 0.018460223645074197), (1204, 0.018458893580909515), (221, 0.0184579055087026), (4111, 0.018446259917397997), (4321, 0.018438001973354403), (1947, 0.018437299652792588), (1284, 0.01842652259496784), (522, 0.018416186718762134), (1187, 0.018412797027882948), (731, 0.018407895208306886), (132, 0.01840766341426575), (3216, 0.01839958544314554), (2830, 0.01839722347584155), (2116, 0.018391219594520707), (1580, 0.018389074734532083), (1571, 0.018382347388286868), (2047, 0.018379848092501896), (3135, 0.01837340087143627), (4334, 0.018371988526201397), (3560, 0.018366829729948103), (2319, 0.01836311965878955), (3355, 0.018351602753093405), (3326, 0.01835138234108981), (885, 0.018347421432535167), (4081, 0.018345812149358393), (1753, 0.018344352028994926), (661, 0.018330983970785523), (478, 0.018328504056549424), (4605, 0.018314240848327615), (3182, 0.01831012223352837), (3221, 0.018302786727063133), (3298, 0.018302130461106337), (2593, 0.01829461881183935), (431, 0.018292961512801742), (3551, 0.018292601662158934), (3596, 0.018288580673960657), (2422, 0.018284418804302767), (3893, 0.018275603526588215), (1096, 0.018272478652293093), (638, 0.01827059120162282), (3056, 0.01824844891420108), (4132, 0.018245257815179435), (1547, 0.01823987731704556), (4273, 0.018236164502279568), (1995, 0.018232252111740635), (2552, 0.01822064817735953), (1251, 0.018217539223338488), (1625, 0.018215348207250518), (4686, 0.018201307771810664), (3740, 0.018200129388930508), (388, 0.01817407744804648), (2099, 0.018173071138564693), (788, 0.018168227794352423), (4066, 0.018159421083645287), (4147, 0.018158406777178393), (3329, 0.018152754124910086), (90, 0.01814873513282005), (1309, 0.018146625011200117), (3160, 0.018143197069770908), (1243, 0.01814178663352599), (3225, 0.018129324171406475), (2571, 0.018119112502943062), (3503, 0.018108973139386347), (2792, 0.01808967017404061), (3336, 0.01808685359829509), (2356, 0.018078972580305316), (2397, 0.018065169732465126), (3826, 0.018060774475617554), (3873, 0.01804370319743934), (2980, 0.018043227839014377), (3369, 0.018042231162700144), (1124, 0.018041413030073068), (4349, 0.018041366886634602), (715, 0.018036592029927134), (3271, 0.018034158529246246), (4574, 0.01803402586355917), (1768, 0.01802735161837821), (1617, 0.018026544088236472), (3619, 0.018023566724189807), (737, 0.01802127250427431), (2325, 0.01801904411061646), (355, 0.01801835583310891), (3187, 0.018013408586482572), (739, 0.01801194516805409), (3500, 0.018009170450253215), (3373, 0.01800269552047744), (3388, 0.018000968661973697), (2142, 0.01799693206236027), (2166, 0.0179760915090379), (962, 0.017975907762498775), (4580, 0.017974847668466895), (3064, 0.017966084947308707), (3399, 0.01796393814487818), (2911, 0.017955515431526486), (4295, 0.017947118482835363), (1660, 0.0179371882201309), (4371, 0.0179350997132542), (2370, 0.017932679653007245), (3720, 0.017908405512430968), (2860, 0.01790330403301325), (3413, 0.017900672010478878), (2941, 0.01789711328076685), (1409, 0.017896650992265496), (3890, 0.017895371104944602), (489, 0.017894267224991232), (475, 0.01788112209070515), (262, 0.01787996431798405), (444, 0.017876791871883027), (4633, 0.017873531518110334), (1036, 0.01787269853988819), (4489, 0.017872693780163287), (826, 0.017855151491974426), (247, 0.01785446080400925), (3447, 0.01785229698954774), (2290, 0.017848054020113746), (3689, 0.017847778249076587), (4687, 0.017847667886657367), (1121, 0.01784740414005449), (2926, 0.01784623216729437), (3852, 0.0178417143495962), (1696, 0.017841488334227554), (466, 0.017836787919897158), (4397, 0.017820263294090585), (969, 0.017819321258654538), (3417, 0.017791286608952853), (3587, 0.017790992975343402), (4140, 0.017789044931911382), (510, 0.017769313592106952), (2972, 0.017766489847892836), (1219, 0.017764882498458673), (3821, 0.01776166117346059), (2034, 0.017756690932426218), (1758, 0.0177505982414252), (2876, 0.01774894517297753), (1153, 0.017741892941301254), (4175, 0.01773383462465775), (2463, 0.017732109120034593), (4516, 0.01772942687512538), (2779, 0.017727882834593686), (3111, 0.017709135228513077), (1543, 0.01770046365356344), (949, 0.017689173969752787), (358, 0.017686798456245885), (2405, 0.017680452775092354), (518, 0.017680102056699457), (1404, 0.017679383710772104), (4472, 0.017678093969281182), (4011, 0.017674518298136793), (1885, 0.017671346895452068), (1851, 0.0176593810738667), (2354, 0.017650997694733973), (4138, 0.01764749937524607), (193, 0.017632943066412173), (4330, 0.0176255071610743), (3337, 0.017624872053126312), (3749, 0.017621896470534883), (484, 0.01761958523798489), (2049, 0.017613599782912232), (2393, 0.01759788860631643), (2387, 0.017594575281233548), (2292, 0.01758562896429809), (3016, 0.01757689330362934), (2528, 0.017572318805807507), (1112, 0.017564546558292315), (3917, 0.017561406412865105), (3599, 0.017560608739845513), (541, 0.01755847863652041), (4409, 0.017552751613559292), (2629, 0.01755080292221889), (283, 0.017549310013184122), (1710, 0.017545455538363366), (2894, 0.01754368065974282), (3927, 0.01753769118149809), (4463, 0.01753604213431707), (2679, 0.017527386904900848), (1052, 0.017526104026066587), (4197, 0.017515120013341965), (1075, 0.017511248134682016), (4427, 0.017504687621666924), (78, 0.01750001659624748), (3389, 0.017496301621071696), (4354, 0.01749398226265369), (2909, 0.01748811025943429), (2995, 0.017487557364787056), (4135, 0.01748379835124191), (1247, 0.017482412469335983), (3352, 0.017477144055179673), (4200, 0.017464456020698512), (2702, 0.01746265887771997), (4645, 0.017433959110004768), (3237, 0.01743026215885276), (2965, 0.017429708681114583), (4391, 0.017422641246196684), (1682, 0.017418021126943864), (3988, 0.01741644426418826), (987, 0.01741633454824863), (3260, 0.017415858592967095), (62, 0.01740887035130832), (3211, 0.017391396294546613), (639, 0.017388203572176218), (4363, 0.017378514630948548), (1860, 0.017376739708363592), (4183, 0.017373243344514934), (2151, 0.017369232787504862), (3410, 0.017364339526921575), (3496, 0.01736059447130849), (4355, 0.017360021829874898), (4356, 0.01735884876317209), (2650, 0.017358492222256154), (922, 0.01735748986021609), (4139, 0.017353832281848638), (480, 0.01735161253005934), (1878, 0.017339256704101764), (3540, 0.01733722180715575), (1780, 0.017336635094069717), (4075, 0.017333548511161524), (1553, 0.017325891771756356), (2698, 0.017325662549185147), (1827, 0.017317107318571726), (3172, 0.017315574429869605), (2976, 0.017314459181161253), (1048, 0.017308432461932127), (2013, 0.01730396207114049), (1733, 0.017303261637557497), (2572, 0.017294325492809893), (970, 0.017274237574693093), (202, 0.01727380970056178), (698, 0.017266669317177914), (2159, 0.01726359538937659), (1807, 0.017254131912894932), (3001, 0.017250145836677663), (817, 0.017243383040603015), (4535, 0.01722964435594401), (3558, 0.01720939166994563), (4296, 0.017206695090178643), (740, 0.017197493728957104), (2841, 0.01717445429667117), (3091, 0.01717437225532412), (2195, 0.017170522274778117), (3315, 0.017160062110258025), (2723, 0.017158925459489025), (2526, 0.01715664284333084), (3093, 0.017153863143937766), (402, 0.017153623041335463), (3335, 0.01714929631232721), (2954, 0.01714470722666509), (3199, 0.01714007715536109), (3148, 0.017130689656684538), (4049, 0.017128225628833836), (3643, 0.01712172856457079), (4487, 0.017101142630702254), (3409, 0.017088531141455112), (2844, 0.017085673361045835), (178, 0.017085629641355474), (4127, 0.017080765611114476), (3415, 0.017079369027429764), (4136, 0.017078488648520674), (4599, 0.01707482642462488), (2878, 0.01707343821279309), (2073, 0.01707265684308314), (4602, 0.017072369795752423), (4657, 0.017067184719398002), (204, 0.017063019248542498), (3075, 0.017056316243153163), (1907, 0.01705623697613546), (1893, 0.017055603364386992), (1378, 0.017050037647042837), (1699, 0.017029118016317967), (4320, 0.017029116061953602), (1764, 0.017028541226968077), (449, 0.017019644604538118), (823, 0.017015069447578784), (127, 0.017014435989071455), (2399, 0.01700076123545053), (4059, 0.016993252484446893), (4501, 0.016991421960121458), (4399, 0.016978066168182752), (2565, 0.016977504655514106), (848, 0.016959567453194557), (1828, 0.016959186578638902), (228, 0.016948149011983934), (3986, 0.016946025039544614), (3868, 0.01693530234703543), (2936, 0.01693018652059702), (167, 0.016929549722772917), (3014, 0.01692261446932947), (1497, 0.016919082858949032), (693, 0.016907485785284136), (2942, 0.016902817737079637), (1318, 0.016902427584798995), (318, 0.01689622765376291), (2758, 0.016894048182776393), (1175, 0.016890511891994614), (2943, 0.016887234687245487), (3765, 0.016884971495630913), (3372, 0.016875076685243493), (1597, 0.016873960494233634), (1032, 0.016860768520926033), (3174, 0.01684522645600323), (4394, 0.016834325155041595), (3673, 0.016831884745035053), (3243, 0.01683094604097421), (192, 0.016816026837274345), (4137, 0.01680934257353533), (1402, 0.01680151172951524), (3328, 0.016793106102852534), (175, 0.016791984754301003), (2361, 0.01679001887886416), (448, 0.01678721528139096), (4078, 0.01678551983706459), (626, 0.016783142300183518), (1476, 0.01678300883048818), (898, 0.016782082376500477), (3247, 0.016776612275448584), (883, 0.01676972820194881), (407, 0.016764552944590196), (850, 0.01676261652167098), (4483, 0.016761969592749934), (2664, 0.016758136285971975), (29, 0.01675770285519958), (2105, 0.016754360889481748), (897, 0.016749530928762878), (1634, 0.016747559014476377), (351, 0.016740383091461728), (2595, 0.01673519275360874), (4166, 0.016734533951085012), (2753, 0.01673306250219856), (212, 0.016730177859329714), (3313, 0.016724201816500698), (169, 0.016718447377051363), (2242, 0.016702245003373015), (4056, 0.016695246979501137), (3665, 0.016688536824120224), (1170, 0.016685711459081553), (2403, 0.016685435920453146), (2357, 0.016679629303033218), (430, 0.016678889988391614), (2117, 0.016666343541404744), (2163, 0.016657794847764182), (15, 0.01665692722586625), (3976, 0.016654245324706936), (4651, 0.016654245324706936), (330, 0.016652281501135943), (2612, 0.016650126911672128), (12, 0.016649546523981866), (3186, 0.016648365279606232), (4080, 0.016644913058633404), (4635, 0.01663745688632548), (2721, 0.01663695120956978), (3779, 0.016629538713270088), (4507, 0.016615745937618536), (1439, 0.01661570980105071), (3170, 0.016611225420136343), (1862, 0.01661036980483444), (4634, 0.016610012857322318), (597, 0.016605376908401682), (3915, 0.016601356563798783), (1872, 0.016597171110501983), (921, 0.016593895761479547), (2048, 0.01659375171334631), (2148, 0.016584044984073495), (1616, 0.016572124869422753), (2068, 0.016569827408863456), (235, 0.01656746775958543), (395, 0.016560145110950223), (1722, 0.016559101249813857), (2102, 0.016557241500808503), (616, 0.016556807458968488), (1446, 0.01655538265664187), (3839, 0.016552531207549986), (1382, 0.016552082791082327), (504, 0.016543777618917906), (2430, 0.016540749123825173), (2987, 0.01653468162423901), (1364, 0.016527211756637458), (1688, 0.016516949604790842), (1349, 0.016515465181697386), (1122, 0.016514029669546564), (2359, 0.01650849755886486), (4616, 0.016506708136583573), (1719, 0.01650098572000418), (2446, 0.01649998243605206), (267, 0.016498047136818936), (164, 0.01649485706544601), (2386, 0.016492514267400463), (20, 0.016491286241176597), (279, 0.016485931730672206), (63, 0.016485774700939218), (445, 0.016475053363486165), (2419, 0.016468157388325754), (159, 0.016458107046765525), (218, 0.016450208418844554), (1080, 0.016448178228121745), (887, 0.01644497704173618), (3792, 0.016430209088374656), (374, 0.016421594677221787), (289, 0.0164143708976819), (2131, 0.016407049200958403), (2473, 0.016402918852036312), (2863, 0.016393023982112957), (901, 0.016392974391852475), (1350, 0.01639107621793385), (1301, 0.016390953704819067), (2564, 0.016390143452668343), (104, 0.01637990924752205), (1306, 0.016373791614114303), (551, 0.016372956116185063), (3767, 0.016365856735845313), (759, 0.016364689836190882), (3728, 0.01636398509561733), (1656, 0.016363684823699667), (2132, 0.016362275242802732), (1516, 0.016351191553195418), (3347, 0.016350921900859548), (4036, 0.016350430592727096), (2063, 0.01634948348556524), (253, 0.016349320278376694), (2141, 0.01634833628581972), (1324, 0.016345764457660828), (2000, 0.01634231431366799), (2887, 0.01634020278287905), (1033, 0.01634008584298322), (3855, 0.016327590149255125), (3966, 0.016326641761729016), (3290, 0.016324509392501855), (3800, 0.016324239443409654), (4408, 0.016324239443409654), (4382, 0.01631751686482061), (3919, 0.016315987949701308), (651, 0.016315223097198246), (973, 0.01631403389538737), (2367, 0.01631149500262762), (1026, 0.016308505556937938), (993, 0.01630761019039523), (183, 0.016304591274989292), (1658, 0.01630100908153385), (3569, 0.016297721645095763), (749, 0.016292992314954624), (659, 0.01629062207453618), (3246, 0.01628840245464991), (1765, 0.01628265760788066), (2396, 0.016280111734272996), (2301, 0.016278393978500515), (3226, 0.01627433609044201), (1098, 0.016261037405973695), (4563, 0.016260881039816037), (2169, 0.016251363386753575), (4130, 0.016247554783472014), (378, 0.01624230398010001), (1565, 0.016239347267772708), (3094, 0.016233193763183194), (4536, 0.01623309564162957), (3046, 0.016224575928641398), (3542, 0.01622273267567204), (1871, 0.016220581239804344), (4550, 0.01620875814101521), (3811, 0.016206244355777884), (2011, 0.01620277054053783), (3784, 0.016202738605564697), (3173, 0.01619606614272061), (3656, 0.016183350474294523), (4144, 0.016170219528282598), (3791, 0.01616081188125739), (1365, 0.01615580342389291), (3882, 0.016154066515990315), (24, 0.016141351216367863), (872, 0.016133362251894344), (3593, 0.016129229110950796), (26, 0.016128019147521315), (672, 0.016126399398081907), (998, 0.016108418512329584), (607, 0.016102818427648047), (787, 0.016102781210739697), (4649, 0.01609255357243692), (324, 0.01609039978663309), (1434, 0.016089254026696812), (3268, 0.016088177109630033), (3845, 0.016079041837111372), (1691, 0.01607787429342998), (2549, 0.016075926647387127), (3541, 0.016074382507836747), (2223, 0.016073907308835227), (2893, 0.016073728919928254), (2004, 0.01607352487361361), (2134, 0.01606890458404636), (2801, 0.01605800307116283), (838, 0.016050591090075842), (1748, 0.0160441526579088), (2798, 0.016042402944722475), (4247, 0.016032771830343708), (1909, 0.016032534503463237), (2933, 0.016030083089914913), (140, 0.01602678553160103), (4301, 0.01602539678474749), (3024, 0.016019559439211434), (4636, 0.01598911324774527), (3517, 0.015988649157826034), (4182, 0.015981935810480574), (4074, 0.01597885144816345), (197, 0.01597231388734215), (3564, 0.015968009399492104), (1798, 0.01596687820149943), (4149, 0.015964392208243017), (627, 0.015958522090820777), (1792, 0.015954259830579767), (2573, 0.015949187269372736), (3745, 0.015937337935349724), (1027, 0.015935514327498762), (242, 0.01592647210836982), (1475, 0.015919408044395855), (3600, 0.015911893639908997), (766, 0.015911441521232056), (1843, 0.015908107387119872), (471, 0.015907168574711392), (446, 0.015907028348729507), (2051, 0.015903803733619645), (2509, 0.01589897076205396), (1163, 0.015893532327462854), (8, 0.015889147563465704), (3050, 0.015884532745607503), (631, 0.015881755639232078), (3376, 0.01586526410086222), (4, 0.015863214112339246), (419, 0.015862187595481112), (1084, 0.015861582388902937), (999, 0.015850479816766204), (115, 0.015846863506387858), (1474, 0.01584431936666384), (2390, 0.0158385810905218), (3147, 0.01583368749375259), (215, 0.01582997906975157), (1395, 0.015829574251346158), (2209, 0.01582951334653562), (1685, 0.01582297369147171), (2261, 0.015816088550237396), (717, 0.015815644485228514), (476, 0.01581374488200239), (3402, 0.01580565689939924), (1423, 0.015793402317236808), (3445, 0.01576627153858972), (41, 0.0157645873539414), (1370, 0.015762835518236724), (453, 0.015755059940712877), (2039, 0.015754180903104747), (1875, 0.015751862519827124), (1392, 0.015749459551866705), (2474, 0.01574926780514366), (1087, 0.015742481265183423), (2521, 0.01574070985475689), (3071, 0.01572480686889064), (1598, 0.015722605081262248), (871, 0.015720187769239256), (2609, 0.015719215342526585), (1706, 0.015715564292777755), (934, 0.01569665945694788), (2862, 0.01569423778366377), (1411, 0.015683465076419757), (2603, 0.015670209346590663), (3538, 0.01566825346585648), (161, 0.015652936295552068), (1500, 0.015652416762674794), (165, 0.015647570751586418), (645, 0.015641910429848787), (3751, 0.015625409673240928), (4015, 0.015624030178064916), (1294, 0.015622971937513939), (3, 0.015615561548223206), (156, 0.01560727712850465), (3478, 0.015599514743150503), (3419, 0.015597016878401546), (1367, 0.015595299811336897), (428, 0.015592697219406383), (2973, 0.015577491631302322), (657, 0.01556784040543724), (103, 0.01556377531619176), (3026, 0.015543198657421722), (1117, 0.015535291856383162), (2481, 0.015531518450619826), (711, 0.015531078046921663), (527, 0.015526750825157266), (195, 0.015525167387224453), (2776, 0.015519149144500352), (3278, 0.015515630820529827), (609, 0.015515519547598862), (3285, 0.015515308711423368), (3572, 0.015507359485538913), (596, 0.015507187443097089), (23, 0.015492637844080111), (66, 0.015491846894242847), (1663, 0.015487038600735224), (4420, 0.015473016134059108), (2282, 0.015470872374142654), (4215, 0.015468416723632673), (1896, 0.015459553021022698), (1161, 0.015454818660381375), (1977, 0.015450021278910915), (1206, 0.015442787660588285), (1550, 0.015428272156054829), (2260, 0.015419169812445274), (3492, 0.01540864070258088), (79, 0.015407193398206315), (646, 0.015404910126809198), (3911, 0.015396665944238486), (309, 0.015394265575857775), (576, 0.015390874978642406), (4226, 0.015390114339628658), (1570, 0.015387708174922372), (588, 0.015383371465048186), (2710, 0.015382711571390845), (2610, 0.015380280785601531), (3944, 0.015364262296204714), (2035, 0.015352466608690375), (796, 0.01534602877026396), (1415, 0.015342271283114018), (348, 0.01533786336899833), (292, 0.015337734434559044), (4083, 0.015333083709248452), (1261, 0.015331094271208896), (3431, 0.015329548593884211), (114, 0.01532759924764486), (3025, 0.015325127253957332), (176, 0.015324744523554529), (4603, 0.015315154415209718), (1463, 0.015315112198097723), (4104, 0.015315111222326528), (3393, 0.01531413714588332), (4152, 0.015296353291785855), (353, 0.015294968653852091), (1131, 0.015292907387746567), (3491, 0.015291679848552757), (2800, 0.015285839728642416), (1209, 0.015282108513577284), (2027, 0.015278715134378295), (3614, 0.015273834585287385), (1528, 0.015264231479813817), (7, 0.01525895093964112), (1648, 0.015255009530377972), (1216, 0.015244110836561062), (2902, 0.015243151694527843), (1072, 0.015239591240081955), (32, 0.015231437866082522), (4220, 0.015214436457700454), (867, 0.015201137282501756), (1869, 0.01519993115630749), (472, 0.015195165371078661), (4520, 0.015190541323715934), (1144, 0.015187123652529479), (4179, 0.015179791425774948), (372, 0.015179557368225557), (907, 0.01516715664403213), (4741, 0.015165388398765235), (705, 0.015156999584924431), (1006, 0.015151441324285456), (2466, 0.015147403253350126), (1808, 0.015145360539825299), (1539, 0.015142111877942), (3536, 0.01513670734520261), (2129, 0.01513642424843014), (1877, 0.01513327876854019), (3392, 0.015131481333472455), (2532, 0.015123678385118815), (373, 0.015118193410399772), (1477, 0.015115154709889748), (2912, 0.01511253851467699), (3781, 0.015108630705422626), (158, 0.015102245108910523), (184, 0.015089957737761672), (2766, 0.015087660355105332), (3900, 0.01508306923512333), (3646, 0.015079715464298465), (2109, 0.01506219671476382), (3733, 0.015055853284644802), (578, 0.015054786628970366), (1403, 0.015049127849125243), (3755, 0.0150385936923699), (268, 0.015038085734233287), (307, 0.015035442706201059), (2309, 0.015018691408988257), (3829, 0.01501082908642965), (4271, 0.015006127021750153), (154, 0.015001386546444357), (1822, 0.014977149339057257), (182, 0.014976245642503569), (858, 0.01497468647302912), (286, 0.014972430066605973), (4150, 0.014967883166081265), (1762, 0.01496629436737946), (2745, 0.014962070936933301), (3346, 0.014961530413639842), (1628, 0.014949352648926488), (1176, 0.014949199204558174), (174, 0.014935024777031236), (2323, 0.014931531164049262), (865, 0.01492722455597781), (4445, 0.014924421509282255), (1312, 0.014922163588750256), (524, 0.0149122053942242), (2103, 0.014908849356947768), (343, 0.014904695224186765), (3627, 0.014892652268380548), (1826, 0.01488901334008234), (4156, 0.01488725510099561), (1408, 0.014884103998699796), (441, 0.014876215684130847), (3238, 0.014847663269191338), (1763, 0.014834236137782354), (2999, 0.01483009574684006), (92, 0.01482687654283818), (3831, 0.014825505236581573), (1319, 0.014824899301955016), (805, 0.01482104570977847), (794, 0.014817199836492469), (4422, 0.014794324641429301), (71, 0.01479242234550952), (2507, 0.014775196345959193), (3742, 0.014771035622404421), (400, 0.014761379999166926), (4357, 0.014760823328575064), (4245, 0.014757228062790449), (890, 0.01475612732174044), (798, 0.014738039809325065), (1891, 0.014735932240390439), (129, 0.014732539132369426), (4476, 0.014726749758417446), (2812, 0.0147254727047774), (2176, 0.014720387073005641), (269, 0.014718826691220922), (3547, 0.014718192704177778), (1936, 0.014713542426802636), (2201, 0.014697300033821557), (1203, 0.014693432762587059), (1690, 0.014688071970405739), (1040, 0.014677839637321102), (1954, 0.01467144943370888), (349, 0.014658099559787443), (1759, 0.014654331260644452), (2525, 0.01465002685173253), (473, 0.014642401633173579), (611, 0.01463356617965067), (2457, 0.014627410805112488), (293, 0.014626068988876924), (4052, 0.014608482522069833), (227, 0.014606205415217908), (2888, 0.014605139373915835), (899, 0.014596217774374799), (3327, 0.014594834723028333), (3987, 0.014584310467587168), (1464, 0.01457122776845609), (196, 0.014551114220335353), (3880, 0.014549896526069542), (3028, 0.014541607444922177), (4198, 0.014537135563427731), (377, 0.014533020805003532), (3641, 0.01452771351487893), (734, 0.014525639437234318), (3493, 0.014524284146736084), (3084, 0.014521257984022661), (929, 0.014516538951633035), (2218, 0.01451651235712074), (2268, 0.014514571125290329), (1950, 0.014503658187846616), (346, 0.01450003569441484), (2456, 0.014499944026885453), (3311, 0.014481490780274497), (2441, 0.014481288508054468), (3548, 0.014477789590450874), (1021, 0.014463540786524438), (4641, 0.014463489543670258), (465, 0.014456482173194467), (2313, 0.014454262532827476), (620, 0.014453379996862335), (4336, 0.014451793734043716), (4155, 0.014448614417601922), (4345, 0.014438368849207307), (308, 0.014437271366090245), (3150, 0.014436147546095823), (3200, 0.014427324516991871), (2083, 0.014422802328464431), (1352, 0.014411966794085577), (1245, 0.014406714432169747), (1186, 0.01440555392411957), (3809, 0.014402673369147174), (1672, 0.01440113618308114), (2915, 0.014399698244792246), (4350, 0.014388177599664115), (211, 0.014385067386395313), (3430, 0.014378680330316185), (1313, 0.014376729326723904), (2277, 0.014373806353393349), (3752, 0.01436673637736941), (1670, 0.014365470393766806), (4174, 0.014362687227245406), (3224, 0.014350533999047555), (4626, 0.014341909313792223), (3272, 0.01433702437757851), (2728, 0.014336767132300926), (1304, 0.014325510000008477), (2653, 0.014322685658488172), (884, 0.014321876223130817), (1004, 0.01432068444497988), (153, 0.014318301516779715), (4549, 0.014311055128084222), (1002, 0.014310716475175206), (3875, 0.014309401107707648), (1298, 0.014307957321355346), (4257, 0.014299489853581173), (364, 0.014298795224843681), (1814, 0.014286313970396399), (2338, 0.014286158254755293), (2553, 0.014285252056000404), (3617, 0.014280247950061015), (641, 0.0142781540533999), (1305, 0.014269005065217055), (3194, 0.014257662457607217), (1114, 0.014251961126003545), (2931, 0.014249274228215755), (843, 0.0142463986973984), (412, 0.014230883481566738), (856, 0.014212858383813875), (4622, 0.014205328734702531), (1743, 0.014203446301175152), (437, 0.014192924613923755), (2192, 0.014190893525495313), (4511, 0.01419056955872703), (1060, 0.014189964041106149), (564, 0.014178489525645682), (886, 0.014162094135711293), (1641, 0.014156874031066788), (61, 0.014156059424175216), (3029, 0.014145900432885728), (357, 0.01414572143541579), (3167, 0.014140785014671668), (2568, 0.014123669029746393), (1372, 0.014110073136427707), (3103, 0.014106673402723102), (680, 0.014080073173564687), (4479, 0.014072937343679403), (2534, 0.014067338375437756), (3902, 0.014056291154582453), (3113, 0.014053565685235274), (3758, 0.014052050977007673), (4620, 0.01404394090451749), (1642, 0.01403774204285176), (2311, 0.014037554057880984), (2719, 0.013994939623349866), (4069, 0.013994911335729733), (2248, 0.013992365163719513), (3983, 0.013985828415689027), (4270, 0.013971702557514037), (2146, 0.013971045386677237), (1397, 0.013969615159074862), (1308, 0.013968748766574644), (917, 0.013960030749063702), (3936, 0.013958113151626938), (924, 0.013954833400735004), (4428, 0.013950278998092354), (2461, 0.013944227632685604), (1394, 0.013919974634794014), (462, 0.013912161003826995), (697, 0.01390840196110821), (2826, 0.013901866473476382), (1708, 0.013898787545388583), (252, 0.013890417144658317), (4452, 0.013886489642361015), (815, 0.013869915083162623), (1355, 0.013845912213212241), (4142, 0.013838885221546773), (1164, 0.013823060861208875), (229, 0.013821319389945862), (1921, 0.01380941758261518), (1943, 0.013808157353463118), (4129, 0.013792222421797826), (647, 0.013780999403526277), (944, 0.013770367798639313), (1744, 0.013770185465640308), (25, 0.013769335936268667), (1574, 0.013751272318971108), (2382, 0.013719824857041818), (2538, 0.013708012000922306), (3585, 0.01369934066942774), (3421, 0.013691403183197922), (2087, 0.013690988691086894), (1465, 0.013675484399936218), (2982, 0.013667108769412541), (1703, 0.013663593852364823), (2735, 0.01364703572403875), (1612, 0.01362774924872448), (3300, 0.013625360602325047), (707, 0.013621349804614442), (691, 0.013619135971633743), (410, 0.013618251208735587), (3152, 0.013615531286536628), (488, 0.013588057990220304), (4205, 0.01358247040898751), (1730, 0.013577334415996026), (403, 0.013572682740421466), (1742, 0.013565816125419027), (317, 0.01355225529545872), (11, 0.013550020081642033), (1182, 0.013549430313697822), (593, 0.013547015318949978), (1199, 0.013544649875843879), (1422, 0.013540822473107955), (895, 0.013495347426463553), (2185, 0.013490563128986461), (60, 0.013484752899552446), (940, 0.013472258635178036), (1830, 0.013462940861431034), (452, 0.013461455244781113), (1020, 0.013444388014107557), (4504, 0.013438515314947325), (1558, 0.013404825301623138), (97, 0.013401027328919872), (3657, 0.013394046626359467), (2067, 0.013393177689878747), (1920, 0.013390055869915755), (3304, 0.013384278520604372), (2773, 0.013381205855416991), (3606, 0.013375220088328602), (1273, 0.013359486224849875), (1340, 0.013351345522232234), (325, 0.013337479855195771), (2143, 0.013336698918964853), (1037, 0.013330737610259187), (3379, 0.013326391730123868), (818, 0.013323883107274023), (496, 0.013319536087113334), (3764, 0.013308111854360281), (3817, 0.013304009583315885), (359, 0.013300590272281504), (722, 0.013296370090723986), (100, 0.013289802243049202), (703, 0.013274926081821244), (4429, 0.013273353689117827), (4640, 0.013213682319934694), (1645, 0.013200645160869186), (1241, 0.013187455288596987), (3610, 0.013176565182592737), (1831, 0.013169490288666546), (3529, 0.013156240359128005), (1693, 0.013136525766130329), (854, 0.01313344402991002), (751, 0.013114353951636187), (2300, 0.013107525911087964), (1605, 0.013094871523378031), (4506, 0.013092314502183499), (2504, 0.01306276454424852), (2426, 0.013060075105326207), (3795, 0.01304272133127896), (3691, 0.013028258722701823), (1034, 0.013002671346487728), (951, 0.012988035736830205), (755, 0.012982757796276227), (852, 0.012977671761997952), (1969, 0.012976816722410911), (416, 0.012958869106750825), (507, 0.012953102364298839), (2513, 0.012948504739606445), (1677, 0.012923508315337527), (2817, 0.012912872533218774), (3381, 0.01290215179021295), (982, 0.012899630815871713), (1882, 0.012881306410554797), (3667, 0.012878267844587), (113, 0.012874249334119556), (2305, 0.012865029764748674), (119, 0.012834011440896369), (3843, 0.01282859356433436), (1077, 0.012824245430977635), (2587, 0.01281243494536504), (1217, 0.012807197188143632), (2287, 0.012807122646687766), (736, 0.012763406880344053), (3092, 0.01274612866366252), (1624, 0.012743627938962204), (3575, 0.012736935710479638), (3953, 0.012684101551554349), (3928, 0.012645530312126747), (2270, 0.012644026383507544), (4748, 0.012634302148877544), (594, 0.012633017436386394), (2956, 0.012622757608274228), (1258, 0.012591310529774856), (1514, 0.01258948223954805), (2482, 0.012568224659520311), (1136, 0.012559913796250825), (3441, 0.0125366812969194), (1042, 0.01251785267617269), (2285, 0.01251382534404679), (4341, 0.012498081256994543), (681, 0.012485802568426331), (4057, 0.012481334170566887), (2672, 0.012467966617645904), (4143, 0.012466394342438472), (1886, 0.012458035581794955), (598, 0.012434941779373283), (1801, 0.012433966012071754), (3365, 0.012422045052937446), (4411, 0.012401320804459881), (1790, 0.01239375761282956), (3455, 0.012391667784650149), (2852, 0.012388102063185226), (4434, 0.012384880695923705), (3634, 0.012374331813731463), (82, 0.012370013705937741), (4485, 0.012363017801868485), (2032, 0.012349317182418582), (1079, 0.012348963599505323), (136, 0.012338574629845854), (955, 0.012330747390890951), (4061, 0.012326696467171105), (4742, 0.012318342198956058), (2661, 0.012288368812518696), (2322, 0.012271641809576463), (2247, 0.012229976343497494), (3362, 0.012224878632158424), (2347, 0.012224623835635356), (2271, 0.012205164281153563), (1560, 0.01219842745112643), (4530, 0.012176793145160644), (4196, 0.012172449860487315), (708, 0.012143737015793507), (3725, 0.012143388715263843), (4370, 0.01214149863574027), (4496, 0.012134023576567416), (2829, 0.01212821776623194), (4608, 0.012121523380091287), (2518, 0.012120572610447144), (3863, 0.01211428389303865), (4058, 0.012104060033150343), (4538, 0.012093369254608174), (3835, 0.012081489064532224), (630, 0.012079864708033648), (2339, 0.012065300426818698), (2127, 0.01203177948502655), (3096, 0.012024288694528082), (2381, 0.01201567783167429), (2761, 0.011994802365742616), (4700, 0.011974169598728138), (2781, 0.011972835109469795), (754, 0.011964036179306697), (2365, 0.01191868622418768), (1548, 0.011903072946339285), (1538, 0.011897126733992035), (1178, 0.01187269808719284), (824, 0.011871135265033233), (4364, 0.011862873333634123), (3683, 0.011860957305849388), (2332, 0.011844293041048358), (966, 0.011842002234710061), (2967, 0.011824943612795739), (3162, 0.01180694076166784), (3090, 0.01180086654700673), (2676, 0.011781583622911478), (4352, 0.011774214187937527), (706, 0.011741146917490898), (2743, 0.011689583172599712), (3820, 0.01167530222473375), (505, 0.011666927289625765), (2211, 0.01165499857826679), (4737, 0.011651535993369832), (4526, 0.011642220496159442), (1747, 0.011634952517914013), (3236, 0.011612552476936426), (1267, 0.011583265486327106), (1601, 0.011573519366701271), (4508, 0.011564999970577257), (3053, 0.011559684795763645), (2663, 0.011557109892391526), (4454, 0.011546179802876831), (3954, 0.011528093967318983), (3041, 0.011525458670456202), (1125, 0.011521271338688783), (3996, 0.011520861695548194), (2983, 0.011501305616414482), (2180, 0.011493140908904879), (2767, 0.011458587672140976), (194, 0.011437860453929766), (2207, 0.01143128526871202), (712, 0.011407694652952938), (4491, 0.011398409906291884), (4473, 0.011368700365695126), (837, 0.011368280532322122), (2182, 0.011367865606540344), (2794, 0.011315551215889424), (2547, 0.011292898975296577), (1345, 0.011292173188783852), (2219, 0.0112520095933511), (2010, 0.011244244412387281), (3671, 0.011214795408669554), (4560, 0.011192666123403028), (2420, 0.011182058048452796), (2267, 0.011164429204733678), (3856, 0.011153993132816129), (3894, 0.01114458440563796), (2709, 0.011137759435437575), (4125, 0.011117882703638542), (2763, 0.011104890743823741), (1466, 0.011104138441954885), (2376, 0.011091021588984859), (2511, 0.011089855187841106), (2203, 0.011063828100874529), (4410, 0.01105871759737084), (946, 0.011058532247230423), (914, 0.011052854544573783), (4010, 0.011044753753817051), (3895, 0.011043075423009403), (1833, 0.011040691332766969), (3427, 0.01103342457725321), (2582, 0.011010734494699337), (4258, 0.010944830090771691), (4525, 0.010941911965072567), (679, 0.010892924390409956), (3343, 0.010890247838802528), (2837, 0.010880725067041606), (841, 0.010840121081997884), (205, 0.010796399719406886), (2734, 0.01077713443918459), (1615, 0.010767785875699631), (1980, 0.010766798505108125), (1613, 0.010764670704597606), (4592, 0.010760232299009525), (3912, 0.01075247148521347), (1520, 0.010750630203338397), (2222, 0.010747204284563092), (3489, 0.010737066933653009), (4714, 0.010734284516179953), (2054, 0.01073109250488199), (3505, 0.010716761852534808), (4539, 0.01070116844173373), (1277, 0.01067062021450765), (2198, 0.010669222025626977), (3955, 0.010667008775943787), (3846, 0.010657865739725726), (3188, 0.01065586835534516), (4034, 0.010623857667683551), (1583, 0.010619436757958463), (4329, 0.01061718710135354), (2337, 0.010617161817633163), (3931, 0.010609710811293527), (3626, 0.010588027245797799), (2493, 0.010586070117744244), (561, 0.010584327993728507), (1271, 0.01057723650869763), (2968, 0.01057259846582257), (3294, 0.010554630932155012), (2864, 0.010531494015214152), (4492, 0.010526047851993013), (2451, 0.010514307722381547), (4108, 0.010513913567511277), (1486, 0.010510102667683506), (4006, 0.010510086238548997), (3760, 0.01050322281000279), (3629, 0.010498732826179155), (4256, 0.01049847189582644), (2240, 0.010491261123709695), (1321, 0.010491216511991652), (2814, 0.010461230360757095), (1700, 0.010456001826164529), (3969, 0.010445698127599542), (4655, 0.010435863163285297), (1295, 0.010426720323475362), (498, 0.010424530743967953), (2253, 0.01042157201538519), (3102, 0.010415791074861677), (3321, 0.010381929724624133), (960, 0.010374407614413954), (1534, 0.010363643369825358), (3473, 0.01034784733464747), (3375, 0.010334898299634767), (658, 0.010331208808660394), (4754, 0.010322634547888102), (1390, 0.010310608594756486), (2165, 0.010296728996893222), (1526, 0.010296369398500278), (3546, 0.01029515332153792), (3926, 0.010286290193595178), (2217, 0.010264760435558625), (4728, 0.010251307425067897), (1984, 0.010250997265583452), (781, 0.010245534522837801), (1427, 0.010245353585800483), (531, 0.01024420236245158), (3712, 0.01022971588614731), (4752, 0.010224108691451886), (3130, 0.01022150977497019), (4451, 0.010211978120547483), (3985, 0.010197893105764922), (3394, 0.010197573615215328), (391, 0.01019655150941501), (1669, 0.010195781908602588), (4347, 0.01017679729682206), (2335, 0.01016700905678512), (2101, 0.010160913377263542), (3851, 0.010152158863319955), (1057, 0.010145209789370838), (1898, 0.010139907709245954), (3082, 0.010128143451714079), (2249, 0.010120682710325162), (2839, 0.01009801501889342), (2079, 0.010091932085006446), (1609, 0.01008485068582539), (3963, 0.010084752545998294), (1785, 0.010078653495110682), (2258, 0.010069774310014903), (548, 0.010069150828114885), (2754, 0.010065570111704815), (2469, 0.010063234231095283), (516, 0.010046230719757781), (1322, 0.010030762464702322), (1459, 0.010030490968356447), (1379, 0.010023001481344409), (569, 0.01001893123885134), (4615, 0.00998326105289827), (2816, 0.009980414644146333), (3222, 0.009980028344509539), (1917, 0.009975884031125115), (2351, 0.00996005659695896), (4519, 0.009959556158807122), (1326, 0.0099510026171), (2588, 0.009935626881152472), (4276, 0.009931041390848746), (3688, 0.009929435189194294), (4001, 0.009923162914753638), (365, 0.009922988594368787), (582, 0.009920882783871439), (1133, 0.00992016862158917), (1424, 0.00991146188027066), (1142, 0.009879230376245123), (3281, 0.009874831396452488), (1228, 0.009873783199644085), (1240, 0.009872467502086962), (4702, 0.009870631258781213), (4597, 0.00987031263488802), (4565, 0.00986131847566272), (3190, 0.00985254144118821), (950, 0.009847331768708062), (2866, 0.009844246039263578), (3532, 0.009834408834345727), (4207, 0.009817248142947241), (2865, 0.009811451847751923), (834, 0.009802286159069015), (2312, 0.009797755361133087), (2465, 0.009797231989505228), (3554, 0.009781904335863411), (3340, 0.009766683393804617), (1329, 0.009765804418251565), (1246, 0.00975659811316801), (3837, 0.009753478959950428), (3083, 0.009717946024392108), (4327, 0.009701383472982522), (1803, 0.00970120861208286), (3934, 0.009697674478712762), (415, 0.00969273820440215), (4109, 0.009692172375023476), (1702, 0.0096899456307226), (2140, 0.009638633596356291), (2021, 0.00963015081178902), (2371, 0.009623677446694593), (2120, 0.009619143802276955), (2296, 0.009616953871832428), (4338, 0.009616113604118317), (2979, 0.009606735916609425), (3332, 0.009593441832830998), (1679, 0.009568938899887764), (797, 0.009562219021608375), (4086, 0.009560633822642554), (4253, 0.009556916011434971), (4613, 0.009548689935896635), (1011, 0.009539032801669775), (133, 0.009529146641003315), (3208, 0.009528879933216178), (4173, 0.009514685909403731), (4358, 0.009505907730373204), (2343, 0.009505245951285433), (2562, 0.009473362112191425), (3977, 0.009468323303731822), (1401, 0.009467881867874096), (700, 0.009467317792280805), (990, 0.009464797210985428), (366, 0.009462777406651364), (4460, 0.009462278494969091), (1786, 0.009452152717512353), (2498, 0.009444214381267402), (718, 0.00944345799389755), (3519, 0.009441202253518508), (3144, 0.009423297197900265), (4335, 0.009420989256610507), (1051, 0.00941927484454951), (577, 0.009414937936088516), (3682, 0.009412701286473073), (2905, 0.009412448223835327), (352, 0.009408226085221977), (3333, 0.009386015383072372), (517, 0.00938075351266073), (2156, 0.009379302563991233), (3812, 0.009375416164337881), (4027, 0.009372423366887029), (2660, 0.009357878221549232), (4568, 0.009352866884584555), (3971, 0.009349902309285224), (2135, 0.00934518645528678), (3681, 0.009343313476399846), (3549, 0.009341601310462744), (3592, 0.009322369939977102), (771, 0.009322151337107652), (1517, 0.009315237245421265), (1143, 0.009310952311107578), (2749, 0.009308767860584663), (2836, 0.00930667035583719), (339, 0.009301564027700165), (2460, 0.0092965573631764), (3401, 0.009294751693430315), (2307, 0.009269963824733862), (3805, 0.00926193136007498), (1718, 0.009256287593604296), (2503, 0.009250392997438482), (3106, 0.009240556693547012), (1253, 0.00923976741815354), (2646, 0.009227662843766313), (2665, 0.00922529484224614), (2113, 0.009224496070956007), (1328, 0.009218169354587955), (3265, 0.009214978892299327), (4315, 0.009214773380553732), (2234, 0.009209928245382314), (1883, 0.00920991617404955), (146, 0.009206788400474019), (1189, 0.009205209201417564), (3759, 0.009202598766593536), (2225, 0.009199494262923847), (2458, 0.009198782307970894), (2654, 0.009198333523362115), (3736, 0.00919798070374895), (1820, 0.009191707377907709), (2620, 0.009185476539300545), (3753, 0.009184696438535426), (3034, 0.009177521860201442), (4547, 0.009177243099776456), (1447, 0.009173155535314873), (3838, 0.009172260966123176), (1704, 0.009172200822701721), (3469, 0.009170577953751024), (807, 0.009167352795603864), (1227, 0.009166329262497889), (3202, 0.00915386001176503), (2041, 0.009153620201346009), (3580, 0.009153273788660142), (1596, 0.009143416702565653), (1152, 0.009137664325527152), (1770, 0.009135122930351305), (529, 0.009134400456455055), (747, 0.009126048709777339), (1031, 0.00912300351851273), (1741, 0.009118295243666372), (3442, 0.009113280052774158), (2648, 0.009112796939109411), (2106, 0.009095830885515051), (1766, 0.009091984254234945), (2409, 0.009091339961551499), (3858, 0.00908892046145209), (2921, 0.00908574347957168), (2115, 0.00908549383424673), (1250, 0.00908420796957336), (4388, 0.009083288914308558), (1686, 0.009077363580786545), (4628, 0.009074789485036042), (4031, 0.009072003397764272), (892, 0.009065919353362924), (4279, 0.009065825610412562), (4467, 0.009064989548149677), (2898, 0.009064447197449747), (2793, 0.00906120637786978), (1626, 0.00905881622190979), (1604, 0.00905410054893727), (3808, 0.00905054502668022), (4012, 0.009042889520588623), (1757, 0.009042456370965398), (1180, 0.009037751914353432), (1844, 0.009027526103925937), (1233, 0.009025991452317361), (3648, 0.009020783652359057), (3816, 0.00902065071486774), (1818, 0.009017153958371422), (1926, 0.009016646240956881), (1445, 0.009013688606989305), (1013, 0.009013018077237868), (4556, 0.009007630131566387), (1285, 0.009003679900187238), (3169, 0.008999157994745398), (4493, 0.008996199903483567), (1460, 0.008989131426820882), (2030, 0.008987794195687631), (3790, 0.008985052536028769), (3697, 0.008981867997827879), (1541, 0.008981218850403028), (1715, 0.008978291477266531), (1014, 0.008974912199790241), (1103, 0.008965930230267382), (556, 0.008964255792098336), (2726, 0.00896274671537327), (2877, 0.008957640500601853), (1069, 0.00895726615447985), (2703, 0.00895506922306436), (1600, 0.008954657439779525), (1602, 0.00895033371865684), (2590, 0.00894014510747659), (2243, 0.008933082141379804), (3444, 0.008931960047911563), (2259, 0.008930943530798954), (4185, 0.008930244330785608), (1201, 0.008927654310025407), (3695, 0.008925024997722374), (2118, 0.008915207970566396), (1278, 0.00891340598879439), (2256, 0.008909896033165247), (1673, 0.008907991234199915), (2373, 0.00890619214072194), (3685, 0.008903969744038273), (214, 0.008901909002602158), (3773, 0.008899461084655683), (1106, 0.008898547443102018), (758, 0.008897876321431608), (2516, 0.008897291415211544), (3972, 0.00888405841622095), (3047, 0.008882807973851855), (2227, 0.008882461030375764), (4238, 0.008881632686146052), (2690, 0.008879881637440502), (272, 0.008875820816975992), (3223, 0.008875507903369457), (4662, 0.008871048515557495), (1564, 0.008870377980529691), (3871, 0.00887021763600293), (1056, 0.00886771792570675), (2001, 0.008867067679446986), (1668, 0.00886133432698338), (1159, 0.00886075319851676), (882, 0.008853413906439261), (1353, 0.008848275983420827), (2824, 0.008845829884913406), (3509, 0.008845475436539343), (709, 0.008843574148114632), (3356, 0.00884169028886236), (4324, 0.008831788956992829), (2297, 0.008830340912103704), (859, 0.00882448109319741), (1972, 0.008818043918471678), (3581, 0.008817794776644072), (1097, 0.008814784717587551), (1880, 0.00881425571648951), (2896, 0.00880860853172604), (1767, 0.00880849425831455), (4009, 0.008805832475347525), (3021, 0.00880176514484898), (384, 0.008796484446103462), (1889, 0.008795371603269512), (4676, 0.008790923942129878), (1165, 0.008789804227805453), (4433, 0.008788948107042404), (1151, 0.008786870156694413), (163, 0.008786853000130298), (1441, 0.008785473952625446), (2566, 0.008783036188220038), (995, 0.008777783992787589), (4018, 0.008776004406073786), (3622, 0.00877242941586223), (379, 0.008770565380308883), (1777, 0.008765172316883686), (1166, 0.008765113442439021), (1879, 0.008764999061280806), (4241, 0.008762778545237127), (1269, 0.008762187586046298), (1221, 0.008762019203424875), (4559, 0.008757355529323751), (1556, 0.008745314615014642), (2360, 0.008741641924964499), (4159, 0.008741425848609295), (572, 0.008740606975933757), (702, 0.008739119939049486), (1965, 0.008730569819394303), (4184, 0.008730208879959869), (4583, 0.00872571705289969), (4073, 0.008722869043041334), (3350, 0.00872197659595207), (2510, 0.008720475915855692), (2927, 0.008720336924770282), (2699, 0.008718532307412348), (1636, 0.00871764062822203), (4459, 0.008716663803598743), (4648, 0.008716272244181233), (2414, 0.00871508999396449), (1094, 0.008709885017577947), (699, 0.008705921301834042), (1386, 0.008694987734801707), (650, 0.008690052845405676), (552, 0.008683358319445687), (1525, 0.008679317257264122), (3798, 0.008677075086867117), (1755, 0.008674742834078182), (1906, 0.00867458463544606), (4751, 0.008670620329022403), (3724, 0.008666850960357412), (2342, 0.008663119870046452), (440, 0.00866037749340003), (1515, 0.008655469766050094), (525, 0.008653851397682214), (776, 0.008653127500627389), (3207, 0.00865300206997741), (1190, 0.008652514631421233), (2499, 0.008646955459551424), (1957, 0.008644773630702306), (1101, 0.00864316231982138), (1505, 0.008639589559236296), (2605, 0.008638026164913788), (553, 0.008635478881184669), (3783, 0.008635442280372715), (1039, 0.008628569772759087), (1327, 0.008626145269565403), (748, 0.008624384049693738), (3295, 0.008621003048998427), (1689, 0.008612277320724579), (2125, 0.008609913342519442), (1606, 0.00860738348558035), (3476, 0.008606293277452864), (4128, 0.008604306967313877), (938, 0.008595990344819024), (4404, 0.008592855456249115), (3965, 0.008591198592966164), (1524, 0.008590862828606115), (2806, 0.008589778997025952), (2244, 0.008586927665001406), (881, 0.008586359909716316), (1842, 0.008586323121303321), (773, 0.008581853861727797), (3104, 0.008581819304246896), (4077, 0.008581143109001193), (1022, 0.008571828869234917), (2168, 0.008571461418816173), (3566, 0.008569633618206583), (275, 0.008567770307522204), (2380, 0.008562868569584318), (780, 0.008562290701545537), (2671, 0.008560248566212587), (778, 0.00855992103246861), (971, 0.00855530561687759), (2677, 0.008554571534533527), (1692, 0.008554379156157522), (2160, 0.008553642132422469), (2138, 0.00855122432795921), (2508, 0.00854587009059511), (3864, 0.008534328478130352), (2729, 0.008529498948377848), (4323, 0.008523986493990686), (821, 0.008513220423902413), (3631, 0.008512176531166434), (1720, 0.00850964128638194), (2644, 0.008508173940765555), (1205, 0.008507009851180495), (3181, 0.008505398702787569), (1839, 0.008504036367543044), (2491, 0.008501461303648235), (945, 0.008499426914997178), (4688, 0.008497057523751664), (3467, 0.008495518545922181), (1389, 0.008492954812038362), (3229, 0.00849129730618487), (1126, 0.0084910196547345), (1870, 0.008486319187660421), (1586, 0.008484143671298154), (2843, 0.008480650018867239), (4672, 0.008476173374983895), (536, 0.008474390419992747), (602, 0.008470525789341463), (1532, 0.00846871955708631), (1563, 0.008464499129939613), (1856, 0.008462241250647293), (4509, 0.008460096017185005), (362, 0.00846005382914946), (1751, 0.008455599649556722), (1999, 0.008454615320515039), (1647, 0.008453392298311317), (1196, 0.008453115796776746), (3301, 0.008451430993422847), (110, 0.00845118998486021), (459, 0.008447747536202092), (3395, 0.008444020707421718), (2085, 0.00844168870914373), (454, 0.008440086391137743), (3589, 0.008433977211005578), (131, 0.008431352507897196), (1961, 0.00842869561100611), (768, 0.008426632787696283), (1405, 0.008424703187038692), (141, 0.008423376330051665), (398, 0.008421414578478012), (413, 0.008420892062532126), (2164, 0.008417974714950108), (1496, 0.008417958115118137), (1268, 0.008415722157405795), (2179, 0.00841493619626194), (977, 0.00841398130980189), (1155, 0.0084092781209023), (1913, 0.008409075923305687), (4457, 0.008407282540062228), (601, 0.008405852133598974), (1511, 0.008400676439896079), (1944, 0.008400597159113342), (3914, 0.00839925861751852), (520, 0.008396151557345608), (2150, 0.008394848604045442), (3735, 0.008390527652842063), (1081, 0.00838788666792995), (1769, 0.008385322125106162), (1263, 0.008383914433161948), (2003, 0.008381888456837946), (2906, 0.008381147399513468), (704, 0.008380004568436003), (3726, 0.008379717855265093), (3743, 0.00837757012096349), (3746, 0.008375106905144264), (3461, 0.008372909670478384), (3628, 0.008370664375079648), (4726, 0.008365928597787453), (3244, 0.008363510912867723), (1238, 0.008359802206918362), (1855, 0.008354240643202655), (1734, 0.008350467031649543), (814, 0.008344785138489802), (1239, 0.00834436357004897), (1066, 0.008342263412944816), (3193, 0.008341827078667517), (1899, 0.008335822717864254), (3061, 0.008335802265042465), (258, 0.008334111524540878), (3164, 0.008331030052114913), (1287, 0.008327408390465127), (2291, 0.00832571177171397), (4671, 0.008318198749402192), (3098, 0.008317747627120016), (477, 0.008316013252749405), (2880, 0.008313183306876732), (1834, 0.008312869178983266), (237, 0.008310181702242), (2958, 0.008309804899077), (3722, 0.008307657669628208), (58, 0.008293807302607434), (188, 0.008292055911796426), (4278, 0.008284850894188598), (2835, 0.008281556918640545), (958, 0.008280247343914863), (1288, 0.008276835890925208), (1235, 0.00827655569081435), (1501, 0.008275296598504917), (506, 0.008272880802508834), (2885, 0.008269193101219966), (1824, 0.008268147962770318), (3141, 0.008262407271330253), (4482, 0.00825850341753456), (583, 0.008256090053560212), (1490, 0.008255046347622273), (4294, 0.008248807011393196), (1089, 0.008246970406437036), (49, 0.008246201247201471), (3591, 0.008245028371718165), (3107, 0.008241429289942556), (4346, 0.008239403944786478), (427, 0.008237930928607383), (2262, 0.008236230994628694), (2145, 0.008235370281052734), (591, 0.008232232612081496), (2799, 0.008226600775319594), (2439, 0.00822643705230144), (3048, 0.008221684172451635), (1028, 0.00822125440275455), (1222, 0.008217433220261479), (1473, 0.008215843137744056), (2462, 0.008208837079732082), (1113, 0.008206753380378018), (965, 0.008206110756225937), (1836, 0.008204384946141563), (225, 0.008202517836049836), (3459, 0.008201342177974037), (2177, 0.008199808304507117), (3457, 0.008199645983446462), (2274, 0.008190339359767311), (4683, 0.008189560257121462), (1085, 0.008179757334420088), (1265, 0.008179280185071096), (656, 0.008178081415282817), (1374, 0.0081752973452702), (2090, 0.008174264871380706), (3718, 0.008173923712840935), (1640, 0.00816952761695359), (1745, 0.008162660074494881), (1156, 0.008159881093440074), (4212, 0.008159693509580858), (3033, 0.008156761287688843), (1726, 0.008144757166682847), (2341, 0.008140924192740675), (1725, 0.00813940561660869), (4234, 0.008139244475293142), (3006, 0.00813801892333783), (1956, 0.00813731441570183), (35, 0.008134671740752277), (3929, 0.00813346237418373), (1193, 0.008132235171179064), (4367, 0.008129137440820078), (1467, 0.008128591453799124), (486, 0.008128498801805557), (2938, 0.00812651804123942), (13, 0.008122706285141935), (101, 0.008120714189060317), (1578, 0.008119473582579034), (2856, 0.008118645928051442), (335, 0.008118504698119384), (1911, 0.008118078081454202), (2377, 0.008116825133489517), (4690, 0.008116669496515235), (3522, 0.008116107200864682), (3539, 0.008111044375897429), (1783, 0.008109257803034432), (1522, 0.008106089327547283), (2369, 0.008104883206289626), (610, 0.008103695687678653), (3595, 0.008103159743080167), (2058, 0.008102293694984393), (1091, 0.008099760866962714), (1592, 0.00809834051155543), (555, 0.008091657305263122), (1172, 0.008089730859762674), (401, 0.008085780167076898), (786, 0.008080973397685114), (3543, 0.008078539619715344), (4210, 0.008075184957232645), (491, 0.00807378356561896), (3940, 0.008073766317123275), (822, 0.008071334966454203), (340, 0.008070096849281616), (554, 0.008068182037491966), (4303, 0.00806805567389661), (1599, 0.008064567001245347), (4716, 0.008062330337516488), (1016, 0.008061778015728934), (4675, 0.00806176367070199), (3632, 0.00805949033528653), (1577, 0.00805938506538783), (3690, 0.008055514563836923), (4569, 0.008055395282076846), (302, 0.008053194704981722), (592, 0.00805236171246419), (177, 0.008051656820780385), (1316, 0.008048071582198332), (671, 0.00804300635437805), (3197, 0.008042994850499516), (22, 0.008042802840793197), (3368, 0.008041642521930521), (3023, 0.008040315571889087), (4022, 0.008039501795036508), (1512, 0.008037884273914279), (677, 0.008033964935807658), (1894, 0.008033335148388068), (4224, 0.008033220565193514), (1863, 0.008031561328954176), (1775, 0.008031138969458528), (3533, 0.008029445375848945), (57, 0.008029401938228044), (1584, 0.00802762074414154), (4272, 0.0080259907509137), (4181, 0.008024795716603958), (1928, 0.008023948981924885), (3068, 0.00802381334601352), (1778, 0.00802301327335714), (1171, 0.008017667840454485), (1195, 0.008005390443595922), (3982, 0.008004394465500803), (2750, 0.008001455887881757), (1618, 0.008000530943918645), (840, 0.008000155987713697), (2704, 0.007997821025944117), (1800, 0.007992068790284378), (1903, 0.007988018557885371), (3825, 0.007986128635986266), (3073, 0.007984518287267262), (2298, 0.007979113816436598), (1589, 0.0079784735912772), (3943, 0.007978178598321051), (2081, 0.00797612563881218), (1714, 0.007973568544994694), (1256, 0.007973117686468134), (2233, 0.007972356073949728), (3002, 0.007972167163463977), (1105, 0.007967961780878614), (299, 0.00796697647369929), (297, 0.007966734655424355), (772, 0.007962107535166626), (720, 0.007960701392004074), (363, 0.007960669632621025), (1868, 0.007959496971315119), (913, 0.007953450013124232), (2813, 0.007953441027812227), (17, 0.007951094978243626), (713, 0.007945993278645855), (3998, 0.007943483379747792), (3530, 0.00794223232606401), (674, 0.007935585085256951), (232, 0.00793540393734775), (1038, 0.007935206542905346), (3063, 0.007933247398814508), (663, 0.007929064075511994), (4421, 0.007928023362360195), (53, 0.00792769951869265), (2497, 0.007926910424290837), (3077, 0.007925226495329344), (2693, 0.007921326478881488), (59, 0.00791880452601435), (1, 0.00791877420361625), (4456, 0.007918533650252933), (4072, 0.00791031708445146), (1750, 0.007908508934357189), (1731, 0.007908172145225545), (3287, 0.007908060053893166), (4168, 0.007906153834110122), (1333, 0.007905338144966315), (4180, 0.007901424967765865), (1470, 0.007898109686902596), (186, 0.007898020819258923), (603, 0.007893242618033904), (4146, 0.007892763758431651), (2272, 0.007892397627907125), (2708, 0.007888391344911795), (1823, 0.00788759539225295), (4447, 0.007883232266314669), (686, 0.00788212855053783), (819, 0.0078800453752243), (3305, 0.007879623132704365), (1296, 0.00786560948412051), (3105, 0.007865251377343448), (1157, 0.007864546088382674), (599, 0.007860731297169982), (4453, 0.007860705966757895), (3378, 0.007860325434665227), (2002, 0.007860236579066543), (257, 0.007858857262381358), (301, 0.007858733813637189), (1376, 0.007857098411108102), (219, 0.007855254763855674), (1291, 0.007855112384917502), (393, 0.0078510687684544), (394, 0.007846856193487815), (3879, 0.007844162021163035), (568, 0.007842557679280528), (298, 0.007841076347752846), (2372, 0.00784087584265562), (557, 0.007840426228608414), (1200, 0.007837597967870895), (983, 0.007837563600959909), (585, 0.00783685123469248), (3994, 0.007836694163627565), (2586, 0.007836368476477227), (1062, 0.00783360975101164), (245, 0.007832878779878434), (230, 0.007831141609769492), (3250, 0.007827774959760442), (4112, 0.007826901008163772), (4437, 0.007825868765532675), (1825, 0.00782423311769848), (835, 0.007819357716828589), (1737, 0.007816933099693462), (746, 0.00781507207753854), (2435, 0.007813918588767586), (423, 0.007810403790592249), (4682, 0.007808509381192994), (4110, 0.0078072998133792305), (1611, 0.007807203237954365), (1336, 0.007806971097033872), (1756, 0.007805928940692578), (1130, 0.0078018006461054055), (3870, 0.007798100451212845), (3872, 0.007796546291572703), (2028, 0.007795569723008635), (1425, 0.007792729564551435), (1111, 0.007789152692856042), (2445, 0.007788205240891756), (784, 0.0077880211049645345), (3080, 0.007787857960428105), (361, 0.007783327301404193), (3494, 0.0077773580857797425), (2551, 0.007774153573538063), (1603, 0.007773473467475628), (1802, 0.00777257397528151), (2022, 0.007762088189984253), (1491, 0.007762082604178976), (1046, 0.007756324042134761), (2124, 0.007753592078305827), (820, 0.007747931214836554), (2615, 0.007746489720799372), (2450, 0.007744274860543749), (2017, 0.00774298697117903), (3717, 0.007741463842742113), (4097, 0.007738523339451787), (785, 0.007737949277641638), (1358, 0.007737440492210334), (3603, 0.0077353136882296345), (2056, 0.007734944520282916), (2578, 0.007733958442285704), (1212, 0.007733863248362878), (741, 0.007732215164612156), (812, 0.007732190981645171), (2171, 0.007730038834541006), (3991, 0.007721296372139341), (4195, 0.007719134831491286), (3319, 0.007717787125129806), (789, 0.0077169383245042755), (3121, 0.00771549141365116), (3482, 0.007711340668926118), (2514, 0.007710924846193753), (2009, 0.00770787599118879), (549, 0.007706834796311112), (1468, 0.007703783725354477), (1835, 0.007703497140091291), (770, 0.007701801955977394), (2033, 0.007700262428472784), (4100, 0.0076997133505527), (2930, 0.007697315176950033), (4305, 0.007696839488740798), (4055, 0.007694219936355435), (574, 0.007689578937695462), (2666, 0.00768624643062525), (2575, 0.007686084244120981), (4588, 0.007683369070779391), (3209, 0.007678613045703554), (1644, 0.007674893187083036), (1242, 0.0076737324235864515), (2594, 0.007669023078760495), (1093, 0.007668105387419327), (1045, 0.007666834552291028), (1849, 0.0076661491357877375), (3968, 0.007659768796043284), (1948, 0.007652299240861258), (2167, 0.007645523938862521), (4114, 0.007641130897841972), (37, 0.007634936679040943), (567, 0.007632787349109816), (2358, 0.0076311820589502494), (1979, 0.0076281386426435985), (265, 0.007624201986786441), (56, 0.007620795878049421), (1935, 0.0076143454775889465), (2098, 0.007612191560881313), (2215, 0.007609571052258762), (4041, 0.00760868715336472), (171, 0.007601882607609105), (2064, 0.0075981524994380364), (4609, 0.0075973230163812475), (662, 0.00759478666925347), (1090, 0.0075912333066798605), (2408, 0.007586182301604997), (3366, 0.007585968852820448), (4188, 0.007584257541114841), (3937, 0.00758383649938991), (3563, 0.007582620660362762), (4191, 0.007578632530451742), (2157, 0.0075781611029313595), (392, 0.007577869236490473), (2205, 0.007574942001332985), (3958, 0.00757083139501004), (1697, 0.00756875439391474), (264, 0.0075679642775593), (1746, 0.00756636673842079), (2052, 0.007564654430199192), (4478, 0.007561484455960823), (1579, 0.00756121776221623), (4063, 0.007559576215776836), (1508, 0.007559401853753518), (1955, 0.007558902157985075), (4596, 0.0075559241103186625), (2042, 0.007554797550059251), (3840, 0.007554074644315274), (730, 0.007552226950657436), (1867, 0.0075514528380171645), (2732, 0.0075509176580221314), (4351, 0.007550150803541126), (1095, 0.0075449539990531025), (4029, 0.007542961712636224), (724, 0.007542670702465882), (439, 0.007542577386105942), (19, 0.0075404656375053876), (4218, 0.007539892804668987), (3979, 0.0075396600221268395), (725, 0.007539125229626794), (231, 0.00753794680198005), (1794, 0.0075375833389643085), (1581, 0.007534782396475045), (2935, 0.007534195692516683), (2183, 0.0075330614474740445), (2128, 0.007530914162979839), (3454, 0.007525495988208416), (2050, 0.007523647020476018), (405, 0.007522640013826475), (3114, 0.007522278247762804), (4037, 0.007517736538498276), (2327, 0.007514322683025502), (3310, 0.007509711518685758), (2315, 0.00750789088474634), (3132, 0.007507006722458546), (4342, 0.007505331704068129), (1639, 0.007503204975766569), (1974, 0.007496933194646666), (259, 0.007491569007426521), (2200, 0.007489049748605037), (4260, 0.007488634836658126), (3803, 0.007488457535716727), (1010, 0.007488256883279848), (390, 0.007487162860382985), (4564, 0.0074852890664781286), (1521, 0.007484218525814318), (2472, 0.007479669289194737), (155, 0.00747680156360303), (383, 0.007472109976885594), (1994, 0.007471909656103858), (2828, 0.007471245116746664), (1915, 0.007465981699747647), (3480, 0.007464828707497151), (926, 0.007463801559605665), (3463, 0.007462936159275153), (2542, 0.007462795154126309), (55, 0.007459260972003112), (3662, 0.007458656661665154), (2007, 0.007457224816718657), (1804, 0.007453892293338147), (2046, 0.007453216021319735), (1218, 0.007452556039151272), (4406, 0.007450585325329445), (752, 0.0074481483872907445), (1607, 0.007447673577380395), (665, 0.007447066016229699), (1198, 0.007441328664272651), (2850, 0.00744097343234738), (615, 0.00743689689416974), (3008, 0.007431477013455359), (4373, 0.007429202598588176), (2006, 0.0074274548667710594), (185, 0.007421912783633414), (1908, 0.007420957813078144), (404, 0.007415548598682824), (4153, 0.007413385832653668), (2662, 0.007412177476474626), (4070, 0.0074096487364303), (2175, 0.0074087812619028914), (3887, 0.007408663840677747), (912, 0.007406230785612418), (2955, 0.0074002131491214245), (956, 0.007398406282846225), (1850, 0.007398005416779516), (263, 0.007396722909870473), (2170, 0.0073957662452735235), (2770, 0.007393474346631632), (2153, 0.007391473704692602), (2639, 0.0073912643731370315), (2107, 0.007389753014687349), (1709, 0.007386728805934019), (3568, 0.007386364983584692), (4738, 0.0073861992304586985), (1147, 0.007385499028524511), (521, 0.007385202991459009), (1361, 0.007382741167873692), (1274, 0.007380136836599438), (4542, 0.007368104935249679), (3462, 0.007366699160860843), (2713, 0.00736599385889225), (4600, 0.007363783102598029), (546, 0.007359210762190293), (1283, 0.007353779056238536), (1297, 0.007351467077298474), (2025, 0.0073511639412393226), (54, 0.007350490374729089), (2691, 0.007346660467969199), (2398, 0.007336346336003007), (344, 0.007331225284295686), (3490, 0.007330476684505861), (2950, 0.007328106859384542), (3633, 0.007326852985695641), (36, 0.007324012658727205), (4314, 0.007323600713058209), (2822, 0.007320778040858564), (3750, 0.007320414937606104), (2345, 0.0073157899677849594), (2688, 0.007310661761459872), (909, 0.007303726919649773), (151, 0.007301876766875669), (573, 0.007301158117494072), (4297, 0.007300130835487528), (1841, 0.007298608784649661), (2827, 0.007297800011895643), (312, 0.007296009505295504), (2220, 0.007293862862792714), (4008, 0.007293345570765997), (2100, 0.007293063068757042), (3286, 0.007291881219646443), (600, 0.0072912037690762484), (331, 0.0072901958747137174), (2202, 0.007284079592553502), (3609, 0.007282944550734469), (1029, 0.00727145656261835), (4099, 0.007267341636815653), (763, 0.007264646614359299), (1529, 0.007260792778037203), (492, 0.00725936319831259), (73, 0.007254485161970942), (150, 0.007250667522495898), (134, 0.00724564086476678), (3859, 0.007244808342464943), (1771, 0.007238545253669378), (846, 0.007235598396520293), (4236, 0.007235514095717986), (3716, 0.007221823238491156), (376, 0.00721828795481486), (411, 0.007217234458449508), (1646, 0.007212371020559027), (1787, 0.007211098367058848), (2811, 0.007210431457594042), (2608, 0.007208239461952751), (336, 0.007202890813457544), (1651, 0.007202592354433398), (2685, 0.007198171564931587), (28, 0.00719680859492316), (75, 0.007195749305917142), (2086, 0.007192740576921885), (1244, 0.0071874964552331565), (1654, 0.007185529642307608), (2523, 0.007175934884124987), (386, 0.007175864506252745), (1086, 0.007173781578027963), (1988, 0.007167781683762375), (1729, 0.007167571324512693), (4498, 0.007167430792641205), (1557, 0.0071637071798225545), (2239, 0.007143787034301247), (4417, 0.0071426588923579155), (248, 0.007139033374961749), (3698, 0.007132933290702917), (3836, 0.007132415137745193), (64, 0.007131971459642002), (3785, 0.007131094198560256), (1487, 0.0071285091158397144), (2681, 0.007127611621489805), (3650, 0.007123532866392869), (1453, 0.0071226800065725005), (1373, 0.0071218130625450215), (1545, 0.007107066924943561), (91, 0.007104257652210034), (1810, 0.0071035702612345375), (2762, 0.007102694967317907), (1963, 0.007101899434015539), (2092, 0.007094481201132355), (3562, 0.007094469873922407), (3693, 0.007091952536355841), (586, 0.0070696265784936894), (3189, 0.007067025711444697), (528, 0.007065157056906189), (1139, 0.007064273686859655), (1108, 0.007063833181131816), (414, 0.0070580867732462724), (2589, 0.007055009877896928), (117, 0.007053188794618597), (3644, 0.007041218388733142), (1561, 0.007040027955175767), (3528, 0.007039190005902869), (4532, 0.007037810658021636), (168, 0.0070295412999537114), (4300, 0.007017487605210494), (3573, 0.0070169654092338656), (3818, 0.007016400000647974), (1399, 0.007015750307877362), (3288, 0.007015129405281638), (1837, 0.007010126744323214), (1912, 0.007008788697252466), (1638, 0.007008591223264058), (3559, 0.007008163395184872), (2043, 0.007007389638809402), (2352, 0.007003796462794682), (2020, 0.0070019870579186416), (14, 0.007001531456037885), (1346, 0.006998539443289221), (1932, 0.006986394276191382), (338, 0.006981010575335355), (1055, 0.006979592521794576), (2574, 0.006967002862013729), (223, 0.0069620460720402535), (3847, 0.006960328275189719), (1966, 0.006952835196087968), (3201, 0.006952087418743053), (3567, 0.00695156640117894), (1552, 0.0069485684567848136), (1657, 0.006947258587800929), (1569, 0.006941714298865899), (2095, 0.00693738133202049), (1649, 0.006937312376704825), (300, 0.006936590853802698), (4353, 0.006936237755273596), (1341, 0.006930217526937581), (2019, 0.006927065944284409), (1549, 0.0069232076632036055), (1073, 0.006922857207955916), (4405, 0.006912544675705262), (2364, 0.006910483165589296), (1315, 0.0069102634807009945), (649, 0.006898969240129447), (1795, 0.006883515826100006), (1342, 0.006878549332994579), (1684, 0.0068694698162218085), (1728, 0.006862611570769259), (1149, 0.006862466413318471), (3885, 0.0068580247678690035), (3865, 0.0068554132328034435), (2038, 0.006847641484606074), (2471, 0.006841954448391849), (3738, 0.006838575853319349), (1025, 0.006835947306330893), (3709, 0.006835090400217739), (2331, 0.006820737612389973), (1310, 0.006812909427764459), (2823, 0.006800085821508912), (2431, 0.006790676446607052), (3138, 0.0067831109153491664), (3700, 0.006779453484955844), (2071, 0.006772969097081118), (964, 0.006772583991666163), (2018, 0.006765393808507682), (1067, 0.006764880780571655), (2867, 0.006758238339837743), (4577, 0.006756640072267827), (4217, 0.006747833104593447), (3861, 0.0067475051216830855), (4558, 0.006739806380877745), (1652, 0.006736965558010971), (954, 0.006725317407876507), (3923, 0.00671760427126443), (978, 0.006707266151945148), (1457, 0.00669652315431868), (1299, 0.006692563911886696), (1307, 0.0066904072610103225), (1895, 0.006687486013173592), (2616, 0.006686581314350392), (3948, 0.006684399769382293), (3550, 0.006682455503325406), (130, 0.00668078362394291), (3058, 0.006679073299914356), (9, 0.00667237206174881), (2294, 0.006668334763517287), (2036, 0.00666774273641887), (3066, 0.006662017243617966), (1368, 0.006643970203524037), (1135, 0.006640049802364551), (1698, 0.0066369969447622815), (2641, 0.006634062484978557), (382, 0.0066321250205735975), (4439, 0.006615629268971598), (3309, 0.006614325759762115), (1888, 0.0066044425141657676), (1676, 0.0065970267932186815), (1482, 0.006595246568624501), (535, 0.006588466422221962), (2152, 0.006581939060261102), (2, 0.006556731621586721), (3598, 0.006544319857380736), (1978, 0.006532759434124997), (714, 0.006526959007523507), (1293, 0.006516462031572164), (409, 0.006509164044486215), (545, 0.006504810455215181), (972, 0.006504460387985302), (3732, 0.006499159496077402), (1444, 0.006495645147656343), (2114, 0.006492210874693238), (2804, 0.0064909196229688704), (961, 0.00648934005953437), (920, 0.006487847978062055), (1492, 0.00648215047682521), (319, 0.006478900655743056), (565, 0.0064753857302582915), (2718, 0.006450519970831923), (2204, 0.006446144426435738), (4385, 0.006442846253741921), (943, 0.006435252669126016), (1664, 0.0064286297450206215), (2548, 0.0064109472439420456), (1752, 0.006406709354466558), (1249, 0.00640350901160591), (906, 0.006392206602680724), (1354, 0.006378180454837375), (3909, 0.006378056655265115), (1610, 0.006374209291061418), (2596, 0.006371544115217396), (1008, 0.00636200651854546), (2584, 0.00634709934137271), (3630, 0.006334777013385578), (4759, 0.006332773613946447), (3270, 0.006308535012307864), (2805, 0.006304871410909274), (1495, 0.006287134554516549), (3786, 0.006286676927280235), (337, 0.006272395035129684), (3411, 0.006268984621820696), (1523, 0.006185208118034559), (2005, 0.0061633165597530844), (618, 0.00616318284960481), (3320, 0.006156141830271224), (2627, 0.006153582763530943), (3485, 0.006135245515417631), (2366, 0.006134844272902763), (538, 0.006104134721631937), (2517, 0.006097567824913195), (2161, 0.006077703927453772), (4667, 0.0060697849987471604), (2329, 0.006068303435226994), (648, 0.0060656198752940494), (2539, 0.006041798563708075), (1331, 0.0060091154369367565), (1323, 0.005955823695077529), (4745, 0.005940206941315368), (2842, 0.005935455929612806), (3916, 0.005894127193564653), (4647, 0.005893704192748567), (3397, 0.005836109053336848), (575, 0.0058318450000586775), (3481, 0.005779196613954255), (2389, 0.0057648064997914954), (2059, 0.005727958562286121), (4186, 0.005720977914466019), (3212, 0.00570754289869449), (3574, 0.005687273952960273), (2686, 0.005684517876070367), (3980, 0.005680798318823962), (3525, 0.005650007108741429), (2774, 0.005563468462867828), (4035, 0.0055225443174260706), (1485, 0.005520844065625254), (421, 0.005391628672938123), (726, 0.005347393329153257), (3231, 0.0053355350374746265), (1418, 0.005269116835373319), (1695, 0.0051656917210445765), (4414, 0.0051639999062807265), (4415, 0.005143863277514295), (1938, 0.0051161692627146975), (1289, 0.005065623527537354), (1535, 0.005025308060976015), (3205, 0.004537649402119431)]\n"
          ]
        }
      ]
    },
    {
      "cell_type": "code",
      "source": [
        "# print the name of similar movies based on the index\n",
        "\n",
        "print('Top 10 Movies Suggested for You: \\n')\n",
        "i = 1\n",
        "for movie in Sorted_Similar_Movies:\n",
        "  index = movie[0]\n",
        "  title_from_index = df[df.index == index]['Movie_Title'].values[0]\n",
        "  if (i < 31):\n",
        "    print(i, '.', title_from_index)\n",
        "    i += 1"
      ],
      "metadata": {
        "colab": {
          "base_uri": "https://localhost:8080/"
        },
        "id": "5IALUmx2eQzT",
        "outputId": "f0dd16b1-7d70-4d3f-b96b-3f22435a0707"
      },
      "execution_count": 41,
      "outputs": [
        {
          "output_type": "stream",
          "name": "stdout",
          "text": [
            "Top 10 Movies Suggested for You: \n",
            "\n",
            "1 . Niagara\n",
            "2 . Harry Brown\n",
            "3 . Welcome to the Sticks\n",
            "4 . Eye for an Eye\n",
            "5 . Back to the Future\n",
            "6 . The Curse of Downers Grove\n",
            "7 . Enough\n",
            "8 . The Lost Weekend\n",
            "9 . N-Secure\n",
            "10 . The Son of No One\n",
            "11 . Compliance\n",
            "12 . Zulu\n",
            "13 . Blood Ties\n",
            "14 . Dutch Kills\n",
            "15 . Adulterers\n",
            "16 . Z Storm\n",
            "17 . The Raid\n",
            "18 . In Too Deep\n",
            "19 . Faster\n",
            "20 . House of D\n",
            "21 . Kung Fu Hustle\n",
            "22 . Better Luck Tomorrow\n",
            "23 . Ajami\n",
            "24 . Deadline - U.S.A.\n",
            "25 . Blood Done Sign My Name\n",
            "26 . El Rey de Najayo\n",
            "27 . Water & Power\n",
            "28 . Black Water Transit\n",
            "29 . Butterfly on a Wheel\n",
            "30 . The Swindle\n"
          ]
        }
      ]
    },
    {
      "cell_type": "markdown",
      "source": [
        "## Top 10 Movie Recommendation System"
      ],
      "metadata": {
        "id": "FVpd0P5fiI9S"
      }
    },
    {
      "cell_type": "code",
      "source": [
        "Movie_Name = input('Enter Your favourite movie name: ')\n",
        "list_of_all_titles = df['Movie_Title'].tolist()\n",
        "Find_Close_Match = difflib.get_close_matches(Movie_Name, list_of_all_titles)\n",
        "Close_Match = Find_Close_Match[0]\n",
        "Index_of_Movie = df[df.Movie_Title == Close_Match]['Movie_ID'].values[0]\n",
        "Recommendation_Score = list(enumerate(Similarity_Score[Index_of_Movie]))\n",
        "sorted_similar_movies = sorted(Recommendation_Score, key = lambda x:x[1], reverse = True)\n",
        "print('Top 10 Movies suggested for you: \\n')\n",
        "i= 1\n",
        "for movie in sorted_similar_movies:\n",
        "  index = movie[0]\n",
        "  title_from_index = df[df.Movie_ID == index]['Movie_Title'].values\n",
        "  if(i<11):\n",
        "    print(i, '.', title_from_index)\n",
        "    i += 1"
      ],
      "metadata": {
        "colab": {
          "base_uri": "https://localhost:8080/"
        },
        "id": "hp8hf879eQw9",
        "outputId": "2bda9991-de72-43b9-d3c2-27fc9285588a"
      },
      "execution_count": 42,
      "outputs": [
        {
          "output_type": "stream",
          "name": "stdout",
          "text": [
            "Enter Your favourite movie name: avtaar\n",
            "Top 10 Movies suggested for you: \n",
            "\n",
            "1 . ['Avatar']\n",
            "2 . ['Precious']\n",
            "3 . ['Jumper']\n",
            "4 . ['Bright Lights, Big City']\n",
            "5 . ['Run Lola Run']\n",
            "6 . ['The Opposite Sex']\n",
            "7 . ['Gerry']\n",
            "8 . ['Case 39']\n",
            "9 . ['Mooz-lum']\n",
            "10 . ['We Bought a Zoo']\n"
          ]
        }
      ]
    }
  ]
}